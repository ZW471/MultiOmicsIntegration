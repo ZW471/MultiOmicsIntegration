{
 "cells": [
  {
   "cell_type": "code",
   "execution_count": 1,
   "id": "df2d0222",
   "metadata": {
    "ExecuteTime": {
     "end_time": "2025-03-19T22:14:30.715101Z",
     "start_time": "2025-03-19T22:14:30.694515Z"
    }
   },
   "outputs": [],
   "source": [
    "%load_ext autoreload\n",
    "%autoreload 2\n",
    "import sys\n",
    "import os\n",
    "sys.path.append(os.path.abspath(\"..\"))"
   ]
  },
  {
   "cell_type": "code",
   "execution_count": 2,
   "id": "7f3f1e4c",
   "metadata": {
    "ExecuteTime": {
     "end_time": "2025-03-19T22:14:33.903505Z",
     "start_time": "2025-03-19T22:14:31.301513Z"
    }
   },
   "outputs": [],
   "source": [
    "import torch\n",
    "import scanpy as sc"
   ]
  },
  {
   "cell_type": "code",
   "execution_count": 3,
   "id": "3b0cfb0c",
   "metadata": {
    "ExecuteTime": {
     "end_time": "2025-03-19T22:14:47.811799Z",
     "start_time": "2025-03-19T22:14:47.762734Z"
    }
   },
   "outputs": [],
   "source": [
    "DATASET_NAME = \"LUNG-CITE\"\n",
    "BASE_DATA_DIR = os.path.join(\"..\", \"datasets\", \"data\", \"processed\")  \n",
    "DEVICE = torch.device('cuda' if torch.cuda.is_available() else 'cpu')\n",
    "import random\n",
    "import numpy as np\n",
    "random.seed(42)\n",
    "np.random.seed(42)\n",
    "torch.manual_seed(42)\n",
    "if torch.cuda.is_available():\n",
    "    torch.cuda.manual_seed_all(42)\n",
    "    torch.backends.cudnn.deterministic = True\n",
    "    torch.backends.cudnn.benchmark = False"
   ]
  },
  {
   "cell_type": "code",
   "execution_count": 4,
   "id": "a2069d86",
   "metadata": {
    "ExecuteTime": {
     "end_time": "2025-03-19T22:14:53.792140Z",
     "start_time": "2025-03-19T22:14:48.559652Z"
    }
   },
   "outputs": [
    {
     "name": "stderr",
     "output_type": "stream",
     "text": [
      "c:\\Users\\sonia\\anaconda3\\envs\\MultiOmicsIntegration\\Lib\\site-packages\\scanpy\\preprocessing\\_normalization.py:234: UserWarning: Some cells have zero counts\n",
      "  warn(UserWarning(\"Some cells have zero counts\"))\n",
      "c:\\Users\\sonia\\anaconda3\\envs\\MultiOmicsIntegration\\Lib\\site-packages\\scanpy\\preprocessing\\_highly_variable_genes.py:251: UserWarning: If you pass `n_top_genes`, all cutoffs are ignored.\n",
      "  warnings.warn(msg, UserWarning)\n",
      "c:\\Users\\sonia\\anaconda3\\envs\\MultiOmicsIntegration\\Lib\\site-packages\\scanpy\\preprocessing\\_scale.py:318: UserWarning: Received a view of an AnnData. Making a copy.\n",
      "  view_to_actual(adata)\n"
     ]
    }
   ],
   "source": [
    "from utils.data_utils import dataset_config, load_dataset\n",
    "\n",
    "hetero_data, data_dict = load_dataset(DATASET_NAME, BASE_DATA_DIR, DEVICE)"
   ]
  },
  {
   "cell_type": "code",
   "execution_count": 5,
   "id": "54add7c2",
   "metadata": {
    "ExecuteTime": {
     "end_time": "2025-03-19T22:14:56.617382Z",
     "start_time": "2025-03-19T22:14:56.352283Z"
    }
   },
   "outputs": [],
   "source": [
    "from utils.graph_utils import (\n",
    "    calculate_modality_jaccard,\n",
    "    plot_degree_distributions,\n",
    "    plot_modality_umaps\n",
    ")\n",
    "import matplotlib.pyplot as plt\n",
    "\n",
    "def visualize_individual_metrics(hetero_data, data_dict, config):\n",
    "    \"\"\"Visualize per-modality graph metrics using utils\"\"\"\n",
    "    modalities = config[\"modalities\"]\n",
    "    \n",
    "    # Calculate and print Jaccard scores\n",
    "    jaccard_results = {\n",
    "        m: calculate_modality_jaccard(hetero_data['cell', m, 'cell'].edge_index)\n",
    "        for m in modalities\n",
    "    }\n",
    "    print(\"Neighborhood Consistency Scores:\")\n",
    "    for mod, score in jaccard_results.items():\n",
    "        print(f\"- {mod}: {score:.3f}\")\n",
    "    \n",
    "    # Plot distributions\n",
    "    plot_degree_distributions(hetero_data, modalities)\n",
    "    plot_modality_umaps(data_dict, modalities)\n",
    "    \n",
    "    plt.show()\n",
    "\n",
    "# visualize_individual_metrics(hetero_data, data_dict, dataset_config[DATASET_NAME]) - run if you want to see metrics for individual modalities"
   ]
  },
  {
   "cell_type": "code",
   "execution_count": 6,
   "id": "334d31ec",
   "metadata": {
    "ExecuteTime": {
     "end_time": "2025-03-19T21:19:45.997972Z",
     "start_time": "2025-03-19T21:19:45.994926Z"
    }
   },
   "outputs": [
    {
     "name": "stdout",
     "output_type": "stream",
     "text": [
      "2.5.1\n",
      "12.4\n"
     ]
    }
   ],
   "source": [
    "import torch\n",
    "print(torch.__version__)          # e.g., 2.0.1\n",
    "print(torch.version.cuda)         # e.g., 11.7 (or \"None\" for CPU-only)"
   ]
  },
  {
   "cell_type": "code",
   "execution_count": 7,
   "id": "62ed527c",
   "metadata": {
    "ExecuteTime": {
     "end_time": "2025-03-19T21:19:46.389253Z",
     "start_time": "2025-03-19T21:19:46.385854Z"
    }
   },
   "outputs": [
    {
     "name": "stdout",
     "output_type": "stream",
     "text": [
      "2.5.1\n",
      "True\n",
      "12.4\n"
     ]
    }
   ],
   "source": [
    "import torch\n",
    "print(torch.__version__)          # PyTorch version\n",
    "print(torch.cuda.is_available())  # Should return True if CUDA is available\n",
    "print(torch.version.cuda)         # CUDA version (e.g., 11.7)"
   ]
  },
  {
   "cell_type": "code",
   "execution_count": 8,
   "id": "initial_id",
   "metadata": {
    "ExecuteTime": {
     "end_time": "2025-03-19T22:15:16.898791Z",
     "start_time": "2025-03-19T22:15:16.070334Z"
    },
    "collapsed": true
   },
   "outputs": [
    {
     "name": "stdout",
     "output_type": "stream",
     "text": [
      "['ADT', 'RNA']\n"
     ]
    },
    {
     "data": {
      "text/plain": [
       "{'ADT': AnnData object with n_obs × n_vars = 10470 × 52\n",
       "     obs: 'orig.ident', 'nCount_RNA', 'nFeature_RNA', 'tissue', 'group', 'volume', 'sampleID', 'celltype', 'nCount_ADT', 'nFeature_ADT'\n",
       "     var: 'count', 'percentile', 'vst.mean', 'vst.variance', 'vst.variance.expected', 'vst.variance.standardized', 'vst.variable'\n",
       "     obsm: 'X_apca'\n",
       "     varm: 'APCA',\n",
       " 'RNA': AnnData object with n_obs × n_vars = 10470 × 3000\n",
       "     obs: 'orig.ident', 'nCount_RNA', 'nFeature_RNA', 'tissue', 'group', 'volume', 'sampleID', 'celltype', 'nCount_ADT', 'nFeature_ADT'\n",
       "     var: 'vst.mean', 'vst.variance', 'vst.variance.expected', 'vst.variance.standardized', 'vst.variable'\n",
       "     obsm: 'X_pca'\n",
       "     varm: 'PCs'}"
      ]
     },
     "execution_count": 8,
     "metadata": {},
     "output_type": "execute_result"
    }
   ],
   "source": [
    "import scanpy as sc\n",
    "\n",
    "modalities = dataset_config[DATASET_NAME][\"modalities\"]\n",
    "print(modalities)\n",
    "\n",
    "data = {}\n",
    "\n",
    "for modality in modalities:\n",
    "    data[modality] = sc.read_h5ad(f\"./../datasets/data/processed/{DATASET_NAME}_{modality}.h5ad\")\n",
    "\n",
    "cell_metadata = data[modalities[0]].obs.copy()\n",
    "\n",
    "data"
   ]
  },
  {
   "cell_type": "code",
   "execution_count": 9,
   "id": "74954b8bf8d1f4d9",
   "metadata": {
    "ExecuteTime": {
     "end_time": "2025-03-19T21:03:24.572042Z",
     "start_time": "2025-03-19T21:03:24.520439Z"
    }
   },
   "outputs": [
    {
     "data": {
      "text/plain": [
       "{'ADT': {'x': tensor([[-0.1067,  0.2336, -0.3761,  ...,  0.0417,  0.7129,  1.7810],\n",
       "          [-0.0816,  0.6819,  0.1002,  ...,  2.8420,  0.1367, -0.2340],\n",
       "          [ 0.1335, -0.1355, -0.0772,  ..., -0.8012, -0.0301, -0.7497],\n",
       "          ...,\n",
       "          [-0.2312,  0.4648,  0.3953,  ...,  0.1589, -0.9881,  0.5103],\n",
       "          [-0.3114, -1.4292, -0.3896,  ...,  0.0273,  0.2220,  1.4590],\n",
       "          [-0.4793,  0.5241, -1.0956,  ...,  0.8601, -0.9881,  0.5941]])},\n",
       " 'RNA': {'x': tensor([[-0.0301, -0.0906, -0.2151,  ..., -0.0625, -0.3316, -0.0567],\n",
       "          [-0.0301, -0.0906, -0.2151,  ..., -0.0625, -0.3316, -0.0567],\n",
       "          [-0.0301, -0.0906, -0.2151,  ..., -0.0625, -0.3316, -0.0567],\n",
       "          ...,\n",
       "          [-0.0301, -0.0906, -0.2151,  ..., -0.0625, -0.3316, -0.0567],\n",
       "          [-0.0301, -0.0906, -0.2151,  ..., -0.0625,  6.1826, -0.0567],\n",
       "          [-0.0301, -0.0906, -0.2151,  ..., -0.0625, -0.3316, -0.0567]])}}"
      ]
     },
     "execution_count": 9,
     "metadata": {},
     "output_type": "execute_result"
    }
   ],
   "source": [
    "import torch\n",
    "\n",
    "processed = {m: {'x': torch.tensor(data[m].X, dtype=torch.float)} for m in modalities}\n",
    "processed\n",
    "\n",
    "# processed = {m: {'x': torch.tensor(data[m].obsm['X_glue'], dtype=torch.float)} for m in modalities}\n",
    "# processed - for the match data with precomputed latent representations"
   ]
  },
  {
   "cell_type": "code",
   "execution_count": 10,
   "id": "36e6dc14a930f6ae",
   "metadata": {
    "ExecuteTime": {
     "end_time": "2025-03-19T21:03:24.617612Z",
     "start_time": "2025-03-19T21:03:24.580612Z"
    }
   },
   "outputs": [
    {
     "data": {
      "text/plain": [
       "HeteroData(\n",
       "  ADT={ x=[10470, 52] },\n",
       "  RNA={ x=[10470, 3000] },\n",
       "  cell={\n",
       "    x=[10470, 3052],\n",
       "    metadata=                  orig.ident  nCount_RNA  nFeature_RNA  tissue  group  volume  \\\n",
       "GACGTGCTCAGAGACG           0       753.0           430       0      2       1   \n",
       "GATTCAGTCACTGGGC           0      4848.0          1570       1      4       0   \n",
       "CTCGAGGGTATTACCG           0       769.0           488       0      3       1   \n",
       "TAGACCACATGGGAAC           0      1190.0           577       1      5       0   \n",
       "TGTGGTAGTCACAAGG           0      1786.0           826       0      0       0   \n",
       "...                      ...         ...           ...     ...    ...     ...   \n",
       "AACTGGTCAATAGCGG           0      3010.0          1276       1      4       0   \n",
       "TGTCCCAGTTGAGTTC           0      1791.0          1033       1      4       0   \n",
       "CTCCTAGTCACCTCGT           0      1814.0           792       0      2       1   \n",
       "CACCAGGGTACGCTGC           0       105.0            89       0      0       0   \n",
       "GTTCATTAGTCGAGTG           0      1444.0           698       0      1       0   \n",
       "\n",
       "                  sampleID  celltype  nCount_ADT  nFeature_ADT  \n",
       "GACGTGCTCAGAGACG         2   T.CD.EM       370.0            42  \n",
       "GATTCAGTCACTGGGC         4  mDC.Lung      2630.0            48  \n",
       "CTCGAGGGTATTACCG         3        NK       158.0            38  \n",
       "TAGACCACATGGGAAC         5   T.CD.EM       263.0            41  \n",
       "TGTGGTAGTCACAAGG         0    Mono.2       399.0            48  \n",
       "...                    ...       ...         ...           ...  \n",
       "AACTGGTCAATAGCGG         4     Macro       634.0            46  \n",
       "TGTCCCAGTTGAGTTC         4     Macro      3748.0            50  \n",
       "CTCCTAGTCACCTCGT         2    Mono.2       215.0            46  \n",
       "CACCAGGGTACGCTGC         0    Mono.3       303.0            46  \n",
       "GTTCATTAGTCGAGTG         1    Mono.1       220.0            41  \n",
       "\n",
       "[10470 rows x 10 columns],\n",
       "  }\n",
       ")"
      ]
     },
     "execution_count": 10,
     "metadata": {},
     "output_type": "execute_result"
    }
   ],
   "source": [
    "from torch_geometric.data import HeteroData\n",
    "\n",
    "# (1) Assign attributes after initialization,\n",
    "hetero_data = HeteroData(processed)\n",
    "hetero_data['cell'].x = torch.cat([hetero_data[m].x for m in modalities], dim=1)\n",
    "hetero_data['cell'].metadata = cell_metadata \n",
    "hetero_data"
   ]
  },
  {
   "cell_type": "code",
   "execution_count": 11,
   "id": "fe79c31068e1b827",
   "metadata": {
    "ExecuteTime": {
     "end_time": "2025-03-19T22:15:56.048109Z",
     "start_time": "2025-03-19T22:15:21.170928Z"
    }
   },
   "outputs": [],
   "source": [
    "from torch_geometric.nn import knn_graph\n",
    "\n",
    "device = torch.device('cuda' if torch.cuda.is_available() else 'cpu')\n",
    "hetero_data = hetero_data.to(device)\n",
    "\n",
    "for m in modalities:\n",
    "    hetero_data['cell', m, 'cell'].edge_index = knn_graph(\n",
    "        hetero_data[m].x,\n",
    "        k=10,\n",
    "        cosine=True,\n",
    "        num_workers=16\n",
    "    )"
   ]
  },
  {
   "cell_type": "code",
   "execution_count": 12,
   "id": "c9b2eacf351a6929",
   "metadata": {
    "ExecuteTime": {
     "end_time": "2025-03-19T21:03:59.519120Z",
     "start_time": "2025-03-19T21:03:59.146012Z"
    }
   },
   "outputs": [
    {
     "name": "stdout",
     "output_type": "stream",
     "text": [
      "Saved processed data to ..\\datasets\\data\\processed\\LUNG-CITE\\LUNG-CITE_processed.pt\n"
     ]
    }
   ],
   "source": [
    "hetero_data = hetero_data.cpu() \n",
    "output_path = os.path.join(os.path.join(BASE_DATA_DIR, DATASET_NAME), f\"{DATASET_NAME}_processed.pt\")\n",
    "torch.save(hetero_data, output_path)\n",
    "print(f\"Saved processed data to {output_path}\")"
   ]
  },
  {
   "cell_type": "code",
   "execution_count": 11,
   "id": "f72bf4d1",
   "metadata": {
    "ExecuteTime": {
     "end_time": "2025-03-19T22:15:58.470055Z",
     "start_time": "2025-03-19T22:15:58.279720Z"
    }
   },
   "outputs": [
    {
     "name": "stderr",
     "output_type": "stream",
     "text": [
      "C:\\Users\\wzy66\\AppData\\Local\\Temp\\ipykernel_40168\\643221056.py:2: FutureWarning: You are using `torch.load` with `weights_only=False` (the current default value), which uses the default pickle module implicitly. It is possible to construct malicious pickle data which will execute arbitrary code during unpickling (See https://github.com/pytorch/pytorch/blob/main/SECURITY.md#untrusted-models for more details). In a future release, the default value for `weights_only` will be flipped to `True`. This limits the functions that could be executed during unpickling. Arbitrary objects will no longer be allowed to be loaded via this mode unless they are explicitly allowlisted by the user via `torch.serialization.add_safe_globals`. We recommend you start setting `weights_only=True` for any use case where you don't have full control of the loaded file. Please open an issue on GitHub for any issues related to this experimental feature.\n",
      "  loaded_data = torch.load(output_path)\n"
     ]
    }
   ],
   "source": [
    "output_path = os.path.join(os.path.join(BASE_DATA_DIR, DATASET_NAME), f\"{DATASET_NAME}_processed.pt\")\n",
    "loaded_data = torch.load(output_path)\n",
    "hetero_data = loaded_data.to(DEVICE)  # Move back to GPU if needed"
   ]
  },
  {
   "cell_type": "code",
   "execution_count": 13,
   "id": "fc8e1d757c4a98a5",
   "metadata": {
    "ExecuteTime": {
     "end_time": "2025-03-19T22:21:24.973260Z",
     "start_time": "2025-03-19T22:21:24.400677Z"
    }
   },
   "outputs": [
    {
     "name": "stdout",
     "output_type": "stream",
     "text": [
      "HeteroData(\n",
      "  ADT={\n",
      "    x=[0, 52],\n",
      "    n_id=[0],\n",
      "  },\n",
      "  RNA={\n",
      "    x=[0, 3000],\n",
      "    n_id=[0],\n",
      "  },\n",
      "  cell={\n",
      "    x=[8200, 3052],\n",
      "    metadata=                  orig.ident  nCount_RNA  nFeature_RNA  tissue  group  volume  \\\n",
      "GACGTGCTCAGAGACG           0       753.0           430       0      2       1   \n",
      "GATTCAGTCACTGGGC           0      4848.0          1570       1      4       0   \n",
      "CTCGAGGGTATTACCG           0       769.0           488       0      3       1   \n",
      "TAGACCACATGGGAAC           0      1190.0           577       1      5       0   \n",
      "TGTGGTAGTCACAAGG           0      1786.0           826       0      0       0   \n",
      "...                      ...         ...           ...     ...    ...     ...   \n",
      "AACTGGTCAATAGCGG           0      3010.0          1276       1      4       0   \n",
      "TGTCCCAGTTGAGTTC           0      1791.0          1033       1      4       0   \n",
      "CTCCTAGTCACCTCGT           0      1814.0           792       0      2       1   \n",
      "CACCAGGGTACGCTGC           0       105.0            89       0      0       0   \n",
      "GTTCATTAGTCGAGTG           0      1444.0           698       0      1       0   \n",
      "\n",
      "                  sampleID  celltype  nCount_ADT  nFeature_ADT  \n",
      "GACGTGCTCAGAGACG         2   T.CD.EM       370.0            42  \n",
      "GATTCAGTCACTGGGC         4  mDC.Lung      2630.0            48  \n",
      "CTCGAGGGTATTACCG         3        NK       158.0            38  \n",
      "TAGACCACATGGGAAC         5   T.CD.EM       263.0            41  \n",
      "TGTGGTAGTCACAAGG         0    Mono.2       399.0            48  \n",
      "...                    ...       ...         ...           ...  \n",
      "AACTGGTCAATAGCGG         4     Macro       634.0            46  \n",
      "TGTCCCAGTTGAGTTC         4     Macro      3748.0            50  \n",
      "CTCCTAGTCACCTCGT         2    Mono.2       215.0            46  \n",
      "CACCAGGGTACGCTGC         0    Mono.3       303.0            46  \n",
      "GTTCATTAGTCGAGTG         1    Mono.1       220.0            41  \n",
      "\n",
      "[10470 rows x 10 columns],\n",
      "    n_id=[8200],\n",
      "    input_id=[256],\n",
      "    batch_size=256,\n",
      "  },\n",
      "  (cell, ADT, cell)={\n",
      "    edge_index=[2, 12005],\n",
      "    e_id=[12005],\n",
      "  },\n",
      "  (cell, RNA, cell)={\n",
      "    edge_index=[2, 12005],\n",
      "    e_id=[12005],\n",
      "  }\n",
      ")\n",
      "HeteroData(\n",
      "  ADT={\n",
      "    x=[0, 52],\n",
      "    n_id=[0],\n",
      "  },\n",
      "  RNA={\n",
      "    x=[0, 3000],\n",
      "    n_id=[0],\n",
      "  },\n",
      "  cell={\n",
      "    x=[8005, 3052],\n",
      "    metadata=                  orig.ident  nCount_RNA  nFeature_RNA  tissue  group  volume  \\\n",
      "GACGTGCTCAGAGACG           0       753.0           430       0      2       1   \n",
      "GATTCAGTCACTGGGC           0      4848.0          1570       1      4       0   \n",
      "CTCGAGGGTATTACCG           0       769.0           488       0      3       1   \n",
      "TAGACCACATGGGAAC           0      1190.0           577       1      5       0   \n",
      "TGTGGTAGTCACAAGG           0      1786.0           826       0      0       0   \n",
      "...                      ...         ...           ...     ...    ...     ...   \n",
      "AACTGGTCAATAGCGG           0      3010.0          1276       1      4       0   \n",
      "TGTCCCAGTTGAGTTC           0      1791.0          1033       1      4       0   \n",
      "CTCCTAGTCACCTCGT           0      1814.0           792       0      2       1   \n",
      "CACCAGGGTACGCTGC           0       105.0            89       0      0       0   \n",
      "GTTCATTAGTCGAGTG           0      1444.0           698       0      1       0   \n",
      "\n",
      "                  sampleID  celltype  nCount_ADT  nFeature_ADT  \n",
      "GACGTGCTCAGAGACG         2   T.CD.EM       370.0            42  \n",
      "GATTCAGTCACTGGGC         4  mDC.Lung      2630.0            48  \n",
      "CTCGAGGGTATTACCG         3        NK       158.0            38  \n",
      "TAGACCACATGGGAAC         5   T.CD.EM       263.0            41  \n",
      "TGTGGTAGTCACAAGG         0    Mono.2       399.0            48  \n",
      "...                    ...       ...         ...           ...  \n",
      "AACTGGTCAATAGCGG         4     Macro       634.0            46  \n",
      "TGTCCCAGTTGAGTTC         4     Macro      3748.0            50  \n",
      "CTCCTAGTCACCTCGT         2    Mono.2       215.0            46  \n",
      "CACCAGGGTACGCTGC         0    Mono.3       303.0            46  \n",
      "GTTCATTAGTCGAGTG         1    Mono.1       220.0            41  \n",
      "\n",
      "[10470 rows x 10 columns],\n",
      "    n_id=[8005],\n",
      "    input_id=[256],\n",
      "    batch_size=256,\n",
      "  },\n",
      "  (cell, ADT, cell)={\n",
      "    edge_index=[2, 11760],\n",
      "    e_id=[11760],\n",
      "  },\n",
      "  (cell, RNA, cell)={\n",
      "    edge_index=[2, 11760],\n",
      "    e_id=[11760],\n",
      "  }\n",
      ")\n",
      "HeteroData(\n",
      "  ADT={\n",
      "    x=[0, 52],\n",
      "    n_id=[0],\n",
      "  },\n",
      "  RNA={\n",
      "    x=[0, 3000],\n",
      "    n_id=[0],\n",
      "  },\n",
      "  cell={\n",
      "    x=[7873, 3052],\n",
      "    metadata=                  orig.ident  nCount_RNA  nFeature_RNA  tissue  group  volume  \\\n",
      "GACGTGCTCAGAGACG           0       753.0           430       0      2       1   \n",
      "GATTCAGTCACTGGGC           0      4848.0          1570       1      4       0   \n",
      "CTCGAGGGTATTACCG           0       769.0           488       0      3       1   \n",
      "TAGACCACATGGGAAC           0      1190.0           577       1      5       0   \n",
      "TGTGGTAGTCACAAGG           0      1786.0           826       0      0       0   \n",
      "...                      ...         ...           ...     ...    ...     ...   \n",
      "AACTGGTCAATAGCGG           0      3010.0          1276       1      4       0   \n",
      "TGTCCCAGTTGAGTTC           0      1791.0          1033       1      4       0   \n",
      "CTCCTAGTCACCTCGT           0      1814.0           792       0      2       1   \n",
      "CACCAGGGTACGCTGC           0       105.0            89       0      0       0   \n",
      "GTTCATTAGTCGAGTG           0      1444.0           698       0      1       0   \n",
      "\n",
      "                  sampleID  celltype  nCount_ADT  nFeature_ADT  \n",
      "GACGTGCTCAGAGACG         2   T.CD.EM       370.0            42  \n",
      "GATTCAGTCACTGGGC         4  mDC.Lung      2630.0            48  \n",
      "CTCGAGGGTATTACCG         3        NK       158.0            38  \n",
      "TAGACCACATGGGAAC         5   T.CD.EM       263.0            41  \n",
      "TGTGGTAGTCACAAGG         0    Mono.2       399.0            48  \n",
      "...                    ...       ...         ...           ...  \n",
      "AACTGGTCAATAGCGG         4     Macro       634.0            46  \n",
      "TGTCCCAGTTGAGTTC         4     Macro      3748.0            50  \n",
      "CTCCTAGTCACCTCGT         2    Mono.2       215.0            46  \n",
      "CACCAGGGTACGCTGC         0    Mono.3       303.0            46  \n",
      "GTTCATTAGTCGAGTG         1    Mono.1       220.0            41  \n",
      "\n",
      "[10470 rows x 10 columns],\n",
      "    n_id=[7873],\n",
      "    input_id=[256],\n",
      "    batch_size=256,\n",
      "  },\n",
      "  (cell, ADT, cell)={\n",
      "    edge_index=[2, 11585],\n",
      "    e_id=[11585],\n",
      "  },\n",
      "  (cell, RNA, cell)={\n",
      "    edge_index=[2, 11585],\n",
      "    e_id=[11585],\n",
      "  }\n",
      ")\n",
      "HeteroData(\n",
      "  ADT={\n",
      "    x=[0, 52],\n",
      "    n_id=[0],\n",
      "  },\n",
      "  RNA={\n",
      "    x=[0, 3000],\n",
      "    n_id=[0],\n",
      "  },\n",
      "  cell={\n",
      "    x=[8018, 3052],\n",
      "    metadata=                  orig.ident  nCount_RNA  nFeature_RNA  tissue  group  volume  \\\n",
      "GACGTGCTCAGAGACG           0       753.0           430       0      2       1   \n",
      "GATTCAGTCACTGGGC           0      4848.0          1570       1      4       0   \n",
      "CTCGAGGGTATTACCG           0       769.0           488       0      3       1   \n",
      "TAGACCACATGGGAAC           0      1190.0           577       1      5       0   \n",
      "TGTGGTAGTCACAAGG           0      1786.0           826       0      0       0   \n",
      "...                      ...         ...           ...     ...    ...     ...   \n",
      "AACTGGTCAATAGCGG           0      3010.0          1276       1      4       0   \n",
      "TGTCCCAGTTGAGTTC           0      1791.0          1033       1      4       0   \n",
      "CTCCTAGTCACCTCGT           0      1814.0           792       0      2       1   \n",
      "CACCAGGGTACGCTGC           0       105.0            89       0      0       0   \n",
      "GTTCATTAGTCGAGTG           0      1444.0           698       0      1       0   \n",
      "\n",
      "                  sampleID  celltype  nCount_ADT  nFeature_ADT  \n",
      "GACGTGCTCAGAGACG         2   T.CD.EM       370.0            42  \n",
      "GATTCAGTCACTGGGC         4  mDC.Lung      2630.0            48  \n",
      "CTCGAGGGTATTACCG         3        NK       158.0            38  \n",
      "TAGACCACATGGGAAC         5   T.CD.EM       263.0            41  \n",
      "TGTGGTAGTCACAAGG         0    Mono.2       399.0            48  \n",
      "...                    ...       ...         ...           ...  \n",
      "AACTGGTCAATAGCGG         4     Macro       634.0            46  \n",
      "TGTCCCAGTTGAGTTC         4     Macro      3748.0            50  \n",
      "CTCCTAGTCACCTCGT         2    Mono.2       215.0            46  \n",
      "CACCAGGGTACGCTGC         0    Mono.3       303.0            46  \n",
      "GTTCATTAGTCGAGTG         1    Mono.1       220.0            41  \n",
      "\n",
      "[10470 rows x 10 columns],\n",
      "    n_id=[8018],\n",
      "    input_id=[256],\n",
      "    batch_size=256,\n",
      "  },\n",
      "  (cell, ADT, cell)={\n",
      "    edge_index=[2, 11610],\n",
      "    e_id=[11610],\n",
      "  },\n",
      "  (cell, RNA, cell)={\n",
      "    edge_index=[2, 11610],\n",
      "    e_id=[11610],\n",
      "  }\n",
      ")\n",
      "HeteroData(\n",
      "  ADT={\n",
      "    x=[0, 52],\n",
      "    n_id=[0],\n",
      "  },\n",
      "  RNA={\n",
      "    x=[0, 3000],\n",
      "    n_id=[0],\n",
      "  },\n",
      "  cell={\n",
      "    x=[8153, 3052],\n",
      "    metadata=                  orig.ident  nCount_RNA  nFeature_RNA  tissue  group  volume  \\\n",
      "GACGTGCTCAGAGACG           0       753.0           430       0      2       1   \n",
      "GATTCAGTCACTGGGC           0      4848.0          1570       1      4       0   \n",
      "CTCGAGGGTATTACCG           0       769.0           488       0      3       1   \n",
      "TAGACCACATGGGAAC           0      1190.0           577       1      5       0   \n",
      "TGTGGTAGTCACAAGG           0      1786.0           826       0      0       0   \n",
      "...                      ...         ...           ...     ...    ...     ...   \n",
      "AACTGGTCAATAGCGG           0      3010.0          1276       1      4       0   \n",
      "TGTCCCAGTTGAGTTC           0      1791.0          1033       1      4       0   \n",
      "CTCCTAGTCACCTCGT           0      1814.0           792       0      2       1   \n",
      "CACCAGGGTACGCTGC           0       105.0            89       0      0       0   \n",
      "GTTCATTAGTCGAGTG           0      1444.0           698       0      1       0   \n",
      "\n",
      "                  sampleID  celltype  nCount_ADT  nFeature_ADT  \n",
      "GACGTGCTCAGAGACG         2   T.CD.EM       370.0            42  \n",
      "GATTCAGTCACTGGGC         4  mDC.Lung      2630.0            48  \n",
      "CTCGAGGGTATTACCG         3        NK       158.0            38  \n",
      "TAGACCACATGGGAAC         5   T.CD.EM       263.0            41  \n",
      "TGTGGTAGTCACAAGG         0    Mono.2       399.0            48  \n",
      "...                    ...       ...         ...           ...  \n",
      "AACTGGTCAATAGCGG         4     Macro       634.0            46  \n",
      "TGTCCCAGTTGAGTTC         4     Macro      3748.0            50  \n",
      "CTCCTAGTCACCTCGT         2    Mono.2       215.0            46  \n",
      "CACCAGGGTACGCTGC         0    Mono.3       303.0            46  \n",
      "GTTCATTAGTCGAGTG         1    Mono.1       220.0            41  \n",
      "\n",
      "[10470 rows x 10 columns],\n",
      "    n_id=[8153],\n",
      "    input_id=[256],\n",
      "    batch_size=256,\n",
      "  },\n",
      "  (cell, ADT, cell)={\n",
      "    edge_index=[2, 11935],\n",
      "    e_id=[11935],\n",
      "  },\n",
      "  (cell, RNA, cell)={\n",
      "    edge_index=[2, 11935],\n",
      "    e_id=[11935],\n",
      "  }\n",
      ")\n",
      "HeteroData(\n",
      "  ADT={\n",
      "    x=[0, 52],\n",
      "    n_id=[0],\n",
      "  },\n",
      "  RNA={\n",
      "    x=[0, 3000],\n",
      "    n_id=[0],\n",
      "  },\n",
      "  cell={\n",
      "    x=[8089, 3052],\n",
      "    metadata=                  orig.ident  nCount_RNA  nFeature_RNA  tissue  group  volume  \\\n",
      "GACGTGCTCAGAGACG           0       753.0           430       0      2       1   \n",
      "GATTCAGTCACTGGGC           0      4848.0          1570       1      4       0   \n",
      "CTCGAGGGTATTACCG           0       769.0           488       0      3       1   \n",
      "TAGACCACATGGGAAC           0      1190.0           577       1      5       0   \n",
      "TGTGGTAGTCACAAGG           0      1786.0           826       0      0       0   \n",
      "...                      ...         ...           ...     ...    ...     ...   \n",
      "AACTGGTCAATAGCGG           0      3010.0          1276       1      4       0   \n",
      "TGTCCCAGTTGAGTTC           0      1791.0          1033       1      4       0   \n",
      "CTCCTAGTCACCTCGT           0      1814.0           792       0      2       1   \n",
      "CACCAGGGTACGCTGC           0       105.0            89       0      0       0   \n",
      "GTTCATTAGTCGAGTG           0      1444.0           698       0      1       0   \n",
      "\n",
      "                  sampleID  celltype  nCount_ADT  nFeature_ADT  \n",
      "GACGTGCTCAGAGACG         2   T.CD.EM       370.0            42  \n",
      "GATTCAGTCACTGGGC         4  mDC.Lung      2630.0            48  \n",
      "CTCGAGGGTATTACCG         3        NK       158.0            38  \n",
      "TAGACCACATGGGAAC         5   T.CD.EM       263.0            41  \n",
      "TGTGGTAGTCACAAGG         0    Mono.2       399.0            48  \n",
      "...                    ...       ...         ...           ...  \n",
      "AACTGGTCAATAGCGG         4     Macro       634.0            46  \n",
      "TGTCCCAGTTGAGTTC         4     Macro      3748.0            50  \n",
      "CTCCTAGTCACCTCGT         2    Mono.2       215.0            46  \n",
      "CACCAGGGTACGCTGC         0    Mono.3       303.0            46  \n",
      "GTTCATTAGTCGAGTG         1    Mono.1       220.0            41  \n",
      "\n",
      "[10470 rows x 10 columns],\n",
      "    n_id=[8089],\n",
      "    input_id=[256],\n",
      "    batch_size=256,\n",
      "  },\n",
      "  (cell, ADT, cell)={\n",
      "    edge_index=[2, 11620],\n",
      "    e_id=[11620],\n",
      "  },\n",
      "  (cell, RNA, cell)={\n",
      "    edge_index=[2, 11620],\n",
      "    e_id=[11620],\n",
      "  }\n",
      ")\n",
      "HeteroData(\n",
      "  ADT={\n",
      "    x=[0, 52],\n",
      "    n_id=[0],\n",
      "  },\n",
      "  RNA={\n",
      "    x=[0, 3000],\n",
      "    n_id=[0],\n",
      "  },\n",
      "  cell={\n",
      "    x=[8050, 3052],\n",
      "    metadata=                  orig.ident  nCount_RNA  nFeature_RNA  tissue  group  volume  \\\n",
      "GACGTGCTCAGAGACG           0       753.0           430       0      2       1   \n",
      "GATTCAGTCACTGGGC           0      4848.0          1570       1      4       0   \n",
      "CTCGAGGGTATTACCG           0       769.0           488       0      3       1   \n",
      "TAGACCACATGGGAAC           0      1190.0           577       1      5       0   \n",
      "TGTGGTAGTCACAAGG           0      1786.0           826       0      0       0   \n",
      "...                      ...         ...           ...     ...    ...     ...   \n",
      "AACTGGTCAATAGCGG           0      3010.0          1276       1      4       0   \n",
      "TGTCCCAGTTGAGTTC           0      1791.0          1033       1      4       0   \n",
      "CTCCTAGTCACCTCGT           0      1814.0           792       0      2       1   \n",
      "CACCAGGGTACGCTGC           0       105.0            89       0      0       0   \n",
      "GTTCATTAGTCGAGTG           0      1444.0           698       0      1       0   \n",
      "\n",
      "                  sampleID  celltype  nCount_ADT  nFeature_ADT  \n",
      "GACGTGCTCAGAGACG         2   T.CD.EM       370.0            42  \n",
      "GATTCAGTCACTGGGC         4  mDC.Lung      2630.0            48  \n",
      "CTCGAGGGTATTACCG         3        NK       158.0            38  \n",
      "TAGACCACATGGGAAC         5   T.CD.EM       263.0            41  \n",
      "TGTGGTAGTCACAAGG         0    Mono.2       399.0            48  \n",
      "...                    ...       ...         ...           ...  \n",
      "AACTGGTCAATAGCGG         4     Macro       634.0            46  \n",
      "TGTCCCAGTTGAGTTC         4     Macro      3748.0            50  \n",
      "CTCCTAGTCACCTCGT         2    Mono.2       215.0            46  \n",
      "CACCAGGGTACGCTGC         0    Mono.3       303.0            46  \n",
      "GTTCATTAGTCGAGTG         1    Mono.1       220.0            41  \n",
      "\n",
      "[10470 rows x 10 columns],\n",
      "    n_id=[8050],\n",
      "    input_id=[256],\n",
      "    batch_size=256,\n",
      "  },\n",
      "  (cell, ADT, cell)={\n",
      "    edge_index=[2, 11805],\n",
      "    e_id=[11805],\n",
      "  },\n",
      "  (cell, RNA, cell)={\n",
      "    edge_index=[2, 11805],\n",
      "    e_id=[11805],\n",
      "  }\n",
      ")\n",
      "HeteroData(\n",
      "  ADT={\n",
      "    x=[0, 52],\n",
      "    n_id=[0],\n",
      "  },\n",
      "  RNA={\n",
      "    x=[0, 3000],\n",
      "    n_id=[0],\n",
      "  },\n",
      "  cell={\n",
      "    x=[8032, 3052],\n",
      "    metadata=                  orig.ident  nCount_RNA  nFeature_RNA  tissue  group  volume  \\\n",
      "GACGTGCTCAGAGACG           0       753.0           430       0      2       1   \n",
      "GATTCAGTCACTGGGC           0      4848.0          1570       1      4       0   \n",
      "CTCGAGGGTATTACCG           0       769.0           488       0      3       1   \n",
      "TAGACCACATGGGAAC           0      1190.0           577       1      5       0   \n",
      "TGTGGTAGTCACAAGG           0      1786.0           826       0      0       0   \n",
      "...                      ...         ...           ...     ...    ...     ...   \n",
      "AACTGGTCAATAGCGG           0      3010.0          1276       1      4       0   \n",
      "TGTCCCAGTTGAGTTC           0      1791.0          1033       1      4       0   \n",
      "CTCCTAGTCACCTCGT           0      1814.0           792       0      2       1   \n",
      "CACCAGGGTACGCTGC           0       105.0            89       0      0       0   \n",
      "GTTCATTAGTCGAGTG           0      1444.0           698       0      1       0   \n",
      "\n",
      "                  sampleID  celltype  nCount_ADT  nFeature_ADT  \n",
      "GACGTGCTCAGAGACG         2   T.CD.EM       370.0            42  \n",
      "GATTCAGTCACTGGGC         4  mDC.Lung      2630.0            48  \n",
      "CTCGAGGGTATTACCG         3        NK       158.0            38  \n",
      "TAGACCACATGGGAAC         5   T.CD.EM       263.0            41  \n",
      "TGTGGTAGTCACAAGG         0    Mono.2       399.0            48  \n",
      "...                    ...       ...         ...           ...  \n",
      "AACTGGTCAATAGCGG         4     Macro       634.0            46  \n",
      "TGTCCCAGTTGAGTTC         4     Macro      3748.0            50  \n",
      "CTCCTAGTCACCTCGT         2    Mono.2       215.0            46  \n",
      "CACCAGGGTACGCTGC         0    Mono.3       303.0            46  \n",
      "GTTCATTAGTCGAGTG         1    Mono.1       220.0            41  \n",
      "\n",
      "[10470 rows x 10 columns],\n",
      "    n_id=[8032],\n",
      "    input_id=[256],\n",
      "    batch_size=256,\n",
      "  },\n",
      "  (cell, ADT, cell)={\n",
      "    edge_index=[2, 11665],\n",
      "    e_id=[11665],\n",
      "  },\n",
      "  (cell, RNA, cell)={\n",
      "    edge_index=[2, 11665],\n",
      "    e_id=[11665],\n",
      "  }\n",
      ")\n",
      "HeteroData(\n",
      "  ADT={\n",
      "    x=[0, 52],\n",
      "    n_id=[0],\n",
      "  },\n",
      "  RNA={\n",
      "    x=[0, 3000],\n",
      "    n_id=[0],\n",
      "  },\n",
      "  cell={\n",
      "    x=[8086, 3052],\n",
      "    metadata=                  orig.ident  nCount_RNA  nFeature_RNA  tissue  group  volume  \\\n",
      "GACGTGCTCAGAGACG           0       753.0           430       0      2       1   \n",
      "GATTCAGTCACTGGGC           0      4848.0          1570       1      4       0   \n",
      "CTCGAGGGTATTACCG           0       769.0           488       0      3       1   \n",
      "TAGACCACATGGGAAC           0      1190.0           577       1      5       0   \n",
      "TGTGGTAGTCACAAGG           0      1786.0           826       0      0       0   \n",
      "...                      ...         ...           ...     ...    ...     ...   \n",
      "AACTGGTCAATAGCGG           0      3010.0          1276       1      4       0   \n",
      "TGTCCCAGTTGAGTTC           0      1791.0          1033       1      4       0   \n",
      "CTCCTAGTCACCTCGT           0      1814.0           792       0      2       1   \n",
      "CACCAGGGTACGCTGC           0       105.0            89       0      0       0   \n",
      "GTTCATTAGTCGAGTG           0      1444.0           698       0      1       0   \n",
      "\n",
      "                  sampleID  celltype  nCount_ADT  nFeature_ADT  \n",
      "GACGTGCTCAGAGACG         2   T.CD.EM       370.0            42  \n",
      "GATTCAGTCACTGGGC         4  mDC.Lung      2630.0            48  \n",
      "CTCGAGGGTATTACCG         3        NK       158.0            38  \n",
      "TAGACCACATGGGAAC         5   T.CD.EM       263.0            41  \n",
      "TGTGGTAGTCACAAGG         0    Mono.2       399.0            48  \n",
      "...                    ...       ...         ...           ...  \n",
      "AACTGGTCAATAGCGG         4     Macro       634.0            46  \n",
      "TGTCCCAGTTGAGTTC         4     Macro      3748.0            50  \n",
      "CTCCTAGTCACCTCGT         2    Mono.2       215.0            46  \n",
      "CACCAGGGTACGCTGC         0    Mono.3       303.0            46  \n",
      "GTTCATTAGTCGAGTG         1    Mono.1       220.0            41  \n",
      "\n",
      "[10470 rows x 10 columns],\n",
      "    n_id=[8086],\n",
      "    input_id=[256],\n",
      "    batch_size=256,\n",
      "  },\n",
      "  (cell, ADT, cell)={\n",
      "    edge_index=[2, 11765],\n",
      "    e_id=[11765],\n",
      "  },\n",
      "  (cell, RNA, cell)={\n",
      "    edge_index=[2, 11765],\n",
      "    e_id=[11765],\n",
      "  }\n",
      ")\n",
      "HeteroData(\n",
      "  ADT={\n",
      "    x=[0, 52],\n",
      "    n_id=[0],\n",
      "  },\n",
      "  RNA={\n",
      "    x=[0, 3000],\n",
      "    n_id=[0],\n",
      "  },\n",
      "  cell={\n",
      "    x=[8105, 3052],\n",
      "    metadata=                  orig.ident  nCount_RNA  nFeature_RNA  tissue  group  volume  \\\n",
      "GACGTGCTCAGAGACG           0       753.0           430       0      2       1   \n",
      "GATTCAGTCACTGGGC           0      4848.0          1570       1      4       0   \n",
      "CTCGAGGGTATTACCG           0       769.0           488       0      3       1   \n",
      "TAGACCACATGGGAAC           0      1190.0           577       1      5       0   \n",
      "TGTGGTAGTCACAAGG           0      1786.0           826       0      0       0   \n",
      "...                      ...         ...           ...     ...    ...     ...   \n",
      "AACTGGTCAATAGCGG           0      3010.0          1276       1      4       0   \n",
      "TGTCCCAGTTGAGTTC           0      1791.0          1033       1      4       0   \n",
      "CTCCTAGTCACCTCGT           0      1814.0           792       0      2       1   \n",
      "CACCAGGGTACGCTGC           0       105.0            89       0      0       0   \n",
      "GTTCATTAGTCGAGTG           0      1444.0           698       0      1       0   \n",
      "\n",
      "                  sampleID  celltype  nCount_ADT  nFeature_ADT  \n",
      "GACGTGCTCAGAGACG         2   T.CD.EM       370.0            42  \n",
      "GATTCAGTCACTGGGC         4  mDC.Lung      2630.0            48  \n",
      "CTCGAGGGTATTACCG         3        NK       158.0            38  \n",
      "TAGACCACATGGGAAC         5   T.CD.EM       263.0            41  \n",
      "TGTGGTAGTCACAAGG         0    Mono.2       399.0            48  \n",
      "...                    ...       ...         ...           ...  \n",
      "AACTGGTCAATAGCGG         4     Macro       634.0            46  \n",
      "TGTCCCAGTTGAGTTC         4     Macro      3748.0            50  \n",
      "CTCCTAGTCACCTCGT         2    Mono.2       215.0            46  \n",
      "CACCAGGGTACGCTGC         0    Mono.3       303.0            46  \n",
      "GTTCATTAGTCGAGTG         1    Mono.1       220.0            41  \n",
      "\n",
      "[10470 rows x 10 columns],\n",
      "    n_id=[8105],\n",
      "    input_id=[256],\n",
      "    batch_size=256,\n",
      "  },\n",
      "  (cell, ADT, cell)={\n",
      "    edge_index=[2, 11830],\n",
      "    e_id=[11830],\n",
      "  },\n",
      "  (cell, RNA, cell)={\n",
      "    edge_index=[2, 11830],\n",
      "    e_id=[11830],\n",
      "  }\n",
      ")\n",
      "HeteroData(\n",
      "  ADT={\n",
      "    x=[0, 52],\n",
      "    n_id=[0],\n",
      "  },\n",
      "  RNA={\n",
      "    x=[0, 3000],\n",
      "    n_id=[0],\n",
      "  },\n",
      "  cell={\n",
      "    x=[8105, 3052],\n",
      "    metadata=                  orig.ident  nCount_RNA  nFeature_RNA  tissue  group  volume  \\\n",
      "GACGTGCTCAGAGACG           0       753.0           430       0      2       1   \n",
      "GATTCAGTCACTGGGC           0      4848.0          1570       1      4       0   \n",
      "CTCGAGGGTATTACCG           0       769.0           488       0      3       1   \n",
      "TAGACCACATGGGAAC           0      1190.0           577       1      5       0   \n",
      "TGTGGTAGTCACAAGG           0      1786.0           826       0      0       0   \n",
      "...                      ...         ...           ...     ...    ...     ...   \n",
      "AACTGGTCAATAGCGG           0      3010.0          1276       1      4       0   \n",
      "TGTCCCAGTTGAGTTC           0      1791.0          1033       1      4       0   \n",
      "CTCCTAGTCACCTCGT           0      1814.0           792       0      2       1   \n",
      "CACCAGGGTACGCTGC           0       105.0            89       0      0       0   \n",
      "GTTCATTAGTCGAGTG           0      1444.0           698       0      1       0   \n",
      "\n",
      "                  sampleID  celltype  nCount_ADT  nFeature_ADT  \n",
      "GACGTGCTCAGAGACG         2   T.CD.EM       370.0            42  \n",
      "GATTCAGTCACTGGGC         4  mDC.Lung      2630.0            48  \n",
      "CTCGAGGGTATTACCG         3        NK       158.0            38  \n",
      "TAGACCACATGGGAAC         5   T.CD.EM       263.0            41  \n",
      "TGTGGTAGTCACAAGG         0    Mono.2       399.0            48  \n",
      "...                    ...       ...         ...           ...  \n",
      "AACTGGTCAATAGCGG         4     Macro       634.0            46  \n",
      "TGTCCCAGTTGAGTTC         4     Macro      3748.0            50  \n",
      "CTCCTAGTCACCTCGT         2    Mono.2       215.0            46  \n",
      "CACCAGGGTACGCTGC         0    Mono.3       303.0            46  \n",
      "GTTCATTAGTCGAGTG         1    Mono.1       220.0            41  \n",
      "\n",
      "[10470 rows x 10 columns],\n",
      "    n_id=[8105],\n",
      "    input_id=[256],\n",
      "    batch_size=256,\n",
      "  },\n",
      "  (cell, ADT, cell)={\n",
      "    edge_index=[2, 11815],\n",
      "    e_id=[11815],\n",
      "  },\n",
      "  (cell, RNA, cell)={\n",
      "    edge_index=[2, 11815],\n",
      "    e_id=[11815],\n",
      "  }\n",
      ")\n",
      "HeteroData(\n",
      "  ADT={\n",
      "    x=[0, 52],\n",
      "    n_id=[0],\n",
      "  },\n",
      "  RNA={\n",
      "    x=[0, 3000],\n",
      "    n_id=[0],\n",
      "  },\n",
      "  cell={\n",
      "    x=[8128, 3052],\n",
      "    metadata=                  orig.ident  nCount_RNA  nFeature_RNA  tissue  group  volume  \\\n",
      "GACGTGCTCAGAGACG           0       753.0           430       0      2       1   \n",
      "GATTCAGTCACTGGGC           0      4848.0          1570       1      4       0   \n",
      "CTCGAGGGTATTACCG           0       769.0           488       0      3       1   \n",
      "TAGACCACATGGGAAC           0      1190.0           577       1      5       0   \n",
      "TGTGGTAGTCACAAGG           0      1786.0           826       0      0       0   \n",
      "...                      ...         ...           ...     ...    ...     ...   \n",
      "AACTGGTCAATAGCGG           0      3010.0          1276       1      4       0   \n",
      "TGTCCCAGTTGAGTTC           0      1791.0          1033       1      4       0   \n",
      "CTCCTAGTCACCTCGT           0      1814.0           792       0      2       1   \n",
      "CACCAGGGTACGCTGC           0       105.0            89       0      0       0   \n",
      "GTTCATTAGTCGAGTG           0      1444.0           698       0      1       0   \n",
      "\n",
      "                  sampleID  celltype  nCount_ADT  nFeature_ADT  \n",
      "GACGTGCTCAGAGACG         2   T.CD.EM       370.0            42  \n",
      "GATTCAGTCACTGGGC         4  mDC.Lung      2630.0            48  \n",
      "CTCGAGGGTATTACCG         3        NK       158.0            38  \n",
      "TAGACCACATGGGAAC         5   T.CD.EM       263.0            41  \n",
      "TGTGGTAGTCACAAGG         0    Mono.2       399.0            48  \n",
      "...                    ...       ...         ...           ...  \n",
      "AACTGGTCAATAGCGG         4     Macro       634.0            46  \n",
      "TGTCCCAGTTGAGTTC         4     Macro      3748.0            50  \n",
      "CTCCTAGTCACCTCGT         2    Mono.2       215.0            46  \n",
      "CACCAGGGTACGCTGC         0    Mono.3       303.0            46  \n",
      "GTTCATTAGTCGAGTG         1    Mono.1       220.0            41  \n",
      "\n",
      "[10470 rows x 10 columns],\n",
      "    n_id=[8128],\n",
      "    input_id=[256],\n",
      "    batch_size=256,\n",
      "  },\n",
      "  (cell, ADT, cell)={\n",
      "    edge_index=[2, 11790],\n",
      "    e_id=[11790],\n",
      "  },\n",
      "  (cell, RNA, cell)={\n",
      "    edge_index=[2, 11790],\n",
      "    e_id=[11790],\n",
      "  }\n",
      ")\n",
      "HeteroData(\n",
      "  ADT={\n",
      "    x=[0, 52],\n",
      "    n_id=[0],\n",
      "  },\n",
      "  RNA={\n",
      "    x=[0, 3000],\n",
      "    n_id=[0],\n",
      "  },\n",
      "  cell={\n",
      "    x=[8053, 3052],\n",
      "    metadata=                  orig.ident  nCount_RNA  nFeature_RNA  tissue  group  volume  \\\n",
      "GACGTGCTCAGAGACG           0       753.0           430       0      2       1   \n",
      "GATTCAGTCACTGGGC           0      4848.0          1570       1      4       0   \n",
      "CTCGAGGGTATTACCG           0       769.0           488       0      3       1   \n",
      "TAGACCACATGGGAAC           0      1190.0           577       1      5       0   \n",
      "TGTGGTAGTCACAAGG           0      1786.0           826       0      0       0   \n",
      "...                      ...         ...           ...     ...    ...     ...   \n",
      "AACTGGTCAATAGCGG           0      3010.0          1276       1      4       0   \n",
      "TGTCCCAGTTGAGTTC           0      1791.0          1033       1      4       0   \n",
      "CTCCTAGTCACCTCGT           0      1814.0           792       0      2       1   \n",
      "CACCAGGGTACGCTGC           0       105.0            89       0      0       0   \n",
      "GTTCATTAGTCGAGTG           0      1444.0           698       0      1       0   \n",
      "\n",
      "                  sampleID  celltype  nCount_ADT  nFeature_ADT  \n",
      "GACGTGCTCAGAGACG         2   T.CD.EM       370.0            42  \n",
      "GATTCAGTCACTGGGC         4  mDC.Lung      2630.0            48  \n",
      "CTCGAGGGTATTACCG         3        NK       158.0            38  \n",
      "TAGACCACATGGGAAC         5   T.CD.EM       263.0            41  \n",
      "TGTGGTAGTCACAAGG         0    Mono.2       399.0            48  \n",
      "...                    ...       ...         ...           ...  \n",
      "AACTGGTCAATAGCGG         4     Macro       634.0            46  \n",
      "TGTCCCAGTTGAGTTC         4     Macro      3748.0            50  \n",
      "CTCCTAGTCACCTCGT         2    Mono.2       215.0            46  \n",
      "CACCAGGGTACGCTGC         0    Mono.3       303.0            46  \n",
      "GTTCATTAGTCGAGTG         1    Mono.1       220.0            41  \n",
      "\n",
      "[10470 rows x 10 columns],\n",
      "    n_id=[8053],\n",
      "    input_id=[256],\n",
      "    batch_size=256,\n",
      "  },\n",
      "  (cell, ADT, cell)={\n",
      "    edge_index=[2, 11740],\n",
      "    e_id=[11740],\n",
      "  },\n",
      "  (cell, RNA, cell)={\n",
      "    edge_index=[2, 11740],\n",
      "    e_id=[11740],\n",
      "  }\n",
      ")\n",
      "HeteroData(\n",
      "  ADT={\n",
      "    x=[0, 52],\n",
      "    n_id=[0],\n",
      "  },\n",
      "  RNA={\n",
      "    x=[0, 3000],\n",
      "    n_id=[0],\n",
      "  },\n",
      "  cell={\n",
      "    x=[7960, 3052],\n",
      "    metadata=                  orig.ident  nCount_RNA  nFeature_RNA  tissue  group  volume  \\\n",
      "GACGTGCTCAGAGACG           0       753.0           430       0      2       1   \n",
      "GATTCAGTCACTGGGC           0      4848.0          1570       1      4       0   \n",
      "CTCGAGGGTATTACCG           0       769.0           488       0      3       1   \n",
      "TAGACCACATGGGAAC           0      1190.0           577       1      5       0   \n",
      "TGTGGTAGTCACAAGG           0      1786.0           826       0      0       0   \n",
      "...                      ...         ...           ...     ...    ...     ...   \n",
      "AACTGGTCAATAGCGG           0      3010.0          1276       1      4       0   \n",
      "TGTCCCAGTTGAGTTC           0      1791.0          1033       1      4       0   \n",
      "CTCCTAGTCACCTCGT           0      1814.0           792       0      2       1   \n",
      "CACCAGGGTACGCTGC           0       105.0            89       0      0       0   \n",
      "GTTCATTAGTCGAGTG           0      1444.0           698       0      1       0   \n",
      "\n",
      "                  sampleID  celltype  nCount_ADT  nFeature_ADT  \n",
      "GACGTGCTCAGAGACG         2   T.CD.EM       370.0            42  \n",
      "GATTCAGTCACTGGGC         4  mDC.Lung      2630.0            48  \n",
      "CTCGAGGGTATTACCG         3        NK       158.0            38  \n",
      "TAGACCACATGGGAAC         5   T.CD.EM       263.0            41  \n",
      "TGTGGTAGTCACAAGG         0    Mono.2       399.0            48  \n",
      "...                    ...       ...         ...           ...  \n",
      "AACTGGTCAATAGCGG         4     Macro       634.0            46  \n",
      "TGTCCCAGTTGAGTTC         4     Macro      3748.0            50  \n",
      "CTCCTAGTCACCTCGT         2    Mono.2       215.0            46  \n",
      "CACCAGGGTACGCTGC         0    Mono.3       303.0            46  \n",
      "GTTCATTAGTCGAGTG         1    Mono.1       220.0            41  \n",
      "\n",
      "[10470 rows x 10 columns],\n",
      "    n_id=[7960],\n",
      "    input_id=[256],\n",
      "    batch_size=256,\n",
      "  },\n",
      "  (cell, ADT, cell)={\n",
      "    edge_index=[2, 11765],\n",
      "    e_id=[11765],\n",
      "  },\n",
      "  (cell, RNA, cell)={\n",
      "    edge_index=[2, 11765],\n",
      "    e_id=[11765],\n",
      "  }\n",
      ")\n",
      "HeteroData(\n",
      "  ADT={\n",
      "    x=[0, 52],\n",
      "    n_id=[0],\n",
      "  },\n",
      "  RNA={\n",
      "    x=[0, 3000],\n",
      "    n_id=[0],\n",
      "  },\n",
      "  cell={\n",
      "    x=[8065, 3052],\n",
      "    metadata=                  orig.ident  nCount_RNA  nFeature_RNA  tissue  group  volume  \\\n",
      "GACGTGCTCAGAGACG           0       753.0           430       0      2       1   \n",
      "GATTCAGTCACTGGGC           0      4848.0          1570       1      4       0   \n",
      "CTCGAGGGTATTACCG           0       769.0           488       0      3       1   \n",
      "TAGACCACATGGGAAC           0      1190.0           577       1      5       0   \n",
      "TGTGGTAGTCACAAGG           0      1786.0           826       0      0       0   \n",
      "...                      ...         ...           ...     ...    ...     ...   \n",
      "AACTGGTCAATAGCGG           0      3010.0          1276       1      4       0   \n",
      "TGTCCCAGTTGAGTTC           0      1791.0          1033       1      4       0   \n",
      "CTCCTAGTCACCTCGT           0      1814.0           792       0      2       1   \n",
      "CACCAGGGTACGCTGC           0       105.0            89       0      0       0   \n",
      "GTTCATTAGTCGAGTG           0      1444.0           698       0      1       0   \n",
      "\n",
      "                  sampleID  celltype  nCount_ADT  nFeature_ADT  \n",
      "GACGTGCTCAGAGACG         2   T.CD.EM       370.0            42  \n",
      "GATTCAGTCACTGGGC         4  mDC.Lung      2630.0            48  \n",
      "CTCGAGGGTATTACCG         3        NK       158.0            38  \n",
      "TAGACCACATGGGAAC         5   T.CD.EM       263.0            41  \n",
      "TGTGGTAGTCACAAGG         0    Mono.2       399.0            48  \n",
      "...                    ...       ...         ...           ...  \n",
      "AACTGGTCAATAGCGG         4     Macro       634.0            46  \n",
      "TGTCCCAGTTGAGTTC         4     Macro      3748.0            50  \n",
      "CTCCTAGTCACCTCGT         2    Mono.2       215.0            46  \n",
      "CACCAGGGTACGCTGC         0    Mono.3       303.0            46  \n",
      "GTTCATTAGTCGAGTG         1    Mono.1       220.0            41  \n",
      "\n",
      "[10470 rows x 10 columns],\n",
      "    n_id=[8065],\n",
      "    input_id=[256],\n",
      "    batch_size=256,\n",
      "  },\n",
      "  (cell, ADT, cell)={\n",
      "    edge_index=[2, 11735],\n",
      "    e_id=[11735],\n",
      "  },\n",
      "  (cell, RNA, cell)={\n",
      "    edge_index=[2, 11735],\n",
      "    e_id=[11735],\n",
      "  }\n",
      ")\n",
      "HeteroData(\n",
      "  ADT={\n",
      "    x=[0, 52],\n",
      "    n_id=[0],\n",
      "  },\n",
      "  RNA={\n",
      "    x=[0, 3000],\n",
      "    n_id=[0],\n",
      "  },\n",
      "  cell={\n",
      "    x=[8141, 3052],\n",
      "    metadata=                  orig.ident  nCount_RNA  nFeature_RNA  tissue  group  volume  \\\n",
      "GACGTGCTCAGAGACG           0       753.0           430       0      2       1   \n",
      "GATTCAGTCACTGGGC           0      4848.0          1570       1      4       0   \n",
      "CTCGAGGGTATTACCG           0       769.0           488       0      3       1   \n",
      "TAGACCACATGGGAAC           0      1190.0           577       1      5       0   \n",
      "TGTGGTAGTCACAAGG           0      1786.0           826       0      0       0   \n",
      "...                      ...         ...           ...     ...    ...     ...   \n",
      "AACTGGTCAATAGCGG           0      3010.0          1276       1      4       0   \n",
      "TGTCCCAGTTGAGTTC           0      1791.0          1033       1      4       0   \n",
      "CTCCTAGTCACCTCGT           0      1814.0           792       0      2       1   \n",
      "CACCAGGGTACGCTGC           0       105.0            89       0      0       0   \n",
      "GTTCATTAGTCGAGTG           0      1444.0           698       0      1       0   \n",
      "\n",
      "                  sampleID  celltype  nCount_ADT  nFeature_ADT  \n",
      "GACGTGCTCAGAGACG         2   T.CD.EM       370.0            42  \n",
      "GATTCAGTCACTGGGC         4  mDC.Lung      2630.0            48  \n",
      "CTCGAGGGTATTACCG         3        NK       158.0            38  \n",
      "TAGACCACATGGGAAC         5   T.CD.EM       263.0            41  \n",
      "TGTGGTAGTCACAAGG         0    Mono.2       399.0            48  \n",
      "...                    ...       ...         ...           ...  \n",
      "AACTGGTCAATAGCGG         4     Macro       634.0            46  \n",
      "TGTCCCAGTTGAGTTC         4     Macro      3748.0            50  \n",
      "CTCCTAGTCACCTCGT         2    Mono.2       215.0            46  \n",
      "CACCAGGGTACGCTGC         0    Mono.3       303.0            46  \n",
      "GTTCATTAGTCGAGTG         1    Mono.1       220.0            41  \n",
      "\n",
      "[10470 rows x 10 columns],\n",
      "    n_id=[8141],\n",
      "    input_id=[256],\n",
      "    batch_size=256,\n",
      "  },\n",
      "  (cell, ADT, cell)={\n",
      "    edge_index=[2, 11965],\n",
      "    e_id=[11965],\n",
      "  },\n",
      "  (cell, RNA, cell)={\n",
      "    edge_index=[2, 11965],\n",
      "    e_id=[11965],\n",
      "  }\n",
      ")\n",
      "HeteroData(\n",
      "  ADT={\n",
      "    x=[0, 52],\n",
      "    n_id=[0],\n",
      "  },\n",
      "  RNA={\n",
      "    x=[0, 3000],\n",
      "    n_id=[0],\n",
      "  },\n",
      "  cell={\n",
      "    x=[7933, 3052],\n",
      "    metadata=                  orig.ident  nCount_RNA  nFeature_RNA  tissue  group  volume  \\\n",
      "GACGTGCTCAGAGACG           0       753.0           430       0      2       1   \n",
      "GATTCAGTCACTGGGC           0      4848.0          1570       1      4       0   \n",
      "CTCGAGGGTATTACCG           0       769.0           488       0      3       1   \n",
      "TAGACCACATGGGAAC           0      1190.0           577       1      5       0   \n",
      "TGTGGTAGTCACAAGG           0      1786.0           826       0      0       0   \n",
      "...                      ...         ...           ...     ...    ...     ...   \n",
      "AACTGGTCAATAGCGG           0      3010.0          1276       1      4       0   \n",
      "TGTCCCAGTTGAGTTC           0      1791.0          1033       1      4       0   \n",
      "CTCCTAGTCACCTCGT           0      1814.0           792       0      2       1   \n",
      "CACCAGGGTACGCTGC           0       105.0            89       0      0       0   \n",
      "GTTCATTAGTCGAGTG           0      1444.0           698       0      1       0   \n",
      "\n",
      "                  sampleID  celltype  nCount_ADT  nFeature_ADT  \n",
      "GACGTGCTCAGAGACG         2   T.CD.EM       370.0            42  \n",
      "GATTCAGTCACTGGGC         4  mDC.Lung      2630.0            48  \n",
      "CTCGAGGGTATTACCG         3        NK       158.0            38  \n",
      "TAGACCACATGGGAAC         5   T.CD.EM       263.0            41  \n",
      "TGTGGTAGTCACAAGG         0    Mono.2       399.0            48  \n",
      "...                    ...       ...         ...           ...  \n",
      "AACTGGTCAATAGCGG         4     Macro       634.0            46  \n",
      "TGTCCCAGTTGAGTTC         4     Macro      3748.0            50  \n",
      "CTCCTAGTCACCTCGT         2    Mono.2       215.0            46  \n",
      "CACCAGGGTACGCTGC         0    Mono.3       303.0            46  \n",
      "GTTCATTAGTCGAGTG         1    Mono.1       220.0            41  \n",
      "\n",
      "[10470 rows x 10 columns],\n",
      "    n_id=[7933],\n",
      "    input_id=[256],\n",
      "    batch_size=256,\n",
      "  },\n",
      "  (cell, ADT, cell)={\n",
      "    edge_index=[2, 11620],\n",
      "    e_id=[11620],\n",
      "  },\n",
      "  (cell, RNA, cell)={\n",
      "    edge_index=[2, 11620],\n",
      "    e_id=[11620],\n",
      "  }\n",
      ")\n",
      "HeteroData(\n",
      "  ADT={\n",
      "    x=[0, 52],\n",
      "    n_id=[0],\n",
      "  },\n",
      "  RNA={\n",
      "    x=[0, 3000],\n",
      "    n_id=[0],\n",
      "  },\n",
      "  cell={\n",
      "    x=[8010, 3052],\n",
      "    metadata=                  orig.ident  nCount_RNA  nFeature_RNA  tissue  group  volume  \\\n",
      "GACGTGCTCAGAGACG           0       753.0           430       0      2       1   \n",
      "GATTCAGTCACTGGGC           0      4848.0          1570       1      4       0   \n",
      "CTCGAGGGTATTACCG           0       769.0           488       0      3       1   \n",
      "TAGACCACATGGGAAC           0      1190.0           577       1      5       0   \n",
      "TGTGGTAGTCACAAGG           0      1786.0           826       0      0       0   \n",
      "...                      ...         ...           ...     ...    ...     ...   \n",
      "AACTGGTCAATAGCGG           0      3010.0          1276       1      4       0   \n",
      "TGTCCCAGTTGAGTTC           0      1791.0          1033       1      4       0   \n",
      "CTCCTAGTCACCTCGT           0      1814.0           792       0      2       1   \n",
      "CACCAGGGTACGCTGC           0       105.0            89       0      0       0   \n",
      "GTTCATTAGTCGAGTG           0      1444.0           698       0      1       0   \n",
      "\n",
      "                  sampleID  celltype  nCount_ADT  nFeature_ADT  \n",
      "GACGTGCTCAGAGACG         2   T.CD.EM       370.0            42  \n",
      "GATTCAGTCACTGGGC         4  mDC.Lung      2630.0            48  \n",
      "CTCGAGGGTATTACCG         3        NK       158.0            38  \n",
      "TAGACCACATGGGAAC         5   T.CD.EM       263.0            41  \n",
      "TGTGGTAGTCACAAGG         0    Mono.2       399.0            48  \n",
      "...                    ...       ...         ...           ...  \n",
      "AACTGGTCAATAGCGG         4     Macro       634.0            46  \n",
      "TGTCCCAGTTGAGTTC         4     Macro      3748.0            50  \n",
      "CTCCTAGTCACCTCGT         2    Mono.2       215.0            46  \n",
      "CACCAGGGTACGCTGC         0    Mono.3       303.0            46  \n",
      "GTTCATTAGTCGAGTG         1    Mono.1       220.0            41  \n",
      "\n",
      "[10470 rows x 10 columns],\n",
      "    n_id=[8010],\n",
      "    input_id=[256],\n",
      "    batch_size=256,\n",
      "  },\n",
      "  (cell, ADT, cell)={\n",
      "    edge_index=[2, 11825],\n",
      "    e_id=[11825],\n",
      "  },\n",
      "  (cell, RNA, cell)={\n",
      "    edge_index=[2, 11825],\n",
      "    e_id=[11825],\n",
      "  }\n",
      ")\n",
      "HeteroData(\n",
      "  ADT={\n",
      "    x=[0, 52],\n",
      "    n_id=[0],\n",
      "  },\n",
      "  RNA={\n",
      "    x=[0, 3000],\n",
      "    n_id=[0],\n",
      "  },\n",
      "  cell={\n",
      "    x=[8069, 3052],\n",
      "    metadata=                  orig.ident  nCount_RNA  nFeature_RNA  tissue  group  volume  \\\n",
      "GACGTGCTCAGAGACG           0       753.0           430       0      2       1   \n",
      "GATTCAGTCACTGGGC           0      4848.0          1570       1      4       0   \n",
      "CTCGAGGGTATTACCG           0       769.0           488       0      3       1   \n",
      "TAGACCACATGGGAAC           0      1190.0           577       1      5       0   \n",
      "TGTGGTAGTCACAAGG           0      1786.0           826       0      0       0   \n",
      "...                      ...         ...           ...     ...    ...     ...   \n",
      "AACTGGTCAATAGCGG           0      3010.0          1276       1      4       0   \n",
      "TGTCCCAGTTGAGTTC           0      1791.0          1033       1      4       0   \n",
      "CTCCTAGTCACCTCGT           0      1814.0           792       0      2       1   \n",
      "CACCAGGGTACGCTGC           0       105.0            89       0      0       0   \n",
      "GTTCATTAGTCGAGTG           0      1444.0           698       0      1       0   \n",
      "\n",
      "                  sampleID  celltype  nCount_ADT  nFeature_ADT  \n",
      "GACGTGCTCAGAGACG         2   T.CD.EM       370.0            42  \n",
      "GATTCAGTCACTGGGC         4  mDC.Lung      2630.0            48  \n",
      "CTCGAGGGTATTACCG         3        NK       158.0            38  \n",
      "TAGACCACATGGGAAC         5   T.CD.EM       263.0            41  \n",
      "TGTGGTAGTCACAAGG         0    Mono.2       399.0            48  \n",
      "...                    ...       ...         ...           ...  \n",
      "AACTGGTCAATAGCGG         4     Macro       634.0            46  \n",
      "TGTCCCAGTTGAGTTC         4     Macro      3748.0            50  \n",
      "CTCCTAGTCACCTCGT         2    Mono.2       215.0            46  \n",
      "CACCAGGGTACGCTGC         0    Mono.3       303.0            46  \n",
      "GTTCATTAGTCGAGTG         1    Mono.1       220.0            41  \n",
      "\n",
      "[10470 rows x 10 columns],\n",
      "    n_id=[8069],\n",
      "    input_id=[256],\n",
      "    batch_size=256,\n",
      "  },\n",
      "  (cell, ADT, cell)={\n",
      "    edge_index=[2, 11695],\n",
      "    e_id=[11695],\n",
      "  },\n",
      "  (cell, RNA, cell)={\n",
      "    edge_index=[2, 11695],\n",
      "    e_id=[11695],\n",
      "  }\n",
      ")\n",
      "HeteroData(\n",
      "  ADT={\n",
      "    x=[0, 52],\n",
      "    n_id=[0],\n",
      "  },\n",
      "  RNA={\n",
      "    x=[0, 3000],\n",
      "    n_id=[0],\n",
      "  },\n",
      "  cell={\n",
      "    x=[8094, 3052],\n",
      "    metadata=                  orig.ident  nCount_RNA  nFeature_RNA  tissue  group  volume  \\\n",
      "GACGTGCTCAGAGACG           0       753.0           430       0      2       1   \n",
      "GATTCAGTCACTGGGC           0      4848.0          1570       1      4       0   \n",
      "CTCGAGGGTATTACCG           0       769.0           488       0      3       1   \n",
      "TAGACCACATGGGAAC           0      1190.0           577       1      5       0   \n",
      "TGTGGTAGTCACAAGG           0      1786.0           826       0      0       0   \n",
      "...                      ...         ...           ...     ...    ...     ...   \n",
      "AACTGGTCAATAGCGG           0      3010.0          1276       1      4       0   \n",
      "TGTCCCAGTTGAGTTC           0      1791.0          1033       1      4       0   \n",
      "CTCCTAGTCACCTCGT           0      1814.0           792       0      2       1   \n",
      "CACCAGGGTACGCTGC           0       105.0            89       0      0       0   \n",
      "GTTCATTAGTCGAGTG           0      1444.0           698       0      1       0   \n",
      "\n",
      "                  sampleID  celltype  nCount_ADT  nFeature_ADT  \n",
      "GACGTGCTCAGAGACG         2   T.CD.EM       370.0            42  \n",
      "GATTCAGTCACTGGGC         4  mDC.Lung      2630.0            48  \n",
      "CTCGAGGGTATTACCG         3        NK       158.0            38  \n",
      "TAGACCACATGGGAAC         5   T.CD.EM       263.0            41  \n",
      "TGTGGTAGTCACAAGG         0    Mono.2       399.0            48  \n",
      "...                    ...       ...         ...           ...  \n",
      "AACTGGTCAATAGCGG         4     Macro       634.0            46  \n",
      "TGTCCCAGTTGAGTTC         4     Macro      3748.0            50  \n",
      "CTCCTAGTCACCTCGT         2    Mono.2       215.0            46  \n",
      "CACCAGGGTACGCTGC         0    Mono.3       303.0            46  \n",
      "GTTCATTAGTCGAGTG         1    Mono.1       220.0            41  \n",
      "\n",
      "[10470 rows x 10 columns],\n",
      "    n_id=[8094],\n",
      "    input_id=[256],\n",
      "    batch_size=256,\n",
      "  },\n",
      "  (cell, ADT, cell)={\n",
      "    edge_index=[2, 11915],\n",
      "    e_id=[11915],\n",
      "  },\n",
      "  (cell, RNA, cell)={\n",
      "    edge_index=[2, 11915],\n",
      "    e_id=[11915],\n",
      "  }\n",
      ")\n",
      "HeteroData(\n",
      "  ADT={\n",
      "    x=[0, 52],\n",
      "    n_id=[0],\n",
      "  },\n",
      "  RNA={\n",
      "    x=[0, 3000],\n",
      "    n_id=[0],\n",
      "  },\n",
      "  cell={\n",
      "    x=[7963, 3052],\n",
      "    metadata=                  orig.ident  nCount_RNA  nFeature_RNA  tissue  group  volume  \\\n",
      "GACGTGCTCAGAGACG           0       753.0           430       0      2       1   \n",
      "GATTCAGTCACTGGGC           0      4848.0          1570       1      4       0   \n",
      "CTCGAGGGTATTACCG           0       769.0           488       0      3       1   \n",
      "TAGACCACATGGGAAC           0      1190.0           577       1      5       0   \n",
      "TGTGGTAGTCACAAGG           0      1786.0           826       0      0       0   \n",
      "...                      ...         ...           ...     ...    ...     ...   \n",
      "AACTGGTCAATAGCGG           0      3010.0          1276       1      4       0   \n",
      "TGTCCCAGTTGAGTTC           0      1791.0          1033       1      4       0   \n",
      "CTCCTAGTCACCTCGT           0      1814.0           792       0      2       1   \n",
      "CACCAGGGTACGCTGC           0       105.0            89       0      0       0   \n",
      "GTTCATTAGTCGAGTG           0      1444.0           698       0      1       0   \n",
      "\n",
      "                  sampleID  celltype  nCount_ADT  nFeature_ADT  \n",
      "GACGTGCTCAGAGACG         2   T.CD.EM       370.0            42  \n",
      "GATTCAGTCACTGGGC         4  mDC.Lung      2630.0            48  \n",
      "CTCGAGGGTATTACCG         3        NK       158.0            38  \n",
      "TAGACCACATGGGAAC         5   T.CD.EM       263.0            41  \n",
      "TGTGGTAGTCACAAGG         0    Mono.2       399.0            48  \n",
      "...                    ...       ...         ...           ...  \n",
      "AACTGGTCAATAGCGG         4     Macro       634.0            46  \n",
      "TGTCCCAGTTGAGTTC         4     Macro      3748.0            50  \n",
      "CTCCTAGTCACCTCGT         2    Mono.2       215.0            46  \n",
      "CACCAGGGTACGCTGC         0    Mono.3       303.0            46  \n",
      "GTTCATTAGTCGAGTG         1    Mono.1       220.0            41  \n",
      "\n",
      "[10470 rows x 10 columns],\n",
      "    n_id=[7963],\n",
      "    input_id=[256],\n",
      "    batch_size=256,\n",
      "  },\n",
      "  (cell, ADT, cell)={\n",
      "    edge_index=[2, 11720],\n",
      "    e_id=[11720],\n",
      "  },\n",
      "  (cell, RNA, cell)={\n",
      "    edge_index=[2, 11720],\n",
      "    e_id=[11720],\n",
      "  }\n",
      ")\n",
      "HeteroData(\n",
      "  ADT={\n",
      "    x=[0, 52],\n",
      "    n_id=[0],\n",
      "  },\n",
      "  RNA={\n",
      "    x=[0, 3000],\n",
      "    n_id=[0],\n",
      "  },\n",
      "  cell={\n",
      "    x=[7974, 3052],\n",
      "    metadata=                  orig.ident  nCount_RNA  nFeature_RNA  tissue  group  volume  \\\n",
      "GACGTGCTCAGAGACG           0       753.0           430       0      2       1   \n",
      "GATTCAGTCACTGGGC           0      4848.0          1570       1      4       0   \n",
      "CTCGAGGGTATTACCG           0       769.0           488       0      3       1   \n",
      "TAGACCACATGGGAAC           0      1190.0           577       1      5       0   \n",
      "TGTGGTAGTCACAAGG           0      1786.0           826       0      0       0   \n",
      "...                      ...         ...           ...     ...    ...     ...   \n",
      "AACTGGTCAATAGCGG           0      3010.0          1276       1      4       0   \n",
      "TGTCCCAGTTGAGTTC           0      1791.0          1033       1      4       0   \n",
      "CTCCTAGTCACCTCGT           0      1814.0           792       0      2       1   \n",
      "CACCAGGGTACGCTGC           0       105.0            89       0      0       0   \n",
      "GTTCATTAGTCGAGTG           0      1444.0           698       0      1       0   \n",
      "\n",
      "                  sampleID  celltype  nCount_ADT  nFeature_ADT  \n",
      "GACGTGCTCAGAGACG         2   T.CD.EM       370.0            42  \n",
      "GATTCAGTCACTGGGC         4  mDC.Lung      2630.0            48  \n",
      "CTCGAGGGTATTACCG         3        NK       158.0            38  \n",
      "TAGACCACATGGGAAC         5   T.CD.EM       263.0            41  \n",
      "TGTGGTAGTCACAAGG         0    Mono.2       399.0            48  \n",
      "...                    ...       ...         ...           ...  \n",
      "AACTGGTCAATAGCGG         4     Macro       634.0            46  \n",
      "TGTCCCAGTTGAGTTC         4     Macro      3748.0            50  \n",
      "CTCCTAGTCACCTCGT         2    Mono.2       215.0            46  \n",
      "CACCAGGGTACGCTGC         0    Mono.3       303.0            46  \n",
      "GTTCATTAGTCGAGTG         1    Mono.1       220.0            41  \n",
      "\n",
      "[10470 rows x 10 columns],\n",
      "    n_id=[7974],\n",
      "    input_id=[256],\n",
      "    batch_size=256,\n",
      "  },\n",
      "  (cell, ADT, cell)={\n",
      "    edge_index=[2, 11630],\n",
      "    e_id=[11630],\n",
      "  },\n",
      "  (cell, RNA, cell)={\n",
      "    edge_index=[2, 11630],\n",
      "    e_id=[11630],\n",
      "  }\n",
      ")\n",
      "HeteroData(\n",
      "  ADT={\n",
      "    x=[0, 52],\n",
      "    n_id=[0],\n",
      "  },\n",
      "  RNA={\n",
      "    x=[0, 3000],\n",
      "    n_id=[0],\n",
      "  },\n",
      "  cell={\n",
      "    x=[8036, 3052],\n",
      "    metadata=                  orig.ident  nCount_RNA  nFeature_RNA  tissue  group  volume  \\\n",
      "GACGTGCTCAGAGACG           0       753.0           430       0      2       1   \n",
      "GATTCAGTCACTGGGC           0      4848.0          1570       1      4       0   \n",
      "CTCGAGGGTATTACCG           0       769.0           488       0      3       1   \n",
      "TAGACCACATGGGAAC           0      1190.0           577       1      5       0   \n",
      "TGTGGTAGTCACAAGG           0      1786.0           826       0      0       0   \n",
      "...                      ...         ...           ...     ...    ...     ...   \n",
      "AACTGGTCAATAGCGG           0      3010.0          1276       1      4       0   \n",
      "TGTCCCAGTTGAGTTC           0      1791.0          1033       1      4       0   \n",
      "CTCCTAGTCACCTCGT           0      1814.0           792       0      2       1   \n",
      "CACCAGGGTACGCTGC           0       105.0            89       0      0       0   \n",
      "GTTCATTAGTCGAGTG           0      1444.0           698       0      1       0   \n",
      "\n",
      "                  sampleID  celltype  nCount_ADT  nFeature_ADT  \n",
      "GACGTGCTCAGAGACG         2   T.CD.EM       370.0            42  \n",
      "GATTCAGTCACTGGGC         4  mDC.Lung      2630.0            48  \n",
      "CTCGAGGGTATTACCG         3        NK       158.0            38  \n",
      "TAGACCACATGGGAAC         5   T.CD.EM       263.0            41  \n",
      "TGTGGTAGTCACAAGG         0    Mono.2       399.0            48  \n",
      "...                    ...       ...         ...           ...  \n",
      "AACTGGTCAATAGCGG         4     Macro       634.0            46  \n",
      "TGTCCCAGTTGAGTTC         4     Macro      3748.0            50  \n",
      "CTCCTAGTCACCTCGT         2    Mono.2       215.0            46  \n",
      "CACCAGGGTACGCTGC         0    Mono.3       303.0            46  \n",
      "GTTCATTAGTCGAGTG         1    Mono.1       220.0            41  \n",
      "\n",
      "[10470 rows x 10 columns],\n",
      "    n_id=[8036],\n",
      "    input_id=[256],\n",
      "    batch_size=256,\n",
      "  },\n",
      "  (cell, ADT, cell)={\n",
      "    edge_index=[2, 11940],\n",
      "    e_id=[11940],\n",
      "  },\n",
      "  (cell, RNA, cell)={\n",
      "    edge_index=[2, 11940],\n",
      "    e_id=[11940],\n",
      "  }\n",
      ")\n",
      "HeteroData(\n",
      "  ADT={\n",
      "    x=[0, 52],\n",
      "    n_id=[0],\n",
      "  },\n",
      "  RNA={\n",
      "    x=[0, 3000],\n",
      "    n_id=[0],\n",
      "  },\n",
      "  cell={\n",
      "    x=[8085, 3052],\n",
      "    metadata=                  orig.ident  nCount_RNA  nFeature_RNA  tissue  group  volume  \\\n",
      "GACGTGCTCAGAGACG           0       753.0           430       0      2       1   \n",
      "GATTCAGTCACTGGGC           0      4848.0          1570       1      4       0   \n",
      "CTCGAGGGTATTACCG           0       769.0           488       0      3       1   \n",
      "TAGACCACATGGGAAC           0      1190.0           577       1      5       0   \n",
      "TGTGGTAGTCACAAGG           0      1786.0           826       0      0       0   \n",
      "...                      ...         ...           ...     ...    ...     ...   \n",
      "AACTGGTCAATAGCGG           0      3010.0          1276       1      4       0   \n",
      "TGTCCCAGTTGAGTTC           0      1791.0          1033       1      4       0   \n",
      "CTCCTAGTCACCTCGT           0      1814.0           792       0      2       1   \n",
      "CACCAGGGTACGCTGC           0       105.0            89       0      0       0   \n",
      "GTTCATTAGTCGAGTG           0      1444.0           698       0      1       0   \n",
      "\n",
      "                  sampleID  celltype  nCount_ADT  nFeature_ADT  \n",
      "GACGTGCTCAGAGACG         2   T.CD.EM       370.0            42  \n",
      "GATTCAGTCACTGGGC         4  mDC.Lung      2630.0            48  \n",
      "CTCGAGGGTATTACCG         3        NK       158.0            38  \n",
      "TAGACCACATGGGAAC         5   T.CD.EM       263.0            41  \n",
      "TGTGGTAGTCACAAGG         0    Mono.2       399.0            48  \n",
      "...                    ...       ...         ...           ...  \n",
      "AACTGGTCAATAGCGG         4     Macro       634.0            46  \n",
      "TGTCCCAGTTGAGTTC         4     Macro      3748.0            50  \n",
      "CTCCTAGTCACCTCGT         2    Mono.2       215.0            46  \n",
      "CACCAGGGTACGCTGC         0    Mono.3       303.0            46  \n",
      "GTTCATTAGTCGAGTG         1    Mono.1       220.0            41  \n",
      "\n",
      "[10470 rows x 10 columns],\n",
      "    n_id=[8085],\n",
      "    input_id=[256],\n",
      "    batch_size=256,\n",
      "  },\n",
      "  (cell, ADT, cell)={\n",
      "    edge_index=[2, 11900],\n",
      "    e_id=[11900],\n",
      "  },\n",
      "  (cell, RNA, cell)={\n",
      "    edge_index=[2, 11900],\n",
      "    e_id=[11900],\n",
      "  }\n",
      ")\n",
      "HeteroData(\n",
      "  ADT={\n",
      "    x=[0, 52],\n",
      "    n_id=[0],\n",
      "  },\n",
      "  RNA={\n",
      "    x=[0, 3000],\n",
      "    n_id=[0],\n",
      "  },\n",
      "  cell={\n",
      "    x=[8029, 3052],\n",
      "    metadata=                  orig.ident  nCount_RNA  nFeature_RNA  tissue  group  volume  \\\n",
      "GACGTGCTCAGAGACG           0       753.0           430       0      2       1   \n",
      "GATTCAGTCACTGGGC           0      4848.0          1570       1      4       0   \n",
      "CTCGAGGGTATTACCG           0       769.0           488       0      3       1   \n",
      "TAGACCACATGGGAAC           0      1190.0           577       1      5       0   \n",
      "TGTGGTAGTCACAAGG           0      1786.0           826       0      0       0   \n",
      "...                      ...         ...           ...     ...    ...     ...   \n",
      "AACTGGTCAATAGCGG           0      3010.0          1276       1      4       0   \n",
      "TGTCCCAGTTGAGTTC           0      1791.0          1033       1      4       0   \n",
      "CTCCTAGTCACCTCGT           0      1814.0           792       0      2       1   \n",
      "CACCAGGGTACGCTGC           0       105.0            89       0      0       0   \n",
      "GTTCATTAGTCGAGTG           0      1444.0           698       0      1       0   \n",
      "\n",
      "                  sampleID  celltype  nCount_ADT  nFeature_ADT  \n",
      "GACGTGCTCAGAGACG         2   T.CD.EM       370.0            42  \n",
      "GATTCAGTCACTGGGC         4  mDC.Lung      2630.0            48  \n",
      "CTCGAGGGTATTACCG         3        NK       158.0            38  \n",
      "TAGACCACATGGGAAC         5   T.CD.EM       263.0            41  \n",
      "TGTGGTAGTCACAAGG         0    Mono.2       399.0            48  \n",
      "...                    ...       ...         ...           ...  \n",
      "AACTGGTCAATAGCGG         4     Macro       634.0            46  \n",
      "TGTCCCAGTTGAGTTC         4     Macro      3748.0            50  \n",
      "CTCCTAGTCACCTCGT         2    Mono.2       215.0            46  \n",
      "CACCAGGGTACGCTGC         0    Mono.3       303.0            46  \n",
      "GTTCATTAGTCGAGTG         1    Mono.1       220.0            41  \n",
      "\n",
      "[10470 rows x 10 columns],\n",
      "    n_id=[8029],\n",
      "    input_id=[256],\n",
      "    batch_size=256,\n",
      "  },\n",
      "  (cell, ADT, cell)={\n",
      "    edge_index=[2, 11760],\n",
      "    e_id=[11760],\n",
      "  },\n",
      "  (cell, RNA, cell)={\n",
      "    edge_index=[2, 11760],\n",
      "    e_id=[11760],\n",
      "  }\n",
      ")\n",
      "HeteroData(\n",
      "  ADT={\n",
      "    x=[0, 52],\n",
      "    n_id=[0],\n",
      "  },\n",
      "  RNA={\n",
      "    x=[0, 3000],\n",
      "    n_id=[0],\n",
      "  },\n",
      "  cell={\n",
      "    x=[8038, 3052],\n",
      "    metadata=                  orig.ident  nCount_RNA  nFeature_RNA  tissue  group  volume  \\\n",
      "GACGTGCTCAGAGACG           0       753.0           430       0      2       1   \n",
      "GATTCAGTCACTGGGC           0      4848.0          1570       1      4       0   \n",
      "CTCGAGGGTATTACCG           0       769.0           488       0      3       1   \n",
      "TAGACCACATGGGAAC           0      1190.0           577       1      5       0   \n",
      "TGTGGTAGTCACAAGG           0      1786.0           826       0      0       0   \n",
      "...                      ...         ...           ...     ...    ...     ...   \n",
      "AACTGGTCAATAGCGG           0      3010.0          1276       1      4       0   \n",
      "TGTCCCAGTTGAGTTC           0      1791.0          1033       1      4       0   \n",
      "CTCCTAGTCACCTCGT           0      1814.0           792       0      2       1   \n",
      "CACCAGGGTACGCTGC           0       105.0            89       0      0       0   \n",
      "GTTCATTAGTCGAGTG           0      1444.0           698       0      1       0   \n",
      "\n",
      "                  sampleID  celltype  nCount_ADT  nFeature_ADT  \n",
      "GACGTGCTCAGAGACG         2   T.CD.EM       370.0            42  \n",
      "GATTCAGTCACTGGGC         4  mDC.Lung      2630.0            48  \n",
      "CTCGAGGGTATTACCG         3        NK       158.0            38  \n",
      "TAGACCACATGGGAAC         5   T.CD.EM       263.0            41  \n",
      "TGTGGTAGTCACAAGG         0    Mono.2       399.0            48  \n",
      "...                    ...       ...         ...           ...  \n",
      "AACTGGTCAATAGCGG         4     Macro       634.0            46  \n",
      "TGTCCCAGTTGAGTTC         4     Macro      3748.0            50  \n",
      "CTCCTAGTCACCTCGT         2    Mono.2       215.0            46  \n",
      "CACCAGGGTACGCTGC         0    Mono.3       303.0            46  \n",
      "GTTCATTAGTCGAGTG         1    Mono.1       220.0            41  \n",
      "\n",
      "[10470 rows x 10 columns],\n",
      "    n_id=[8038],\n",
      "    input_id=[256],\n",
      "    batch_size=256,\n",
      "  },\n",
      "  (cell, ADT, cell)={\n",
      "    edge_index=[2, 11870],\n",
      "    e_id=[11870],\n",
      "  },\n",
      "  (cell, RNA, cell)={\n",
      "    edge_index=[2, 11870],\n",
      "    e_id=[11870],\n",
      "  }\n",
      ")\n",
      "HeteroData(\n",
      "  ADT={\n",
      "    x=[0, 52],\n",
      "    n_id=[0],\n",
      "  },\n",
      "  RNA={\n",
      "    x=[0, 3000],\n",
      "    n_id=[0],\n",
      "  },\n",
      "  cell={\n",
      "    x=[8074, 3052],\n",
      "    metadata=                  orig.ident  nCount_RNA  nFeature_RNA  tissue  group  volume  \\\n",
      "GACGTGCTCAGAGACG           0       753.0           430       0      2       1   \n",
      "GATTCAGTCACTGGGC           0      4848.0          1570       1      4       0   \n",
      "CTCGAGGGTATTACCG           0       769.0           488       0      3       1   \n",
      "TAGACCACATGGGAAC           0      1190.0           577       1      5       0   \n",
      "TGTGGTAGTCACAAGG           0      1786.0           826       0      0       0   \n",
      "...                      ...         ...           ...     ...    ...     ...   \n",
      "AACTGGTCAATAGCGG           0      3010.0          1276       1      4       0   \n",
      "TGTCCCAGTTGAGTTC           0      1791.0          1033       1      4       0   \n",
      "CTCCTAGTCACCTCGT           0      1814.0           792       0      2       1   \n",
      "CACCAGGGTACGCTGC           0       105.0            89       0      0       0   \n",
      "GTTCATTAGTCGAGTG           0      1444.0           698       0      1       0   \n",
      "\n",
      "                  sampleID  celltype  nCount_ADT  nFeature_ADT  \n",
      "GACGTGCTCAGAGACG         2   T.CD.EM       370.0            42  \n",
      "GATTCAGTCACTGGGC         4  mDC.Lung      2630.0            48  \n",
      "CTCGAGGGTATTACCG         3        NK       158.0            38  \n",
      "TAGACCACATGGGAAC         5   T.CD.EM       263.0            41  \n",
      "TGTGGTAGTCACAAGG         0    Mono.2       399.0            48  \n",
      "...                    ...       ...         ...           ...  \n",
      "AACTGGTCAATAGCGG         4     Macro       634.0            46  \n",
      "TGTCCCAGTTGAGTTC         4     Macro      3748.0            50  \n",
      "CTCCTAGTCACCTCGT         2    Mono.2       215.0            46  \n",
      "CACCAGGGTACGCTGC         0    Mono.3       303.0            46  \n",
      "GTTCATTAGTCGAGTG         1    Mono.1       220.0            41  \n",
      "\n",
      "[10470 rows x 10 columns],\n",
      "    n_id=[8074],\n",
      "    input_id=[256],\n",
      "    batch_size=256,\n",
      "  },\n",
      "  (cell, ADT, cell)={\n",
      "    edge_index=[2, 11780],\n",
      "    e_id=[11780],\n",
      "  },\n",
      "  (cell, RNA, cell)={\n",
      "    edge_index=[2, 11780],\n",
      "    e_id=[11780],\n",
      "  }\n",
      ")\n",
      "HeteroData(\n",
      "  ADT={\n",
      "    x=[0, 52],\n",
      "    n_id=[0],\n",
      "  },\n",
      "  RNA={\n",
      "    x=[0, 3000],\n",
      "    n_id=[0],\n",
      "  },\n",
      "  cell={\n",
      "    x=[8156, 3052],\n",
      "    metadata=                  orig.ident  nCount_RNA  nFeature_RNA  tissue  group  volume  \\\n",
      "GACGTGCTCAGAGACG           0       753.0           430       0      2       1   \n",
      "GATTCAGTCACTGGGC           0      4848.0          1570       1      4       0   \n",
      "CTCGAGGGTATTACCG           0       769.0           488       0      3       1   \n",
      "TAGACCACATGGGAAC           0      1190.0           577       1      5       0   \n",
      "TGTGGTAGTCACAAGG           0      1786.0           826       0      0       0   \n",
      "...                      ...         ...           ...     ...    ...     ...   \n",
      "AACTGGTCAATAGCGG           0      3010.0          1276       1      4       0   \n",
      "TGTCCCAGTTGAGTTC           0      1791.0          1033       1      4       0   \n",
      "CTCCTAGTCACCTCGT           0      1814.0           792       0      2       1   \n",
      "CACCAGGGTACGCTGC           0       105.0            89       0      0       0   \n",
      "GTTCATTAGTCGAGTG           0      1444.0           698       0      1       0   \n",
      "\n",
      "                  sampleID  celltype  nCount_ADT  nFeature_ADT  \n",
      "GACGTGCTCAGAGACG         2   T.CD.EM       370.0            42  \n",
      "GATTCAGTCACTGGGC         4  mDC.Lung      2630.0            48  \n",
      "CTCGAGGGTATTACCG         3        NK       158.0            38  \n",
      "TAGACCACATGGGAAC         5   T.CD.EM       263.0            41  \n",
      "TGTGGTAGTCACAAGG         0    Mono.2       399.0            48  \n",
      "...                    ...       ...         ...           ...  \n",
      "AACTGGTCAATAGCGG         4     Macro       634.0            46  \n",
      "TGTCCCAGTTGAGTTC         4     Macro      3748.0            50  \n",
      "CTCCTAGTCACCTCGT         2    Mono.2       215.0            46  \n",
      "CACCAGGGTACGCTGC         0    Mono.3       303.0            46  \n",
      "GTTCATTAGTCGAGTG         1    Mono.1       220.0            41  \n",
      "\n",
      "[10470 rows x 10 columns],\n",
      "    n_id=[8156],\n",
      "    input_id=[256],\n",
      "    batch_size=256,\n",
      "  },\n",
      "  (cell, ADT, cell)={\n",
      "    edge_index=[2, 11990],\n",
      "    e_id=[11990],\n",
      "  },\n",
      "  (cell, RNA, cell)={\n",
      "    edge_index=[2, 11990],\n",
      "    e_id=[11990],\n",
      "  }\n",
      ")\n",
      "HeteroData(\n",
      "  ADT={\n",
      "    x=[0, 52],\n",
      "    n_id=[0],\n",
      "  },\n",
      "  RNA={\n",
      "    x=[0, 3000],\n",
      "    n_id=[0],\n",
      "  },\n",
      "  cell={\n",
      "    x=[7979, 3052],\n",
      "    metadata=                  orig.ident  nCount_RNA  nFeature_RNA  tissue  group  volume  \\\n",
      "GACGTGCTCAGAGACG           0       753.0           430       0      2       1   \n",
      "GATTCAGTCACTGGGC           0      4848.0          1570       1      4       0   \n",
      "CTCGAGGGTATTACCG           0       769.0           488       0      3       1   \n",
      "TAGACCACATGGGAAC           0      1190.0           577       1      5       0   \n",
      "TGTGGTAGTCACAAGG           0      1786.0           826       0      0       0   \n",
      "...                      ...         ...           ...     ...    ...     ...   \n",
      "AACTGGTCAATAGCGG           0      3010.0          1276       1      4       0   \n",
      "TGTCCCAGTTGAGTTC           0      1791.0          1033       1      4       0   \n",
      "CTCCTAGTCACCTCGT           0      1814.0           792       0      2       1   \n",
      "CACCAGGGTACGCTGC           0       105.0            89       0      0       0   \n",
      "GTTCATTAGTCGAGTG           0      1444.0           698       0      1       0   \n",
      "\n",
      "                  sampleID  celltype  nCount_ADT  nFeature_ADT  \n",
      "GACGTGCTCAGAGACG         2   T.CD.EM       370.0            42  \n",
      "GATTCAGTCACTGGGC         4  mDC.Lung      2630.0            48  \n",
      "CTCGAGGGTATTACCG         3        NK       158.0            38  \n",
      "TAGACCACATGGGAAC         5   T.CD.EM       263.0            41  \n",
      "TGTGGTAGTCACAAGG         0    Mono.2       399.0            48  \n",
      "...                    ...       ...         ...           ...  \n",
      "AACTGGTCAATAGCGG         4     Macro       634.0            46  \n",
      "TGTCCCAGTTGAGTTC         4     Macro      3748.0            50  \n",
      "CTCCTAGTCACCTCGT         2    Mono.2       215.0            46  \n",
      "CACCAGGGTACGCTGC         0    Mono.3       303.0            46  \n",
      "GTTCATTAGTCGAGTG         1    Mono.1       220.0            41  \n",
      "\n",
      "[10470 rows x 10 columns],\n",
      "    n_id=[7979],\n",
      "    input_id=[256],\n",
      "    batch_size=256,\n",
      "  },\n",
      "  (cell, ADT, cell)={\n",
      "    edge_index=[2, 11695],\n",
      "    e_id=[11695],\n",
      "  },\n",
      "  (cell, RNA, cell)={\n",
      "    edge_index=[2, 11695],\n",
      "    e_id=[11695],\n",
      "  }\n",
      ")\n",
      "HeteroData(\n",
      "  ADT={\n",
      "    x=[0, 52],\n",
      "    n_id=[0],\n",
      "  },\n",
      "  RNA={\n",
      "    x=[0, 3000],\n",
      "    n_id=[0],\n",
      "  },\n",
      "  cell={\n",
      "    x=[8088, 3052],\n",
      "    metadata=                  orig.ident  nCount_RNA  nFeature_RNA  tissue  group  volume  \\\n",
      "GACGTGCTCAGAGACG           0       753.0           430       0      2       1   \n",
      "GATTCAGTCACTGGGC           0      4848.0          1570       1      4       0   \n",
      "CTCGAGGGTATTACCG           0       769.0           488       0      3       1   \n",
      "TAGACCACATGGGAAC           0      1190.0           577       1      5       0   \n",
      "TGTGGTAGTCACAAGG           0      1786.0           826       0      0       0   \n",
      "...                      ...         ...           ...     ...    ...     ...   \n",
      "AACTGGTCAATAGCGG           0      3010.0          1276       1      4       0   \n",
      "TGTCCCAGTTGAGTTC           0      1791.0          1033       1      4       0   \n",
      "CTCCTAGTCACCTCGT           0      1814.0           792       0      2       1   \n",
      "CACCAGGGTACGCTGC           0       105.0            89       0      0       0   \n",
      "GTTCATTAGTCGAGTG           0      1444.0           698       0      1       0   \n",
      "\n",
      "                  sampleID  celltype  nCount_ADT  nFeature_ADT  \n",
      "GACGTGCTCAGAGACG         2   T.CD.EM       370.0            42  \n",
      "GATTCAGTCACTGGGC         4  mDC.Lung      2630.0            48  \n",
      "CTCGAGGGTATTACCG         3        NK       158.0            38  \n",
      "TAGACCACATGGGAAC         5   T.CD.EM       263.0            41  \n",
      "TGTGGTAGTCACAAGG         0    Mono.2       399.0            48  \n",
      "...                    ...       ...         ...           ...  \n",
      "AACTGGTCAATAGCGG         4     Macro       634.0            46  \n",
      "TGTCCCAGTTGAGTTC         4     Macro      3748.0            50  \n",
      "CTCCTAGTCACCTCGT         2    Mono.2       215.0            46  \n",
      "CACCAGGGTACGCTGC         0    Mono.3       303.0            46  \n",
      "GTTCATTAGTCGAGTG         1    Mono.1       220.0            41  \n",
      "\n",
      "[10470 rows x 10 columns],\n",
      "    n_id=[8088],\n",
      "    input_id=[256],\n",
      "    batch_size=256,\n",
      "  },\n",
      "  (cell, ADT, cell)={\n",
      "    edge_index=[2, 11975],\n",
      "    e_id=[11975],\n",
      "  },\n",
      "  (cell, RNA, cell)={\n",
      "    edge_index=[2, 11975],\n",
      "    e_id=[11975],\n",
      "  }\n",
      ")\n",
      "HeteroData(\n",
      "  ADT={\n",
      "    x=[0, 52],\n",
      "    n_id=[0],\n",
      "  },\n",
      "  RNA={\n",
      "    x=[0, 3000],\n",
      "    n_id=[0],\n",
      "  },\n",
      "  cell={\n",
      "    x=[8078, 3052],\n",
      "    metadata=                  orig.ident  nCount_RNA  nFeature_RNA  tissue  group  volume  \\\n",
      "GACGTGCTCAGAGACG           0       753.0           430       0      2       1   \n",
      "GATTCAGTCACTGGGC           0      4848.0          1570       1      4       0   \n",
      "CTCGAGGGTATTACCG           0       769.0           488       0      3       1   \n",
      "TAGACCACATGGGAAC           0      1190.0           577       1      5       0   \n",
      "TGTGGTAGTCACAAGG           0      1786.0           826       0      0       0   \n",
      "...                      ...         ...           ...     ...    ...     ...   \n",
      "AACTGGTCAATAGCGG           0      3010.0          1276       1      4       0   \n",
      "TGTCCCAGTTGAGTTC           0      1791.0          1033       1      4       0   \n",
      "CTCCTAGTCACCTCGT           0      1814.0           792       0      2       1   \n",
      "CACCAGGGTACGCTGC           0       105.0            89       0      0       0   \n",
      "GTTCATTAGTCGAGTG           0      1444.0           698       0      1       0   \n",
      "\n",
      "                  sampleID  celltype  nCount_ADT  nFeature_ADT  \n",
      "GACGTGCTCAGAGACG         2   T.CD.EM       370.0            42  \n",
      "GATTCAGTCACTGGGC         4  mDC.Lung      2630.0            48  \n",
      "CTCGAGGGTATTACCG         3        NK       158.0            38  \n",
      "TAGACCACATGGGAAC         5   T.CD.EM       263.0            41  \n",
      "TGTGGTAGTCACAAGG         0    Mono.2       399.0            48  \n",
      "...                    ...       ...         ...           ...  \n",
      "AACTGGTCAATAGCGG         4     Macro       634.0            46  \n",
      "TGTCCCAGTTGAGTTC         4     Macro      3748.0            50  \n",
      "CTCCTAGTCACCTCGT         2    Mono.2       215.0            46  \n",
      "CACCAGGGTACGCTGC         0    Mono.3       303.0            46  \n",
      "GTTCATTAGTCGAGTG         1    Mono.1       220.0            41  \n",
      "\n",
      "[10470 rows x 10 columns],\n",
      "    n_id=[8078],\n",
      "    input_id=[256],\n",
      "    batch_size=256,\n",
      "  },\n",
      "  (cell, ADT, cell)={\n",
      "    edge_index=[2, 11795],\n",
      "    e_id=[11795],\n",
      "  },\n",
      "  (cell, RNA, cell)={\n",
      "    edge_index=[2, 11795],\n",
      "    e_id=[11795],\n",
      "  }\n",
      ")\n",
      "HeteroData(\n",
      "  ADT={\n",
      "    x=[0, 52],\n",
      "    n_id=[0],\n",
      "  },\n",
      "  RNA={\n",
      "    x=[0, 3000],\n",
      "    n_id=[0],\n",
      "  },\n",
      "  cell={\n",
      "    x=[8022, 3052],\n",
      "    metadata=                  orig.ident  nCount_RNA  nFeature_RNA  tissue  group  volume  \\\n",
      "GACGTGCTCAGAGACG           0       753.0           430       0      2       1   \n",
      "GATTCAGTCACTGGGC           0      4848.0          1570       1      4       0   \n",
      "CTCGAGGGTATTACCG           0       769.0           488       0      3       1   \n",
      "TAGACCACATGGGAAC           0      1190.0           577       1      5       0   \n",
      "TGTGGTAGTCACAAGG           0      1786.0           826       0      0       0   \n",
      "...                      ...         ...           ...     ...    ...     ...   \n",
      "AACTGGTCAATAGCGG           0      3010.0          1276       1      4       0   \n",
      "TGTCCCAGTTGAGTTC           0      1791.0          1033       1      4       0   \n",
      "CTCCTAGTCACCTCGT           0      1814.0           792       0      2       1   \n",
      "CACCAGGGTACGCTGC           0       105.0            89       0      0       0   \n",
      "GTTCATTAGTCGAGTG           0      1444.0           698       0      1       0   \n",
      "\n",
      "                  sampleID  celltype  nCount_ADT  nFeature_ADT  \n",
      "GACGTGCTCAGAGACG         2   T.CD.EM       370.0            42  \n",
      "GATTCAGTCACTGGGC         4  mDC.Lung      2630.0            48  \n",
      "CTCGAGGGTATTACCG         3        NK       158.0            38  \n",
      "TAGACCACATGGGAAC         5   T.CD.EM       263.0            41  \n",
      "TGTGGTAGTCACAAGG         0    Mono.2       399.0            48  \n",
      "...                    ...       ...         ...           ...  \n",
      "AACTGGTCAATAGCGG         4     Macro       634.0            46  \n",
      "TGTCCCAGTTGAGTTC         4     Macro      3748.0            50  \n",
      "CTCCTAGTCACCTCGT         2    Mono.2       215.0            46  \n",
      "CACCAGGGTACGCTGC         0    Mono.3       303.0            46  \n",
      "GTTCATTAGTCGAGTG         1    Mono.1       220.0            41  \n",
      "\n",
      "[10470 rows x 10 columns],\n",
      "    n_id=[8022],\n",
      "    input_id=[256],\n",
      "    batch_size=256,\n",
      "  },\n",
      "  (cell, ADT, cell)={\n",
      "    edge_index=[2, 11720],\n",
      "    e_id=[11720],\n",
      "  },\n",
      "  (cell, RNA, cell)={\n",
      "    edge_index=[2, 11720],\n",
      "    e_id=[11720],\n",
      "  }\n",
      ")\n",
      "HeteroData(\n",
      "  ADT={\n",
      "    x=[0, 52],\n",
      "    n_id=[0],\n",
      "  },\n",
      "  RNA={\n",
      "    x=[0, 3000],\n",
      "    n_id=[0],\n",
      "  },\n",
      "  cell={\n",
      "    x=[8098, 3052],\n",
      "    metadata=                  orig.ident  nCount_RNA  nFeature_RNA  tissue  group  volume  \\\n",
      "GACGTGCTCAGAGACG           0       753.0           430       0      2       1   \n",
      "GATTCAGTCACTGGGC           0      4848.0          1570       1      4       0   \n",
      "CTCGAGGGTATTACCG           0       769.0           488       0      3       1   \n",
      "TAGACCACATGGGAAC           0      1190.0           577       1      5       0   \n",
      "TGTGGTAGTCACAAGG           0      1786.0           826       0      0       0   \n",
      "...                      ...         ...           ...     ...    ...     ...   \n",
      "AACTGGTCAATAGCGG           0      3010.0          1276       1      4       0   \n",
      "TGTCCCAGTTGAGTTC           0      1791.0          1033       1      4       0   \n",
      "CTCCTAGTCACCTCGT           0      1814.0           792       0      2       1   \n",
      "CACCAGGGTACGCTGC           0       105.0            89       0      0       0   \n",
      "GTTCATTAGTCGAGTG           0      1444.0           698       0      1       0   \n",
      "\n",
      "                  sampleID  celltype  nCount_ADT  nFeature_ADT  \n",
      "GACGTGCTCAGAGACG         2   T.CD.EM       370.0            42  \n",
      "GATTCAGTCACTGGGC         4  mDC.Lung      2630.0            48  \n",
      "CTCGAGGGTATTACCG         3        NK       158.0            38  \n",
      "TAGACCACATGGGAAC         5   T.CD.EM       263.0            41  \n",
      "TGTGGTAGTCACAAGG         0    Mono.2       399.0            48  \n",
      "...                    ...       ...         ...           ...  \n",
      "AACTGGTCAATAGCGG         4     Macro       634.0            46  \n",
      "TGTCCCAGTTGAGTTC         4     Macro      3748.0            50  \n",
      "CTCCTAGTCACCTCGT         2    Mono.2       215.0            46  \n",
      "CACCAGGGTACGCTGC         0    Mono.3       303.0            46  \n",
      "GTTCATTAGTCGAGTG         1    Mono.1       220.0            41  \n",
      "\n",
      "[10470 rows x 10 columns],\n",
      "    n_id=[8098],\n",
      "    input_id=[256],\n",
      "    batch_size=256,\n",
      "  },\n",
      "  (cell, ADT, cell)={\n",
      "    edge_index=[2, 11820],\n",
      "    e_id=[11820],\n",
      "  },\n",
      "  (cell, RNA, cell)={\n",
      "    edge_index=[2, 11820],\n",
      "    e_id=[11820],\n",
      "  }\n",
      ")\n",
      "HeteroData(\n",
      "  ADT={\n",
      "    x=[0, 52],\n",
      "    n_id=[0],\n",
      "  },\n",
      "  RNA={\n",
      "    x=[0, 3000],\n",
      "    n_id=[0],\n",
      "  },\n",
      "  cell={\n",
      "    x=[7990, 3052],\n",
      "    metadata=                  orig.ident  nCount_RNA  nFeature_RNA  tissue  group  volume  \\\n",
      "GACGTGCTCAGAGACG           0       753.0           430       0      2       1   \n",
      "GATTCAGTCACTGGGC           0      4848.0          1570       1      4       0   \n",
      "CTCGAGGGTATTACCG           0       769.0           488       0      3       1   \n",
      "TAGACCACATGGGAAC           0      1190.0           577       1      5       0   \n",
      "TGTGGTAGTCACAAGG           0      1786.0           826       0      0       0   \n",
      "...                      ...         ...           ...     ...    ...     ...   \n",
      "AACTGGTCAATAGCGG           0      3010.0          1276       1      4       0   \n",
      "TGTCCCAGTTGAGTTC           0      1791.0          1033       1      4       0   \n",
      "CTCCTAGTCACCTCGT           0      1814.0           792       0      2       1   \n",
      "CACCAGGGTACGCTGC           0       105.0            89       0      0       0   \n",
      "GTTCATTAGTCGAGTG           0      1444.0           698       0      1       0   \n",
      "\n",
      "                  sampleID  celltype  nCount_ADT  nFeature_ADT  \n",
      "GACGTGCTCAGAGACG         2   T.CD.EM       370.0            42  \n",
      "GATTCAGTCACTGGGC         4  mDC.Lung      2630.0            48  \n",
      "CTCGAGGGTATTACCG         3        NK       158.0            38  \n",
      "TAGACCACATGGGAAC         5   T.CD.EM       263.0            41  \n",
      "TGTGGTAGTCACAAGG         0    Mono.2       399.0            48  \n",
      "...                    ...       ...         ...           ...  \n",
      "AACTGGTCAATAGCGG         4     Macro       634.0            46  \n",
      "TGTCCCAGTTGAGTTC         4     Macro      3748.0            50  \n",
      "CTCCTAGTCACCTCGT         2    Mono.2       215.0            46  \n",
      "CACCAGGGTACGCTGC         0    Mono.3       303.0            46  \n",
      "GTTCATTAGTCGAGTG         1    Mono.1       220.0            41  \n",
      "\n",
      "[10470 rows x 10 columns],\n",
      "    n_id=[7990],\n",
      "    input_id=[256],\n",
      "    batch_size=256,\n",
      "  },\n",
      "  (cell, ADT, cell)={\n",
      "    edge_index=[2, 11770],\n",
      "    e_id=[11770],\n",
      "  },\n",
      "  (cell, RNA, cell)={\n",
      "    edge_index=[2, 11770],\n",
      "    e_id=[11770],\n",
      "  }\n",
      ")\n",
      "HeteroData(\n",
      "  ADT={\n",
      "    x=[0, 52],\n",
      "    n_id=[0],\n",
      "  },\n",
      "  RNA={\n",
      "    x=[0, 3000],\n",
      "    n_id=[0],\n",
      "  },\n",
      "  cell={\n",
      "    x=[8138, 3052],\n",
      "    metadata=                  orig.ident  nCount_RNA  nFeature_RNA  tissue  group  volume  \\\n",
      "GACGTGCTCAGAGACG           0       753.0           430       0      2       1   \n",
      "GATTCAGTCACTGGGC           0      4848.0          1570       1      4       0   \n",
      "CTCGAGGGTATTACCG           0       769.0           488       0      3       1   \n",
      "TAGACCACATGGGAAC           0      1190.0           577       1      5       0   \n",
      "TGTGGTAGTCACAAGG           0      1786.0           826       0      0       0   \n",
      "...                      ...         ...           ...     ...    ...     ...   \n",
      "AACTGGTCAATAGCGG           0      3010.0          1276       1      4       0   \n",
      "TGTCCCAGTTGAGTTC           0      1791.0          1033       1      4       0   \n",
      "CTCCTAGTCACCTCGT           0      1814.0           792       0      2       1   \n",
      "CACCAGGGTACGCTGC           0       105.0            89       0      0       0   \n",
      "GTTCATTAGTCGAGTG           0      1444.0           698       0      1       0   \n",
      "\n",
      "                  sampleID  celltype  nCount_ADT  nFeature_ADT  \n",
      "GACGTGCTCAGAGACG         2   T.CD.EM       370.0            42  \n",
      "GATTCAGTCACTGGGC         4  mDC.Lung      2630.0            48  \n",
      "CTCGAGGGTATTACCG         3        NK       158.0            38  \n",
      "TAGACCACATGGGAAC         5   T.CD.EM       263.0            41  \n",
      "TGTGGTAGTCACAAGG         0    Mono.2       399.0            48  \n",
      "...                    ...       ...         ...           ...  \n",
      "AACTGGTCAATAGCGG         4     Macro       634.0            46  \n",
      "TGTCCCAGTTGAGTTC         4     Macro      3748.0            50  \n",
      "CTCCTAGTCACCTCGT         2    Mono.2       215.0            46  \n",
      "CACCAGGGTACGCTGC         0    Mono.3       303.0            46  \n",
      "GTTCATTAGTCGAGTG         1    Mono.1       220.0            41  \n",
      "\n",
      "[10470 rows x 10 columns],\n",
      "    n_id=[8138],\n",
      "    input_id=[256],\n",
      "    batch_size=256,\n",
      "  },\n",
      "  (cell, ADT, cell)={\n",
      "    edge_index=[2, 11980],\n",
      "    e_id=[11980],\n",
      "  },\n",
      "  (cell, RNA, cell)={\n",
      "    edge_index=[2, 11980],\n",
      "    e_id=[11980],\n",
      "  }\n",
      ")\n",
      "HeteroData(\n",
      "  ADT={\n",
      "    x=[0, 52],\n",
      "    n_id=[0],\n",
      "  },\n",
      "  RNA={\n",
      "    x=[0, 3000],\n",
      "    n_id=[0],\n",
      "  },\n",
      "  cell={\n",
      "    x=[8195, 3052],\n",
      "    metadata=                  orig.ident  nCount_RNA  nFeature_RNA  tissue  group  volume  \\\n",
      "GACGTGCTCAGAGACG           0       753.0           430       0      2       1   \n",
      "GATTCAGTCACTGGGC           0      4848.0          1570       1      4       0   \n",
      "CTCGAGGGTATTACCG           0       769.0           488       0      3       1   \n",
      "TAGACCACATGGGAAC           0      1190.0           577       1      5       0   \n",
      "TGTGGTAGTCACAAGG           0      1786.0           826       0      0       0   \n",
      "...                      ...         ...           ...     ...    ...     ...   \n",
      "AACTGGTCAATAGCGG           0      3010.0          1276       1      4       0   \n",
      "TGTCCCAGTTGAGTTC           0      1791.0          1033       1      4       0   \n",
      "CTCCTAGTCACCTCGT           0      1814.0           792       0      2       1   \n",
      "CACCAGGGTACGCTGC           0       105.0            89       0      0       0   \n",
      "GTTCATTAGTCGAGTG           0      1444.0           698       0      1       0   \n",
      "\n",
      "                  sampleID  celltype  nCount_ADT  nFeature_ADT  \n",
      "GACGTGCTCAGAGACG         2   T.CD.EM       370.0            42  \n",
      "GATTCAGTCACTGGGC         4  mDC.Lung      2630.0            48  \n",
      "CTCGAGGGTATTACCG         3        NK       158.0            38  \n",
      "TAGACCACATGGGAAC         5   T.CD.EM       263.0            41  \n",
      "TGTGGTAGTCACAAGG         0    Mono.2       399.0            48  \n",
      "...                    ...       ...         ...           ...  \n",
      "AACTGGTCAATAGCGG         4     Macro       634.0            46  \n",
      "TGTCCCAGTTGAGTTC         4     Macro      3748.0            50  \n",
      "CTCCTAGTCACCTCGT         2    Mono.2       215.0            46  \n",
      "CACCAGGGTACGCTGC         0    Mono.3       303.0            46  \n",
      "GTTCATTAGTCGAGTG         1    Mono.1       220.0            41  \n",
      "\n",
      "[10470 rows x 10 columns],\n",
      "    n_id=[8195],\n",
      "    input_id=[256],\n",
      "    batch_size=256,\n",
      "  },\n",
      "  (cell, ADT, cell)={\n",
      "    edge_index=[2, 11965],\n",
      "    e_id=[11965],\n",
      "  },\n",
      "  (cell, RNA, cell)={\n",
      "    edge_index=[2, 11965],\n",
      "    e_id=[11965],\n",
      "  }\n",
      ")\n",
      "HeteroData(\n",
      "  ADT={\n",
      "    x=[0, 52],\n",
      "    n_id=[0],\n",
      "  },\n",
      "  RNA={\n",
      "    x=[0, 3000],\n",
      "    n_id=[0],\n",
      "  },\n",
      "  cell={\n",
      "    x=[8093, 3052],\n",
      "    metadata=                  orig.ident  nCount_RNA  nFeature_RNA  tissue  group  volume  \\\n",
      "GACGTGCTCAGAGACG           0       753.0           430       0      2       1   \n",
      "GATTCAGTCACTGGGC           0      4848.0          1570       1      4       0   \n",
      "CTCGAGGGTATTACCG           0       769.0           488       0      3       1   \n",
      "TAGACCACATGGGAAC           0      1190.0           577       1      5       0   \n",
      "TGTGGTAGTCACAAGG           0      1786.0           826       0      0       0   \n",
      "...                      ...         ...           ...     ...    ...     ...   \n",
      "AACTGGTCAATAGCGG           0      3010.0          1276       1      4       0   \n",
      "TGTCCCAGTTGAGTTC           0      1791.0          1033       1      4       0   \n",
      "CTCCTAGTCACCTCGT           0      1814.0           792       0      2       1   \n",
      "CACCAGGGTACGCTGC           0       105.0            89       0      0       0   \n",
      "GTTCATTAGTCGAGTG           0      1444.0           698       0      1       0   \n",
      "\n",
      "                  sampleID  celltype  nCount_ADT  nFeature_ADT  \n",
      "GACGTGCTCAGAGACG         2   T.CD.EM       370.0            42  \n",
      "GATTCAGTCACTGGGC         4  mDC.Lung      2630.0            48  \n",
      "CTCGAGGGTATTACCG         3        NK       158.0            38  \n",
      "TAGACCACATGGGAAC         5   T.CD.EM       263.0            41  \n",
      "TGTGGTAGTCACAAGG         0    Mono.2       399.0            48  \n",
      "...                    ...       ...         ...           ...  \n",
      "AACTGGTCAATAGCGG         4     Macro       634.0            46  \n",
      "TGTCCCAGTTGAGTTC         4     Macro      3748.0            50  \n",
      "CTCCTAGTCACCTCGT         2    Mono.2       215.0            46  \n",
      "CACCAGGGTACGCTGC         0    Mono.3       303.0            46  \n",
      "GTTCATTAGTCGAGTG         1    Mono.1       220.0            41  \n",
      "\n",
      "[10470 rows x 10 columns],\n",
      "    n_id=[8093],\n",
      "    input_id=[256],\n",
      "    batch_size=256,\n",
      "  },\n",
      "  (cell, ADT, cell)={\n",
      "    edge_index=[2, 11670],\n",
      "    e_id=[11670],\n",
      "  },\n",
      "  (cell, RNA, cell)={\n",
      "    edge_index=[2, 11670],\n",
      "    e_id=[11670],\n",
      "  }\n",
      ")\n",
      "HeteroData(\n",
      "  ADT={\n",
      "    x=[0, 52],\n",
      "    n_id=[0],\n",
      "  },\n",
      "  RNA={\n",
      "    x=[0, 3000],\n",
      "    n_id=[0],\n",
      "  },\n",
      "  cell={\n",
      "    x=[8024, 3052],\n",
      "    metadata=                  orig.ident  nCount_RNA  nFeature_RNA  tissue  group  volume  \\\n",
      "GACGTGCTCAGAGACG           0       753.0           430       0      2       1   \n",
      "GATTCAGTCACTGGGC           0      4848.0          1570       1      4       0   \n",
      "CTCGAGGGTATTACCG           0       769.0           488       0      3       1   \n",
      "TAGACCACATGGGAAC           0      1190.0           577       1      5       0   \n",
      "TGTGGTAGTCACAAGG           0      1786.0           826       0      0       0   \n",
      "...                      ...         ...           ...     ...    ...     ...   \n",
      "AACTGGTCAATAGCGG           0      3010.0          1276       1      4       0   \n",
      "TGTCCCAGTTGAGTTC           0      1791.0          1033       1      4       0   \n",
      "CTCCTAGTCACCTCGT           0      1814.0           792       0      2       1   \n",
      "CACCAGGGTACGCTGC           0       105.0            89       0      0       0   \n",
      "GTTCATTAGTCGAGTG           0      1444.0           698       0      1       0   \n",
      "\n",
      "                  sampleID  celltype  nCount_ADT  nFeature_ADT  \n",
      "GACGTGCTCAGAGACG         2   T.CD.EM       370.0            42  \n",
      "GATTCAGTCACTGGGC         4  mDC.Lung      2630.0            48  \n",
      "CTCGAGGGTATTACCG         3        NK       158.0            38  \n",
      "TAGACCACATGGGAAC         5   T.CD.EM       263.0            41  \n",
      "TGTGGTAGTCACAAGG         0    Mono.2       399.0            48  \n",
      "...                    ...       ...         ...           ...  \n",
      "AACTGGTCAATAGCGG         4     Macro       634.0            46  \n",
      "TGTCCCAGTTGAGTTC         4     Macro      3748.0            50  \n",
      "CTCCTAGTCACCTCGT         2    Mono.2       215.0            46  \n",
      "CACCAGGGTACGCTGC         0    Mono.3       303.0            46  \n",
      "GTTCATTAGTCGAGTG         1    Mono.1       220.0            41  \n",
      "\n",
      "[10470 rows x 10 columns],\n",
      "    n_id=[8024],\n",
      "    input_id=[256],\n",
      "    batch_size=256,\n",
      "  },\n",
      "  (cell, ADT, cell)={\n",
      "    edge_index=[2, 11765],\n",
      "    e_id=[11765],\n",
      "  },\n",
      "  (cell, RNA, cell)={\n",
      "    edge_index=[2, 11765],\n",
      "    e_id=[11765],\n",
      "  }\n",
      ")\n",
      "HeteroData(\n",
      "  ADT={\n",
      "    x=[0, 52],\n",
      "    n_id=[0],\n",
      "  },\n",
      "  RNA={\n",
      "    x=[0, 3000],\n",
      "    n_id=[0],\n",
      "  },\n",
      "  cell={\n",
      "    x=[8163, 3052],\n",
      "    metadata=                  orig.ident  nCount_RNA  nFeature_RNA  tissue  group  volume  \\\n",
      "GACGTGCTCAGAGACG           0       753.0           430       0      2       1   \n",
      "GATTCAGTCACTGGGC           0      4848.0          1570       1      4       0   \n",
      "CTCGAGGGTATTACCG           0       769.0           488       0      3       1   \n",
      "TAGACCACATGGGAAC           0      1190.0           577       1      5       0   \n",
      "TGTGGTAGTCACAAGG           0      1786.0           826       0      0       0   \n",
      "...                      ...         ...           ...     ...    ...     ...   \n",
      "AACTGGTCAATAGCGG           0      3010.0          1276       1      4       0   \n",
      "TGTCCCAGTTGAGTTC           0      1791.0          1033       1      4       0   \n",
      "CTCCTAGTCACCTCGT           0      1814.0           792       0      2       1   \n",
      "CACCAGGGTACGCTGC           0       105.0            89       0      0       0   \n",
      "GTTCATTAGTCGAGTG           0      1444.0           698       0      1       0   \n",
      "\n",
      "                  sampleID  celltype  nCount_ADT  nFeature_ADT  \n",
      "GACGTGCTCAGAGACG         2   T.CD.EM       370.0            42  \n",
      "GATTCAGTCACTGGGC         4  mDC.Lung      2630.0            48  \n",
      "CTCGAGGGTATTACCG         3        NK       158.0            38  \n",
      "TAGACCACATGGGAAC         5   T.CD.EM       263.0            41  \n",
      "TGTGGTAGTCACAAGG         0    Mono.2       399.0            48  \n",
      "...                    ...       ...         ...           ...  \n",
      "AACTGGTCAATAGCGG         4     Macro       634.0            46  \n",
      "TGTCCCAGTTGAGTTC         4     Macro      3748.0            50  \n",
      "CTCCTAGTCACCTCGT         2    Mono.2       215.0            46  \n",
      "CACCAGGGTACGCTGC         0    Mono.3       303.0            46  \n",
      "GTTCATTAGTCGAGTG         1    Mono.1       220.0            41  \n",
      "\n",
      "[10470 rows x 10 columns],\n",
      "    n_id=[8163],\n",
      "    input_id=[256],\n",
      "    batch_size=256,\n",
      "  },\n",
      "  (cell, ADT, cell)={\n",
      "    edge_index=[2, 11930],\n",
      "    e_id=[11930],\n",
      "  },\n",
      "  (cell, RNA, cell)={\n",
      "    edge_index=[2, 11930],\n",
      "    e_id=[11930],\n",
      "  }\n",
      ")\n",
      "HeteroData(\n",
      "  ADT={\n",
      "    x=[0, 52],\n",
      "    n_id=[0],\n",
      "  },\n",
      "  RNA={\n",
      "    x=[0, 3000],\n",
      "    n_id=[0],\n",
      "  },\n",
      "  cell={\n",
      "    x=[8081, 3052],\n",
      "    metadata=                  orig.ident  nCount_RNA  nFeature_RNA  tissue  group  volume  \\\n",
      "GACGTGCTCAGAGACG           0       753.0           430       0      2       1   \n",
      "GATTCAGTCACTGGGC           0      4848.0          1570       1      4       0   \n",
      "CTCGAGGGTATTACCG           0       769.0           488       0      3       1   \n",
      "TAGACCACATGGGAAC           0      1190.0           577       1      5       0   \n",
      "TGTGGTAGTCACAAGG           0      1786.0           826       0      0       0   \n",
      "...                      ...         ...           ...     ...    ...     ...   \n",
      "AACTGGTCAATAGCGG           0      3010.0          1276       1      4       0   \n",
      "TGTCCCAGTTGAGTTC           0      1791.0          1033       1      4       0   \n",
      "CTCCTAGTCACCTCGT           0      1814.0           792       0      2       1   \n",
      "CACCAGGGTACGCTGC           0       105.0            89       0      0       0   \n",
      "GTTCATTAGTCGAGTG           0      1444.0           698       0      1       0   \n",
      "\n",
      "                  sampleID  celltype  nCount_ADT  nFeature_ADT  \n",
      "GACGTGCTCAGAGACG         2   T.CD.EM       370.0            42  \n",
      "GATTCAGTCACTGGGC         4  mDC.Lung      2630.0            48  \n",
      "CTCGAGGGTATTACCG         3        NK       158.0            38  \n",
      "TAGACCACATGGGAAC         5   T.CD.EM       263.0            41  \n",
      "TGTGGTAGTCACAAGG         0    Mono.2       399.0            48  \n",
      "...                    ...       ...         ...           ...  \n",
      "AACTGGTCAATAGCGG         4     Macro       634.0            46  \n",
      "TGTCCCAGTTGAGTTC         4     Macro      3748.0            50  \n",
      "CTCCTAGTCACCTCGT         2    Mono.2       215.0            46  \n",
      "CACCAGGGTACGCTGC         0    Mono.3       303.0            46  \n",
      "GTTCATTAGTCGAGTG         1    Mono.1       220.0            41  \n",
      "\n",
      "[10470 rows x 10 columns],\n",
      "    n_id=[8081],\n",
      "    input_id=[256],\n",
      "    batch_size=256,\n",
      "  },\n",
      "  (cell, ADT, cell)={\n",
      "    edge_index=[2, 11720],\n",
      "    e_id=[11720],\n",
      "  },\n",
      "  (cell, RNA, cell)={\n",
      "    edge_index=[2, 11720],\n",
      "    e_id=[11720],\n",
      "  }\n",
      ")\n",
      "HeteroData(\n",
      "  ADT={\n",
      "    x=[0, 52],\n",
      "    n_id=[0],\n",
      "  },\n",
      "  RNA={\n",
      "    x=[0, 3000],\n",
      "    n_id=[0],\n",
      "  },\n",
      "  cell={\n",
      "    x=[7787, 3052],\n",
      "    metadata=                  orig.ident  nCount_RNA  nFeature_RNA  tissue  group  volume  \\\n",
      "GACGTGCTCAGAGACG           0       753.0           430       0      2       1   \n",
      "GATTCAGTCACTGGGC           0      4848.0          1570       1      4       0   \n",
      "CTCGAGGGTATTACCG           0       769.0           488       0      3       1   \n",
      "TAGACCACATGGGAAC           0      1190.0           577       1      5       0   \n",
      "TGTGGTAGTCACAAGG           0      1786.0           826       0      0       0   \n",
      "...                      ...         ...           ...     ...    ...     ...   \n",
      "AACTGGTCAATAGCGG           0      3010.0          1276       1      4       0   \n",
      "TGTCCCAGTTGAGTTC           0      1791.0          1033       1      4       0   \n",
      "CTCCTAGTCACCTCGT           0      1814.0           792       0      2       1   \n",
      "CACCAGGGTACGCTGC           0       105.0            89       0      0       0   \n",
      "GTTCATTAGTCGAGTG           0      1444.0           698       0      1       0   \n",
      "\n",
      "                  sampleID  celltype  nCount_ADT  nFeature_ADT  \n",
      "GACGTGCTCAGAGACG         2   T.CD.EM       370.0            42  \n",
      "GATTCAGTCACTGGGC         4  mDC.Lung      2630.0            48  \n",
      "CTCGAGGGTATTACCG         3        NK       158.0            38  \n",
      "TAGACCACATGGGAAC         5   T.CD.EM       263.0            41  \n",
      "TGTGGTAGTCACAAGG         0    Mono.2       399.0            48  \n",
      "...                    ...       ...         ...           ...  \n",
      "AACTGGTCAATAGCGG         4     Macro       634.0            46  \n",
      "TGTCCCAGTTGAGTTC         4     Macro      3748.0            50  \n",
      "CTCCTAGTCACCTCGT         2    Mono.2       215.0            46  \n",
      "CACCAGGGTACGCTGC         0    Mono.3       303.0            46  \n",
      "GTTCATTAGTCGAGTG         1    Mono.1       220.0            41  \n",
      "\n",
      "[10470 rows x 10 columns],\n",
      "    n_id=[7787],\n",
      "    input_id=[230],\n",
      "    batch_size=230,\n",
      "  },\n",
      "  (cell, ADT, cell)={\n",
      "    edge_index=[2, 10760],\n",
      "    e_id=[10760],\n",
      "  },\n",
      "  (cell, RNA, cell)={\n",
      "    edge_index=[2, 10760],\n",
      "    e_id=[10760],\n",
      "  }\n",
      ")\n"
     ]
    }
   ],
   "source": [
    "import torch\n",
    "from torch_geometric.loader import NeighborLoader\n",
    "\n",
    "device = torch.device('cuda' if torch.cuda.is_available() else 'cpu')\n",
    "hetero_data = hetero_data.to(device)\n",
    "\n",
    "num_cells = hetero_data['cell'].x.size(0)\n",
    "cell_idx = torch.arange(num_cells, device=device)\n",
    "\n",
    "neighbor_loader = NeighborLoader(\n",
    "    hetero_data,\n",
    "    num_neighbors={\n",
    "        ('cell', m, 'cell'): [5, 5] for m in modalities\n",
    "    },\n",
    "    input_nodes=('cell', cell_idx),\n",
    "    batch_size=256  # choose an appropriate batch size for your memory constraints\n",
    ")\n",
    "\n",
    "for batch in neighbor_loader:\n",
    "    print(batch)"
   ]
  },
  {
   "cell_type": "code",
   "execution_count": 14,
   "id": "0af43945",
   "metadata": {
    "ExecuteTime": {
     "end_time": "2025-03-19T22:29:38.982351Z",
     "start_time": "2025-03-19T22:29:38.870245Z"
    }
   },
   "outputs": [],
   "source": [
    "from model.model import HeteroGraphAE, GraphAELightningModule\n",
    "# Hyperparameters.\n",
    "in_channels = hetero_data['cell'].x.size(1)\n",
    "hidden_channels = 512\n",
    "latent_channels = 512   # Dimensionality of the latent space.\n",
    "num_layers = 2\n",
    "learning_rate = 1e-4\n",
    "n_epochs = 500 # change to 500 for full training\n",
    "\n",
    "# Instantiate the Lightning module.\n",
    "model = GraphAELightningModule(\n",
    "    in_channels=in_channels,\n",
    "    hidden_channels=hidden_channels,\n",
    "    latent_channels=latent_channels,\n",
    "    modalities=modalities,\n",
    "    num_layers=num_layers,\n",
    "    learning_rate=learning_rate,\n",
    "    total_epochs=n_epochs,\n",
    "    warmup_epochs=3,\n",
    "    num_clusters=20,\n",
    "    clustering_weight=.01\n",
    ")"
   ]
  },
  {
   "cell_type": "code",
   "execution_count": 15,
   "id": "8ecbdee9",
   "metadata": {
    "ExecuteTime": {
     "end_time": "2025-03-19T22:40:18.502890Z",
     "start_time": "2025-03-19T22:29:39.634677Z"
    }
   },
   "outputs": [
    {
     "name": "stderr",
     "output_type": "stream",
     "text": [
      "INFO:pytorch_lightning.utilities.rank_zero:GPU available: True (cuda), used: True\n",
      "INFO:pytorch_lightning.utilities.rank_zero:TPU available: False, using: 0 TPU cores\n",
      "INFO:pytorch_lightning.utilities.rank_zero:HPU available: False, using: 0 HPUs\n",
      "c:\\Users\\sonia\\anaconda3\\envs\\MultiOmicsIntegration\\Lib\\site-packages\\pytorch_lightning\\trainer\\connectors\\logger_connector\\logger_connector.py:76: Starting from v1.9.0, `tensorboardX` has been removed as a dependency of the `pytorch_lightning` package, due to potential conflicts with other packages in the ML ecosystem. For this reason, `logger=True` will use `CSVLogger` as the default logger, unless the `tensorboard` or `tensorboardX` packages are found. Please `pip install lightning[extra]` or one of them to enable TensorBoard support by default\n",
      "c:\\Users\\sonia\\anaconda3\\envs\\MultiOmicsIntegration\\Lib\\site-packages\\pytorch_lightning\\callbacks\\model_checkpoint.py:654: Checkpoint directory C:\\Users\\sonia\\Documents\\University\\Cambridge\\L65\\Multi Omics Integration Project\\MultiOmicsIntegration\\evaluation\\checkpoints exists and is not empty.\n",
      "INFO:pytorch_lightning.accelerators.cuda:LOCAL_RANK: 0 - CUDA_VISIBLE_DEVICES: [0]\n",
      "INFO:pytorch_lightning.callbacks.model_summary:\n",
      "  | Name         | Type          | Params | Mode \n",
      "-------------------------------------------------------\n",
      "0 | model        | HeteroGraphAE | 4.7 M  | train\n",
      "  | other params | n/a           | 10.2 K | n/a  \n",
      "-------------------------------------------------------\n",
      "4.7 M     Trainable params\n",
      "0         Non-trainable params\n",
      "4.7 M     Total params\n",
      "18.870    Total estimated model params size (MB)\n",
      "40        Modules in train mode\n",
      "0         Modules in eval mode\n",
      "c:\\Users\\sonia\\anaconda3\\envs\\MultiOmicsIntegration\\Lib\\site-packages\\pytorch_lightning\\trainer\\connectors\\data_connector.py:425: The 'train_dataloader' does not have many workers which may be a bottleneck. Consider increasing the value of the `num_workers` argument` to `num_workers=7` in the `DataLoader` to improve performance.\n",
      "c:\\Users\\sonia\\anaconda3\\envs\\MultiOmicsIntegration\\Lib\\site-packages\\pytorch_lightning\\loops\\fit_loop.py:310: The number of training batches (41) is smaller than the logging interval Trainer(log_every_n_steps=50). Set a lower value for log_every_n_steps if you want to see logs for the training epoch.\n"
     ]
    },
    {
     "name": "stdout",
     "output_type": "stream",
     "text": [
      "Epoch 0: 100%|██████████| 41/41 [00:30<00:00,  1.36it/s, v_num=2, train_loss=1.780, cluster_loss=28.60, ADT_recon_loss=0.706, RNA_recon_loss=0.791]"
     ]
    },
    {
     "name": "stderr",
     "output_type": "stream",
     "text": [
      "INFO:pytorch_lightning.callbacks.early_stopping:Metric train_loss improved. New best score: 1.782\n"
     ]
    },
    {
     "name": "stdout",
     "output_type": "stream",
     "text": [
      "Epoch 1: 100%|██████████| 41/41 [00:29<00:00,  1.40it/s, v_num=2, train_loss=1.510, cluster_loss=28.50, ADT_recon_loss=0.597, RNA_recon_loss=0.624]"
     ]
    },
    {
     "name": "stderr",
     "output_type": "stream",
     "text": [
      "INFO:pytorch_lightning.callbacks.early_stopping:Metric train_loss improved by 0.277 >= min_delta = 0.001. New best score: 1.506\n"
     ]
    },
    {
     "name": "stdout",
     "output_type": "stream",
     "text": [
      "Epoch 2: 100%|██████████| 41/41 [00:29<00:00,  1.38it/s, v_num=2, train_loss=1.130, cluster_loss=29.00, ADT_recon_loss=0.421, RNA_recon_loss=0.416]"
     ]
    },
    {
     "name": "stderr",
     "output_type": "stream",
     "text": [
      "INFO:pytorch_lightning.callbacks.early_stopping:Metric train_loss improved by 0.379 >= min_delta = 0.001. New best score: 1.126\n"
     ]
    },
    {
     "name": "stdout",
     "output_type": "stream",
     "text": [
      "Epoch 3: 100%|██████████| 41/41 [00:32<00:00,  1.28it/s, v_num=2, train_loss=0.950, cluster_loss=28.60, ADT_recon_loss=0.329, RNA_recon_loss=0.336]"
     ]
    },
    {
     "name": "stderr",
     "output_type": "stream",
     "text": [
      "INFO:pytorch_lightning.callbacks.early_stopping:Metric train_loss improved by 0.176 >= min_delta = 0.001. New best score: 0.950\n"
     ]
    },
    {
     "name": "stdout",
     "output_type": "stream",
     "text": [
      "Epoch 4: 100%|██████████| 41/41 [00:29<00:00,  1.39it/s, v_num=2, train_loss=0.858, cluster_loss=27.20, ADT_recon_loss=0.285, RNA_recon_loss=0.301]"
     ]
    },
    {
     "name": "stderr",
     "output_type": "stream",
     "text": [
      "INFO:pytorch_lightning.callbacks.early_stopping:Metric train_loss improved by 0.092 >= min_delta = 0.001. New best score: 0.858\n"
     ]
    },
    {
     "name": "stdout",
     "output_type": "stream",
     "text": [
      "Epoch 5: 100%|██████████| 41/41 [00:29<00:00,  1.37it/s, v_num=2, train_loss=0.797, cluster_loss=25.80, ADT_recon_loss=0.257, RNA_recon_loss=0.282]"
     ]
    },
    {
     "name": "stderr",
     "output_type": "stream",
     "text": [
      "INFO:pytorch_lightning.callbacks.early_stopping:Metric train_loss improved by 0.061 >= min_delta = 0.001. New best score: 0.797\n"
     ]
    },
    {
     "name": "stdout",
     "output_type": "stream",
     "text": [
      "Epoch 6: 100%|██████████| 41/41 [00:29<00:00,  1.38it/s, v_num=2, train_loss=0.749, cluster_loss=24.60, ADT_recon_loss=0.235, RNA_recon_loss=0.268]"
     ]
    },
    {
     "name": "stderr",
     "output_type": "stream",
     "text": [
      "INFO:pytorch_lightning.callbacks.early_stopping:Metric train_loss improved by 0.048 >= min_delta = 0.001. New best score: 0.749\n"
     ]
    },
    {
     "name": "stdout",
     "output_type": "stream",
     "text": [
      "Epoch 7: 100%|██████████| 41/41 [00:30<00:00,  1.37it/s, v_num=2, train_loss=0.707, cluster_loss=23.80, ADT_recon_loss=0.214, RNA_recon_loss=0.255]"
     ]
    },
    {
     "name": "stderr",
     "output_type": "stream",
     "text": [
      "INFO:pytorch_lightning.callbacks.early_stopping:Metric train_loss improved by 0.042 >= min_delta = 0.001. New best score: 0.707\n"
     ]
    },
    {
     "name": "stdout",
     "output_type": "stream",
     "text": [
      "Epoch 8: 100%|██████████| 41/41 [00:29<00:00,  1.37it/s, v_num=2, train_loss=0.671, cluster_loss=23.10, ADT_recon_loss=0.196, RNA_recon_loss=0.244]"
     ]
    },
    {
     "name": "stderr",
     "output_type": "stream",
     "text": [
      "INFO:pytorch_lightning.callbacks.early_stopping:Metric train_loss improved by 0.036 >= min_delta = 0.001. New best score: 0.671\n"
     ]
    },
    {
     "name": "stdout",
     "output_type": "stream",
     "text": [
      "Epoch 9: 100%|██████████| 41/41 [00:30<00:00,  1.36it/s, v_num=2, train_loss=0.641, cluster_loss=22.60, ADT_recon_loss=0.181, RNA_recon_loss=0.233]"
     ]
    },
    {
     "name": "stderr",
     "output_type": "stream",
     "text": [
      "INFO:pytorch_lightning.callbacks.early_stopping:Metric train_loss improved by 0.030 >= min_delta = 0.001. New best score: 0.641\n"
     ]
    },
    {
     "name": "stdout",
     "output_type": "stream",
     "text": [
      "Epoch 10: 100%|██████████| 41/41 [00:30<00:00,  1.35it/s, v_num=2, train_loss=0.614, cluster_loss=22.30, ADT_recon_loss=0.168, RNA_recon_loss=0.223]"
     ]
    },
    {
     "name": "stderr",
     "output_type": "stream",
     "text": [
      "INFO:pytorch_lightning.callbacks.early_stopping:Metric train_loss improved by 0.027 >= min_delta = 0.001. New best score: 0.614\n"
     ]
    },
    {
     "name": "stdout",
     "output_type": "stream",
     "text": [
      "Epoch 11: 100%|██████████| 41/41 [00:30<00:00,  1.33it/s, v_num=2, train_loss=0.590, cluster_loss=22.00, ADT_recon_loss=0.157, RNA_recon_loss=0.213]"
     ]
    },
    {
     "name": "stderr",
     "output_type": "stream",
     "text": [
      "INFO:pytorch_lightning.callbacks.early_stopping:Metric train_loss improved by 0.023 >= min_delta = 0.001. New best score: 0.590\n"
     ]
    },
    {
     "name": "stdout",
     "output_type": "stream",
     "text": [
      "Epoch 12: 100%|██████████| 41/41 [00:30<00:00,  1.35it/s, v_num=2, train_loss=0.568, cluster_loss=21.80, ADT_recon_loss=0.149, RNA_recon_loss=0.202]"
     ]
    },
    {
     "name": "stderr",
     "output_type": "stream",
     "text": [
      "INFO:pytorch_lightning.callbacks.early_stopping:Metric train_loss improved by 0.022 >= min_delta = 0.001. New best score: 0.568\n"
     ]
    },
    {
     "name": "stdout",
     "output_type": "stream",
     "text": [
      "Epoch 13: 100%|██████████| 41/41 [00:30<00:00,  1.35it/s, v_num=2, train_loss=0.551, cluster_loss=21.70, ADT_recon_loss=0.141, RNA_recon_loss=0.193]"
     ]
    },
    {
     "name": "stderr",
     "output_type": "stream",
     "text": [
      "INFO:pytorch_lightning.callbacks.early_stopping:Metric train_loss improved by 0.017 >= min_delta = 0.001. New best score: 0.551\n"
     ]
    },
    {
     "name": "stdout",
     "output_type": "stream",
     "text": [
      "Epoch 14: 100%|██████████| 41/41 [00:29<00:00,  1.38it/s, v_num=2, train_loss=0.532, cluster_loss=21.60, ADT_recon_loss=0.132, RNA_recon_loss=0.184]"
     ]
    },
    {
     "name": "stderr",
     "output_type": "stream",
     "text": [
      "INFO:pytorch_lightning.callbacks.early_stopping:Metric train_loss improved by 0.019 >= min_delta = 0.001. New best score: 0.532\n"
     ]
    },
    {
     "name": "stdout",
     "output_type": "stream",
     "text": [
      "Epoch 15: 100%|██████████| 41/41 [00:29<00:00,  1.38it/s, v_num=2, train_loss=0.517, cluster_loss=21.50, ADT_recon_loss=0.126, RNA_recon_loss=0.176]"
     ]
    },
    {
     "name": "stderr",
     "output_type": "stream",
     "text": [
      "INFO:pytorch_lightning.callbacks.early_stopping:Metric train_loss improved by 0.015 >= min_delta = 0.001. New best score: 0.517\n"
     ]
    },
    {
     "name": "stdout",
     "output_type": "stream",
     "text": [
      "Epoch 16: 100%|██████████| 41/41 [00:29<00:00,  1.38it/s, v_num=2, train_loss=0.501, cluster_loss=21.40, ADT_recon_loss=0.121, RNA_recon_loss=0.167]"
     ]
    },
    {
     "name": "stderr",
     "output_type": "stream",
     "text": [
      "INFO:pytorch_lightning.callbacks.early_stopping:Metric train_loss improved by 0.015 >= min_delta = 0.001. New best score: 0.501\n"
     ]
    },
    {
     "name": "stdout",
     "output_type": "stream",
     "text": [
      "Epoch 17: 100%|██████████| 41/41 [00:29<00:00,  1.37it/s, v_num=2, train_loss=0.491, cluster_loss=21.40, ADT_recon_loss=0.116, RNA_recon_loss=0.161]"
     ]
    },
    {
     "name": "stderr",
     "output_type": "stream",
     "text": [
      "INFO:pytorch_lightning.callbacks.early_stopping:Metric train_loss improved by 0.011 >= min_delta = 0.001. New best score: 0.491\n"
     ]
    },
    {
     "name": "stdout",
     "output_type": "stream",
     "text": [
      "Epoch 18: 100%|██████████| 41/41 [00:30<00:00,  1.34it/s, v_num=2, train_loss=0.476, cluster_loss=21.30, ADT_recon_loss=0.110, RNA_recon_loss=0.153]"
     ]
    },
    {
     "name": "stderr",
     "output_type": "stream",
     "text": [
      "INFO:pytorch_lightning.callbacks.early_stopping:Metric train_loss improved by 0.015 >= min_delta = 0.001. New best score: 0.476\n"
     ]
    },
    {
     "name": "stdout",
     "output_type": "stream",
     "text": [
      "Epoch 19: 100%|██████████| 41/41 [00:29<00:00,  1.41it/s, v_num=2, train_loss=0.465, cluster_loss=21.20, ADT_recon_loss=0.106, RNA_recon_loss=0.147]"
     ]
    },
    {
     "name": "stderr",
     "output_type": "stream",
     "text": [
      "INFO:pytorch_lightning.callbacks.early_stopping:Metric train_loss improved by 0.011 >= min_delta = 0.001. New best score: 0.465\n"
     ]
    },
    {
     "name": "stdout",
     "output_type": "stream",
     "text": [
      "Epoch 20: 100%|██████████| 41/41 [00:30<00:00,  1.37it/s, v_num=2, train_loss=0.453, cluster_loss=21.20, ADT_recon_loss=0.102, RNA_recon_loss=0.140]"
     ]
    },
    {
     "name": "stderr",
     "output_type": "stream",
     "text": [
      "INFO:pytorch_lightning.callbacks.early_stopping:Metric train_loss improved by 0.012 >= min_delta = 0.001. New best score: 0.453\n"
     ]
    },
    {
     "name": "stdout",
     "output_type": "stream",
     "text": [
      "Epoch 21: 100%|██████████| 41/41 [00:30<00:00,  1.36it/s, v_num=2, train_loss=0.443, cluster_loss=21.10, ADT_recon_loss=0.0981, RNA_recon_loss=0.134]"
     ]
    },
    {
     "name": "stderr",
     "output_type": "stream",
     "text": [
      "INFO:pytorch_lightning.callbacks.early_stopping:Metric train_loss improved by 0.010 >= min_delta = 0.001. New best score: 0.443\n"
     ]
    },
    {
     "name": "stdout",
     "output_type": "stream",
     "text": [
      "Epoch 22: 100%|██████████| 41/41 [00:30<00:00,  1.36it/s, v_num=2, train_loss=0.435, cluster_loss=21.00, ADT_recon_loss=0.0948, RNA_recon_loss=0.131]"
     ]
    },
    {
     "name": "stderr",
     "output_type": "stream",
     "text": [
      "INFO:pytorch_lightning.callbacks.early_stopping:Metric train_loss improved by 0.008 >= min_delta = 0.001. New best score: 0.435\n"
     ]
    },
    {
     "name": "stdout",
     "output_type": "stream",
     "text": [
      "Epoch 23: 100%|██████████| 41/41 [00:29<00:00,  1.39it/s, v_num=2, train_loss=0.427, cluster_loss=20.90, ADT_recon_loss=0.0917, RNA_recon_loss=0.126]"
     ]
    },
    {
     "name": "stderr",
     "output_type": "stream",
     "text": [
      "INFO:pytorch_lightning.callbacks.early_stopping:Metric train_loss improved by 0.009 >= min_delta = 0.001. New best score: 0.427\n"
     ]
    },
    {
     "name": "stdout",
     "output_type": "stream",
     "text": [
      "Epoch 24: 100%|██████████| 41/41 [00:30<00:00,  1.35it/s, v_num=2, train_loss=0.418, cluster_loss=20.80, ADT_recon_loss=0.0889, RNA_recon_loss=0.121]"
     ]
    },
    {
     "name": "stderr",
     "output_type": "stream",
     "text": [
      "INFO:pytorch_lightning.callbacks.early_stopping:Metric train_loss improved by 0.009 >= min_delta = 0.001. New best score: 0.418\n"
     ]
    },
    {
     "name": "stdout",
     "output_type": "stream",
     "text": [
      "Epoch 25: 100%|██████████| 41/41 [00:31<00:00,  1.28it/s, v_num=2, train_loss=0.409, cluster_loss=20.70, ADT_recon_loss=0.0853, RNA_recon_loss=0.118]"
     ]
    },
    {
     "name": "stderr",
     "output_type": "stream",
     "text": [
      "INFO:pytorch_lightning.callbacks.early_stopping:Metric train_loss improved by 0.008 >= min_delta = 0.001. New best score: 0.409\n"
     ]
    },
    {
     "name": "stdout",
     "output_type": "stream",
     "text": [
      "Epoch 26: 100%|██████████| 41/41 [00:30<00:00,  1.33it/s, v_num=2, train_loss=0.402, cluster_loss=20.50, ADT_recon_loss=0.0833, RNA_recon_loss=0.113]"
     ]
    },
    {
     "name": "stderr",
     "output_type": "stream",
     "text": [
      "INFO:pytorch_lightning.callbacks.early_stopping:Metric train_loss improved by 0.008 >= min_delta = 0.001. New best score: 0.402\n"
     ]
    },
    {
     "name": "stdout",
     "output_type": "stream",
     "text": [
      "Epoch 27: 100%|██████████| 41/41 [00:31<00:00,  1.32it/s, v_num=2, train_loss=0.396, cluster_loss=20.40, ADT_recon_loss=0.0815, RNA_recon_loss=0.110]"
     ]
    },
    {
     "name": "stderr",
     "output_type": "stream",
     "text": [
      "INFO:pytorch_lightning.callbacks.early_stopping:Metric train_loss improved by 0.006 >= min_delta = 0.001. New best score: 0.396\n"
     ]
    },
    {
     "name": "stdout",
     "output_type": "stream",
     "text": [
      "Epoch 28: 100%|██████████| 41/41 [00:32<00:00,  1.25it/s, v_num=2, train_loss=0.389, cluster_loss=20.30, ADT_recon_loss=0.0786, RNA_recon_loss=0.107]"
     ]
    },
    {
     "name": "stderr",
     "output_type": "stream",
     "text": [
      "INFO:pytorch_lightning.callbacks.early_stopping:Metric train_loss improved by 0.007 >= min_delta = 0.001. New best score: 0.389\n"
     ]
    },
    {
     "name": "stdout",
     "output_type": "stream",
     "text": [
      "Epoch 29: 100%|██████████| 41/41 [00:32<00:00,  1.26it/s, v_num=2, train_loss=0.382, cluster_loss=20.20, ADT_recon_loss=0.0772, RNA_recon_loss=0.104]"
     ]
    },
    {
     "name": "stderr",
     "output_type": "stream",
     "text": [
      "INFO:pytorch_lightning.callbacks.early_stopping:Metric train_loss improved by 0.006 >= min_delta = 0.001. New best score: 0.382\n"
     ]
    },
    {
     "name": "stdout",
     "output_type": "stream",
     "text": [
      "Epoch 30: 100%|██████████| 41/41 [00:30<00:00,  1.33it/s, v_num=2, train_loss=0.377, cluster_loss=20.00, ADT_recon_loss=0.0751, RNA_recon_loss=0.101]"
     ]
    },
    {
     "name": "stderr",
     "output_type": "stream",
     "text": [
      "INFO:pytorch_lightning.callbacks.early_stopping:Metric train_loss improved by 0.005 >= min_delta = 0.001. New best score: 0.377\n"
     ]
    },
    {
     "name": "stdout",
     "output_type": "stream",
     "text": [
      "Epoch 31: 100%|██████████| 41/41 [00:30<00:00,  1.36it/s, v_num=2, train_loss=0.370, cluster_loss=19.90, ADT_recon_loss=0.0727, RNA_recon_loss=0.0983]"
     ]
    },
    {
     "name": "stderr",
     "output_type": "stream",
     "text": [
      "INFO:pytorch_lightning.callbacks.early_stopping:Metric train_loss improved by 0.007 >= min_delta = 0.001. New best score: 0.370\n"
     ]
    },
    {
     "name": "stdout",
     "output_type": "stream",
     "text": [
      "Epoch 32: 100%|██████████| 41/41 [00:30<00:00,  1.33it/s, v_num=2, train_loss=0.364, cluster_loss=19.80, ADT_recon_loss=0.0707, RNA_recon_loss=0.0952]"
     ]
    },
    {
     "name": "stderr",
     "output_type": "stream",
     "text": [
      "INFO:pytorch_lightning.callbacks.early_stopping:Metric train_loss improved by 0.006 >= min_delta = 0.001. New best score: 0.364\n"
     ]
    },
    {
     "name": "stdout",
     "output_type": "stream",
     "text": [
      "Epoch 33: 100%|██████████| 41/41 [00:30<00:00,  1.33it/s, v_num=2, train_loss=0.360, cluster_loss=19.70, ADT_recon_loss=0.0702, RNA_recon_loss=0.0928]"
     ]
    },
    {
     "name": "stderr",
     "output_type": "stream",
     "text": [
      "INFO:pytorch_lightning.callbacks.early_stopping:Metric train_loss improved by 0.004 >= min_delta = 0.001. New best score: 0.360\n"
     ]
    },
    {
     "name": "stdout",
     "output_type": "stream",
     "text": [
      "Epoch 34: 100%|██████████| 41/41 [00:30<00:00,  1.35it/s, v_num=2, train_loss=0.355, cluster_loss=19.60, ADT_recon_loss=0.0682, RNA_recon_loss=0.0915]"
     ]
    },
    {
     "name": "stderr",
     "output_type": "stream",
     "text": [
      "INFO:pytorch_lightning.callbacks.early_stopping:Metric train_loss improved by 0.004 >= min_delta = 0.001. New best score: 0.355\n"
     ]
    },
    {
     "name": "stdout",
     "output_type": "stream",
     "text": [
      "Epoch 35: 100%|██████████| 41/41 [00:30<00:00,  1.33it/s, v_num=2, train_loss=0.350, cluster_loss=19.40, ADT_recon_loss=0.0665, RNA_recon_loss=0.0889]"
     ]
    },
    {
     "name": "stderr",
     "output_type": "stream",
     "text": [
      "INFO:pytorch_lightning.callbacks.early_stopping:Metric train_loss improved by 0.006 >= min_delta = 0.001. New best score: 0.350\n"
     ]
    },
    {
     "name": "stdout",
     "output_type": "stream",
     "text": [
      "Epoch 36: 100%|██████████| 41/41 [00:30<00:00,  1.36it/s, v_num=2, train_loss=0.345, cluster_loss=19.30, ADT_recon_loss=0.0648, RNA_recon_loss=0.0873]"
     ]
    },
    {
     "name": "stderr",
     "output_type": "stream",
     "text": [
      "INFO:pytorch_lightning.callbacks.early_stopping:Metric train_loss improved by 0.005 >= min_delta = 0.001. New best score: 0.345\n"
     ]
    },
    {
     "name": "stdout",
     "output_type": "stream",
     "text": [
      "Epoch 37: 100%|██████████| 41/41 [00:31<00:00,  1.31it/s, v_num=2, train_loss=0.341, cluster_loss=19.20, ADT_recon_loss=0.064, RNA_recon_loss=0.0849] "
     ]
    },
    {
     "name": "stderr",
     "output_type": "stream",
     "text": [
      "INFO:pytorch_lightning.callbacks.early_stopping:Metric train_loss improved by 0.004 >= min_delta = 0.001. New best score: 0.341\n"
     ]
    },
    {
     "name": "stdout",
     "output_type": "stream",
     "text": [
      "Epoch 38: 100%|██████████| 41/41 [00:30<00:00,  1.33it/s, v_num=2, train_loss=0.337, cluster_loss=19.10, ADT_recon_loss=0.0628, RNA_recon_loss=0.0835]"
     ]
    },
    {
     "name": "stderr",
     "output_type": "stream",
     "text": [
      "INFO:pytorch_lightning.callbacks.early_stopping:Metric train_loss improved by 0.004 >= min_delta = 0.001. New best score: 0.337\n"
     ]
    },
    {
     "name": "stdout",
     "output_type": "stream",
     "text": [
      "Epoch 39: 100%|██████████| 41/41 [00:30<00:00,  1.34it/s, v_num=2, train_loss=0.331, cluster_loss=18.90, ADT_recon_loss=0.061, RNA_recon_loss=0.0809] "
     ]
    },
    {
     "name": "stderr",
     "output_type": "stream",
     "text": [
      "INFO:pytorch_lightning.callbacks.early_stopping:Metric train_loss improved by 0.006 >= min_delta = 0.001. New best score: 0.331\n"
     ]
    },
    {
     "name": "stdout",
     "output_type": "stream",
     "text": [
      "Epoch 40: 100%|██████████| 41/41 [00:30<00:00,  1.34it/s, v_num=2, train_loss=0.328, cluster_loss=18.80, ADT_recon_loss=0.0597, RNA_recon_loss=0.0797]"
     ]
    },
    {
     "name": "stderr",
     "output_type": "stream",
     "text": [
      "INFO:pytorch_lightning.callbacks.early_stopping:Metric train_loss improved by 0.004 >= min_delta = 0.001. New best score: 0.328\n"
     ]
    },
    {
     "name": "stdout",
     "output_type": "stream",
     "text": [
      "Epoch 41: 100%|██████████| 41/41 [00:31<00:00,  1.30it/s, v_num=2, train_loss=0.325, cluster_loss=18.70, ADT_recon_loss=0.0591, RNA_recon_loss=0.079] "
     ]
    },
    {
     "name": "stderr",
     "output_type": "stream",
     "text": [
      "INFO:pytorch_lightning.callbacks.early_stopping:Metric train_loss improved by 0.002 >= min_delta = 0.001. New best score: 0.325\n"
     ]
    },
    {
     "name": "stdout",
     "output_type": "stream",
     "text": [
      "Epoch 42: 100%|██████████| 41/41 [00:30<00:00,  1.34it/s, v_num=2, train_loss=0.321, cluster_loss=18.60, ADT_recon_loss=0.058, RNA_recon_loss=0.0769]"
     ]
    },
    {
     "name": "stderr",
     "output_type": "stream",
     "text": [
      "INFO:pytorch_lightning.callbacks.early_stopping:Metric train_loss improved by 0.004 >= min_delta = 0.001. New best score: 0.321\n"
     ]
    },
    {
     "name": "stdout",
     "output_type": "stream",
     "text": [
      "Epoch 43: 100%|██████████| 41/41 [00:31<00:00,  1.31it/s, v_num=2, train_loss=0.317, cluster_loss=18.50, ADT_recon_loss=0.0567, RNA_recon_loss=0.0753]"
     ]
    },
    {
     "name": "stderr",
     "output_type": "stream",
     "text": [
      "INFO:pytorch_lightning.callbacks.early_stopping:Metric train_loss improved by 0.004 >= min_delta = 0.001. New best score: 0.317\n"
     ]
    },
    {
     "name": "stdout",
     "output_type": "stream",
     "text": [
      "Epoch 44: 100%|██████████| 41/41 [00:29<00:00,  1.37it/s, v_num=2, train_loss=0.314, cluster_loss=18.40, ADT_recon_loss=0.0561, RNA_recon_loss=0.0739]"
     ]
    },
    {
     "name": "stderr",
     "output_type": "stream",
     "text": [
      "INFO:pytorch_lightning.callbacks.early_stopping:Metric train_loss improved by 0.003 >= min_delta = 0.001. New best score: 0.314\n"
     ]
    },
    {
     "name": "stdout",
     "output_type": "stream",
     "text": [
      "Epoch 45: 100%|██████████| 41/41 [00:30<00:00,  1.35it/s, v_num=2, train_loss=0.309, cluster_loss=18.20, ADT_recon_loss=0.0546, RNA_recon_loss=0.0724]"
     ]
    },
    {
     "name": "stderr",
     "output_type": "stream",
     "text": [
      "INFO:pytorch_lightning.callbacks.early_stopping:Metric train_loss improved by 0.004 >= min_delta = 0.001. New best score: 0.309\n"
     ]
    },
    {
     "name": "stdout",
     "output_type": "stream",
     "text": [
      "Epoch 46: 100%|██████████| 41/41 [00:29<00:00,  1.37it/s, v_num=2, train_loss=0.306, cluster_loss=18.10, ADT_recon_loss=0.0541, RNA_recon_loss=0.0709]"
     ]
    },
    {
     "name": "stderr",
     "output_type": "stream",
     "text": [
      "INFO:pytorch_lightning.callbacks.early_stopping:Metric train_loss improved by 0.003 >= min_delta = 0.001. New best score: 0.306\n"
     ]
    },
    {
     "name": "stdout",
     "output_type": "stream",
     "text": [
      "Epoch 47: 100%|██████████| 41/41 [00:30<00:00,  1.35it/s, v_num=2, train_loss=0.304, cluster_loss=18.00, ADT_recon_loss=0.0534, RNA_recon_loss=0.0702]"
     ]
    },
    {
     "name": "stderr",
     "output_type": "stream",
     "text": [
      "INFO:pytorch_lightning.callbacks.early_stopping:Metric train_loss improved by 0.003 >= min_delta = 0.001. New best score: 0.304\n"
     ]
    },
    {
     "name": "stdout",
     "output_type": "stream",
     "text": [
      "Epoch 48: 100%|██████████| 41/41 [00:31<00:00,  1.30it/s, v_num=2, train_loss=0.302, cluster_loss=17.90, ADT_recon_loss=0.0532, RNA_recon_loss=0.0695]"
     ]
    },
    {
     "name": "stderr",
     "output_type": "stream",
     "text": [
      "INFO:pytorch_lightning.callbacks.early_stopping:Metric train_loss improved by 0.002 >= min_delta = 0.001. New best score: 0.302\n"
     ]
    },
    {
     "name": "stdout",
     "output_type": "stream",
     "text": [
      "Epoch 49: 100%|██████████| 41/41 [00:31<00:00,  1.32it/s, v_num=2, train_loss=0.298, cluster_loss=17.80, ADT_recon_loss=0.0523, RNA_recon_loss=0.0675]"
     ]
    },
    {
     "name": "stderr",
     "output_type": "stream",
     "text": [
      "INFO:pytorch_lightning.callbacks.early_stopping:Metric train_loss improved by 0.004 >= min_delta = 0.001. New best score: 0.298\n"
     ]
    },
    {
     "name": "stdout",
     "output_type": "stream",
     "text": [
      "Epoch 50: 100%|██████████| 41/41 [00:30<00:00,  1.33it/s, v_num=2, train_loss=0.295, cluster_loss=17.70, ADT_recon_loss=0.051, RNA_recon_loss=0.0669] "
     ]
    },
    {
     "name": "stderr",
     "output_type": "stream",
     "text": [
      "INFO:pytorch_lightning.callbacks.early_stopping:Metric train_loss improved by 0.003 >= min_delta = 0.001. New best score: 0.295\n"
     ]
    },
    {
     "name": "stdout",
     "output_type": "stream",
     "text": [
      "Epoch 51: 100%|██████████| 41/41 [00:30<00:00,  1.36it/s, v_num=2, train_loss=0.292, cluster_loss=17.60, ADT_recon_loss=0.0508, RNA_recon_loss=0.0659]"
     ]
    },
    {
     "name": "stderr",
     "output_type": "stream",
     "text": [
      "INFO:pytorch_lightning.callbacks.early_stopping:Metric train_loss improved by 0.002 >= min_delta = 0.001. New best score: 0.292\n"
     ]
    },
    {
     "name": "stdout",
     "output_type": "stream",
     "text": [
      "Epoch 52: 100%|██████████| 41/41 [00:30<00:00,  1.36it/s, v_num=2, train_loss=0.289, cluster_loss=17.50, ADT_recon_loss=0.0494, RNA_recon_loss=0.0647]"
     ]
    },
    {
     "name": "stderr",
     "output_type": "stream",
     "text": [
      "INFO:pytorch_lightning.callbacks.early_stopping:Metric train_loss improved by 0.004 >= min_delta = 0.001. New best score: 0.289\n"
     ]
    },
    {
     "name": "stdout",
     "output_type": "stream",
     "text": [
      "Epoch 53: 100%|██████████| 41/41 [00:30<00:00,  1.36it/s, v_num=2, train_loss=0.286, cluster_loss=17.40, ADT_recon_loss=0.0491, RNA_recon_loss=0.0635]"
     ]
    },
    {
     "name": "stderr",
     "output_type": "stream",
     "text": [
      "INFO:pytorch_lightning.callbacks.early_stopping:Metric train_loss improved by 0.002 >= min_delta = 0.001. New best score: 0.286\n"
     ]
    },
    {
     "name": "stdout",
     "output_type": "stream",
     "text": [
      "Epoch 54: 100%|██████████| 41/41 [00:31<00:00,  1.28it/s, v_num=2, train_loss=0.284, cluster_loss=17.30, ADT_recon_loss=0.0484, RNA_recon_loss=0.0629]"
     ]
    },
    {
     "name": "stderr",
     "output_type": "stream",
     "text": [
      "INFO:pytorch_lightning.callbacks.early_stopping:Metric train_loss improved by 0.002 >= min_delta = 0.001. New best score: 0.284\n"
     ]
    },
    {
     "name": "stdout",
     "output_type": "stream",
     "text": [
      "Epoch 55: 100%|██████████| 41/41 [00:40<00:00,  1.01it/s, v_num=2, train_loss=0.281, cluster_loss=17.20, ADT_recon_loss=0.0478, RNA_recon_loss=0.0617]"
     ]
    },
    {
     "name": "stderr",
     "output_type": "stream",
     "text": [
      "INFO:pytorch_lightning.callbacks.early_stopping:Metric train_loss improved by 0.003 >= min_delta = 0.001. New best score: 0.281\n"
     ]
    },
    {
     "name": "stdout",
     "output_type": "stream",
     "text": [
      "Epoch 56: 100%|██████████| 41/41 [00:46<00:00,  0.88it/s, v_num=2, train_loss=0.278, cluster_loss=17.10, ADT_recon_loss=0.047, RNA_recon_loss=0.0608] "
     ]
    },
    {
     "name": "stderr",
     "output_type": "stream",
     "text": [
      "INFO:pytorch_lightning.callbacks.early_stopping:Metric train_loss improved by 0.003 >= min_delta = 0.001. New best score: 0.278\n"
     ]
    },
    {
     "name": "stdout",
     "output_type": "stream",
     "text": [
      "Epoch 57: 100%|██████████| 41/41 [00:35<00:00,  1.15it/s, v_num=2, train_loss=0.277, cluster_loss=17.00, ADT_recon_loss=0.0465, RNA_recon_loss=0.0608]"
     ]
    },
    {
     "name": "stderr",
     "output_type": "stream",
     "text": [
      "INFO:pytorch_lightning.callbacks.early_stopping:Metric train_loss improved by 0.002 >= min_delta = 0.001. New best score: 0.277\n"
     ]
    },
    {
     "name": "stdout",
     "output_type": "stream",
     "text": [
      "Epoch 58: 100%|██████████| 41/41 [00:33<00:00,  1.22it/s, v_num=2, train_loss=0.274, cluster_loss=16.90, ADT_recon_loss=0.0456, RNA_recon_loss=0.0594]"
     ]
    },
    {
     "name": "stderr",
     "output_type": "stream",
     "text": [
      "INFO:pytorch_lightning.callbacks.early_stopping:Metric train_loss improved by 0.003 >= min_delta = 0.001. New best score: 0.274\n"
     ]
    },
    {
     "name": "stdout",
     "output_type": "stream",
     "text": [
      "Epoch 59: 100%|██████████| 41/41 [00:39<00:00,  1.04it/s, v_num=2, train_loss=0.272, cluster_loss=16.80, ADT_recon_loss=0.0455, RNA_recon_loss=0.0591]"
     ]
    },
    {
     "name": "stderr",
     "output_type": "stream",
     "text": [
      "INFO:pytorch_lightning.callbacks.early_stopping:Metric train_loss improved by 0.001 >= min_delta = 0.001. New best score: 0.272\n"
     ]
    },
    {
     "name": "stdout",
     "output_type": "stream",
     "text": [
      "Epoch 60: 100%|██████████| 41/41 [00:44<00:00,  0.93it/s, v_num=2, train_loss=0.271, cluster_loss=16.60, ADT_recon_loss=0.0458, RNA_recon_loss=0.0582]"
     ]
    },
    {
     "name": "stderr",
     "output_type": "stream",
     "text": [
      "INFO:pytorch_lightning.callbacks.early_stopping:Metric train_loss improved by 0.002 >= min_delta = 0.001. New best score: 0.271\n"
     ]
    },
    {
     "name": "stdout",
     "output_type": "stream",
     "text": [
      "Epoch 61: 100%|██████████| 41/41 [00:51<00:00,  0.79it/s, v_num=2, train_loss=0.268, cluster_loss=16.60, ADT_recon_loss=0.0442, RNA_recon_loss=0.0578]"
     ]
    },
    {
     "name": "stderr",
     "output_type": "stream",
     "text": [
      "INFO:pytorch_lightning.callbacks.early_stopping:Metric train_loss improved by 0.003 >= min_delta = 0.001. New best score: 0.268\n"
     ]
    },
    {
     "name": "stdout",
     "output_type": "stream",
     "text": [
      "Epoch 62: 100%|██████████| 41/41 [00:52<00:00,  0.78it/s, v_num=2, train_loss=0.266, cluster_loss=16.50, ADT_recon_loss=0.0442, RNA_recon_loss=0.0565]"
     ]
    },
    {
     "name": "stderr",
     "output_type": "stream",
     "text": [
      "INFO:pytorch_lightning.callbacks.early_stopping:Metric train_loss improved by 0.002 >= min_delta = 0.001. New best score: 0.266\n"
     ]
    },
    {
     "name": "stdout",
     "output_type": "stream",
     "text": [
      "Epoch 63: 100%|██████████| 41/41 [01:12<00:00,  0.57it/s, v_num=2, train_loss=0.264, cluster_loss=16.40, ADT_recon_loss=0.044, RNA_recon_loss=0.0562] "
     ]
    },
    {
     "name": "stderr",
     "output_type": "stream",
     "text": [
      "INFO:pytorch_lightning.callbacks.early_stopping:Metric train_loss improved by 0.001 >= min_delta = 0.001. New best score: 0.264\n"
     ]
    },
    {
     "name": "stdout",
     "output_type": "stream",
     "text": [
      "Epoch 64: 100%|██████████| 41/41 [01:29<00:00,  0.46it/s, v_num=2, train_loss=0.262, cluster_loss=16.30, ADT_recon_loss=0.0438, RNA_recon_loss=0.0553]"
     ]
    },
    {
     "name": "stderr",
     "output_type": "stream",
     "text": [
      "INFO:pytorch_lightning.callbacks.early_stopping:Metric train_loss improved by 0.002 >= min_delta = 0.001. New best score: 0.262\n"
     ]
    },
    {
     "name": "stdout",
     "output_type": "stream",
     "text": [
      "Epoch 65: 100%|██████████| 41/41 [01:29<00:00,  0.46it/s, v_num=2, train_loss=0.258, cluster_loss=16.20, ADT_recon_loss=0.0423, RNA_recon_loss=0.054] "
     ]
    },
    {
     "name": "stderr",
     "output_type": "stream",
     "text": [
      "INFO:pytorch_lightning.callbacks.early_stopping:Metric train_loss improved by 0.004 >= min_delta = 0.001. New best score: 0.258\n"
     ]
    },
    {
     "name": "stdout",
     "output_type": "stream",
     "text": [
      "Epoch 66: 100%|██████████| 41/41 [02:26<00:00,  0.28it/s, v_num=2, train_loss=0.257, cluster_loss=16.10, ADT_recon_loss=0.0417, RNA_recon_loss=0.0543]"
     ]
    },
    {
     "name": "stderr",
     "output_type": "stream",
     "text": [
      "INFO:pytorch_lightning.callbacks.early_stopping:Metric train_loss improved by 0.001 >= min_delta = 0.001. New best score: 0.257\n"
     ]
    },
    {
     "name": "stdout",
     "output_type": "stream",
     "text": [
      "Epoch 67: 100%|██████████| 41/41 [02:45<00:00,  0.25it/s, v_num=2, train_loss=0.255, cluster_loss=16.00, ADT_recon_loss=0.042, RNA_recon_loss=0.0527] "
     ]
    },
    {
     "name": "stderr",
     "output_type": "stream",
     "text": [
      "INFO:pytorch_lightning.callbacks.early_stopping:Metric train_loss improved by 0.002 >= min_delta = 0.001. New best score: 0.255\n"
     ]
    },
    {
     "name": "stdout",
     "output_type": "stream",
     "text": [
      "Epoch 68: 100%|██████████| 41/41 [02:45<00:00,  0.25it/s, v_num=2, train_loss=0.253, cluster_loss=15.90, ADT_recon_loss=0.041, RNA_recon_loss=0.0528]"
     ]
    },
    {
     "name": "stderr",
     "output_type": "stream",
     "text": [
      "INFO:pytorch_lightning.callbacks.early_stopping:Metric train_loss improved by 0.002 >= min_delta = 0.001. New best score: 0.253\n"
     ]
    },
    {
     "name": "stdout",
     "output_type": "stream",
     "text": [
      "Epoch 69: 100%|██████████| 41/41 [02:45<00:00,  0.25it/s, v_num=2, train_loss=0.251, cluster_loss=15.90, ADT_recon_loss=0.0406, RNA_recon_loss=0.052]"
     ]
    },
    {
     "name": "stderr",
     "output_type": "stream",
     "text": [
      "INFO:pytorch_lightning.callbacks.early_stopping:Metric train_loss improved by 0.002 >= min_delta = 0.001. New best score: 0.251\n"
     ]
    },
    {
     "name": "stdout",
     "output_type": "stream",
     "text": [
      "Epoch 71: 100%|██████████| 41/41 [00:39<00:00,  1.03it/s, v_num=2, train_loss=0.249, cluster_loss=15.70, ADT_recon_loss=0.0404, RNA_recon_loss=0.0515]"
     ]
    },
    {
     "name": "stderr",
     "output_type": "stream",
     "text": [
      "INFO:pytorch_lightning.callbacks.early_stopping:Metric train_loss improved by 0.002 >= min_delta = 0.001. New best score: 0.249\n"
     ]
    },
    {
     "name": "stdout",
     "output_type": "stream",
     "text": [
      "Epoch 72: 100%|██████████| 41/41 [00:32<00:00,  1.27it/s, v_num=2, train_loss=0.246, cluster_loss=15.60, ADT_recon_loss=0.0395, RNA_recon_loss=0.0508]"
     ]
    },
    {
     "name": "stderr",
     "output_type": "stream",
     "text": [
      "INFO:pytorch_lightning.callbacks.early_stopping:Metric train_loss improved by 0.003 >= min_delta = 0.001. New best score: 0.246\n"
     ]
    },
    {
     "name": "stdout",
     "output_type": "stream",
     "text": [
      "Epoch 73: 100%|██████████| 41/41 [00:30<00:00,  1.34it/s, v_num=2, train_loss=0.245, cluster_loss=15.50, ADT_recon_loss=0.0394, RNA_recon_loss=0.0503]"
     ]
    },
    {
     "name": "stderr",
     "output_type": "stream",
     "text": [
      "INFO:pytorch_lightning.callbacks.early_stopping:Metric train_loss improved by 0.001 >= min_delta = 0.001. New best score: 0.245\n"
     ]
    },
    {
     "name": "stdout",
     "output_type": "stream",
     "text": [
      "Epoch 74: 100%|██████████| 41/41 [00:31<00:00,  1.29it/s, v_num=2, train_loss=0.243, cluster_loss=15.50, ADT_recon_loss=0.0393, RNA_recon_loss=0.0496]"
     ]
    },
    {
     "name": "stderr",
     "output_type": "stream",
     "text": [
      "INFO:pytorch_lightning.callbacks.early_stopping:Metric train_loss improved by 0.001 >= min_delta = 0.001. New best score: 0.243\n"
     ]
    },
    {
     "name": "stdout",
     "output_type": "stream",
     "text": [
      "Epoch 75: 100%|██████████| 41/41 [00:29<00:00,  1.39it/s, v_num=2, train_loss=0.241, cluster_loss=15.40, ADT_recon_loss=0.0387, RNA_recon_loss=0.0491]"
     ]
    },
    {
     "name": "stderr",
     "output_type": "stream",
     "text": [
      "INFO:pytorch_lightning.callbacks.early_stopping:Metric train_loss improved by 0.002 >= min_delta = 0.001. New best score: 0.241\n"
     ]
    },
    {
     "name": "stdout",
     "output_type": "stream",
     "text": [
      "Epoch 76: 100%|██████████| 41/41 [00:28<00:00,  1.42it/s, v_num=2, train_loss=0.240, cluster_loss=15.30, ADT_recon_loss=0.0389, RNA_recon_loss=0.049] "
     ]
    },
    {
     "name": "stderr",
     "output_type": "stream",
     "text": [
      "INFO:pytorch_lightning.callbacks.early_stopping:Metric train_loss improved by 0.001 >= min_delta = 0.001. New best score: 0.240\n"
     ]
    },
    {
     "name": "stdout",
     "output_type": "stream",
     "text": [
      "Epoch 77: 100%|██████████| 41/41 [00:42<00:00,  0.98it/s, v_num=2, train_loss=0.239, cluster_loss=15.20, ADT_recon_loss=0.0384, RNA_recon_loss=0.0482]"
     ]
    },
    {
     "name": "stderr",
     "output_type": "stream",
     "text": [
      "INFO:pytorch_lightning.callbacks.early_stopping:Metric train_loss improved by 0.002 >= min_delta = 0.001. New best score: 0.239\n"
     ]
    },
    {
     "name": "stdout",
     "output_type": "stream",
     "text": [
      "Epoch 78: 100%|██████████| 41/41 [00:33<00:00,  1.22it/s, v_num=2, train_loss=0.236, cluster_loss=15.10, ADT_recon_loss=0.0381, RNA_recon_loss=0.0472]"
     ]
    },
    {
     "name": "stderr",
     "output_type": "stream",
     "text": [
      "INFO:pytorch_lightning.callbacks.early_stopping:Metric train_loss improved by 0.002 >= min_delta = 0.001. New best score: 0.236\n"
     ]
    },
    {
     "name": "stdout",
     "output_type": "stream",
     "text": [
      "Epoch 80: 100%|██████████| 41/41 [00:35<00:00,  1.16it/s, v_num=2, train_loss=0.233, cluster_loss=15.00, ADT_recon_loss=0.0373, RNA_recon_loss=0.0466]"
     ]
    },
    {
     "name": "stderr",
     "output_type": "stream",
     "text": [
      "INFO:pytorch_lightning.callbacks.early_stopping:Metric train_loss improved by 0.003 >= min_delta = 0.001. New best score: 0.233\n"
     ]
    },
    {
     "name": "stdout",
     "output_type": "stream",
     "text": [
      "Epoch 81: 100%|██████████| 41/41 [01:33<00:00,  0.44it/s, v_num=2, train_loss=0.232, cluster_loss=14.90, ADT_recon_loss=0.0368, RNA_recon_loss=0.0465]"
     ]
    },
    {
     "name": "stderr",
     "output_type": "stream",
     "text": [
      "INFO:pytorch_lightning.callbacks.early_stopping:Metric train_loss improved by 0.001 >= min_delta = 0.001. New best score: 0.232\n"
     ]
    },
    {
     "name": "stdout",
     "output_type": "stream",
     "text": [
      "Epoch 82: 100%|██████████| 41/41 [00:38<00:00,  1.06it/s, v_num=2, train_loss=0.231, cluster_loss=14.80, ADT_recon_loss=0.0374, RNA_recon_loss=0.0456]"
     ]
    },
    {
     "name": "stderr",
     "output_type": "stream",
     "text": [
      "INFO:pytorch_lightning.callbacks.early_stopping:Metric train_loss improved by 0.001 >= min_delta = 0.001. New best score: 0.231\n"
     ]
    },
    {
     "name": "stdout",
     "output_type": "stream",
     "text": [
      "Epoch 84: 100%|██████████| 41/41 [00:29<00:00,  1.41it/s, v_num=2, train_loss=0.228, cluster_loss=14.70, ADT_recon_loss=0.0363, RNA_recon_loss=0.0452]"
     ]
    },
    {
     "name": "stderr",
     "output_type": "stream",
     "text": [
      "INFO:pytorch_lightning.callbacks.early_stopping:Metric train_loss improved by 0.003 >= min_delta = 0.001. New best score: 0.228\n"
     ]
    },
    {
     "name": "stdout",
     "output_type": "stream",
     "text": [
      "Epoch 85: 100%|██████████| 41/41 [00:28<00:00,  1.45it/s, v_num=2, train_loss=0.227, cluster_loss=14.60, ADT_recon_loss=0.0359, RNA_recon_loss=0.045] "
     ]
    },
    {
     "name": "stderr",
     "output_type": "stream",
     "text": [
      "INFO:pytorch_lightning.callbacks.early_stopping:Metric train_loss improved by 0.001 >= min_delta = 0.001. New best score: 0.227\n"
     ]
    },
    {
     "name": "stdout",
     "output_type": "stream",
     "text": [
      "Epoch 86: 100%|██████████| 41/41 [00:27<00:00,  1.51it/s, v_num=2, train_loss=0.225, cluster_loss=14.50, ADT_recon_loss=0.0354, RNA_recon_loss=0.044]"
     ]
    },
    {
     "name": "stderr",
     "output_type": "stream",
     "text": [
      "INFO:pytorch_lightning.callbacks.early_stopping:Metric train_loss improved by 0.002 >= min_delta = 0.001. New best score: 0.225\n"
     ]
    },
    {
     "name": "stdout",
     "output_type": "stream",
     "text": [
      "Epoch 88: 100%|██████████| 41/41 [00:26<00:00,  1.53it/s, v_num=2, train_loss=0.222, cluster_loss=14.40, ADT_recon_loss=0.035, RNA_recon_loss=0.0436]"
     ]
    },
    {
     "name": "stderr",
     "output_type": "stream",
     "text": [
      "INFO:pytorch_lightning.callbacks.early_stopping:Metric train_loss improved by 0.002 >= min_delta = 0.001. New best score: 0.222\n"
     ]
    },
    {
     "name": "stdout",
     "output_type": "stream",
     "text": [
      "Epoch 89: 100%|██████████| 41/41 [00:28<00:00,  1.44it/s, v_num=2, train_loss=0.221, cluster_loss=14.30, ADT_recon_loss=0.035, RNA_recon_loss=0.0431]"
     ]
    },
    {
     "name": "stderr",
     "output_type": "stream",
     "text": [
      "INFO:pytorch_lightning.callbacks.early_stopping:Metric train_loss improved by 0.001 >= min_delta = 0.001. New best score: 0.221\n"
     ]
    },
    {
     "name": "stdout",
     "output_type": "stream",
     "text": [
      "Epoch 90: 100%|██████████| 41/41 [00:27<00:00,  1.49it/s, v_num=2, train_loss=0.220, cluster_loss=14.30, ADT_recon_loss=0.0346, RNA_recon_loss=0.0432]"
     ]
    },
    {
     "name": "stderr",
     "output_type": "stream",
     "text": [
      "INFO:pytorch_lightning.callbacks.early_stopping:Metric train_loss improved by 0.001 >= min_delta = 0.001. New best score: 0.220\n"
     ]
    },
    {
     "name": "stdout",
     "output_type": "stream",
     "text": [
      "Epoch 92: 100%|██████████| 41/41 [00:27<00:00,  1.51it/s, v_num=2, train_loss=0.217, cluster_loss=14.10, ADT_recon_loss=0.0341, RNA_recon_loss=0.0419]"
     ]
    },
    {
     "name": "stderr",
     "output_type": "stream",
     "text": [
      "INFO:pytorch_lightning.callbacks.early_stopping:Metric train_loss improved by 0.003 >= min_delta = 0.001. New best score: 0.217\n"
     ]
    },
    {
     "name": "stdout",
     "output_type": "stream",
     "text": [
      "Epoch 94: 100%|██████████| 41/41 [00:27<00:00,  1.51it/s, v_num=2, train_loss=0.215, cluster_loss=14.00, ADT_recon_loss=0.0338, RNA_recon_loss=0.0418]"
     ]
    },
    {
     "name": "stderr",
     "output_type": "stream",
     "text": [
      "INFO:pytorch_lightning.callbacks.early_stopping:Metric train_loss improved by 0.002 >= min_delta = 0.001. New best score: 0.215\n"
     ]
    },
    {
     "name": "stdout",
     "output_type": "stream",
     "text": [
      "Epoch 95: 100%|██████████| 41/41 [00:27<00:00,  1.48it/s, v_num=2, train_loss=0.214, cluster_loss=13.90, ADT_recon_loss=0.0336, RNA_recon_loss=0.0409]"
     ]
    },
    {
     "name": "stderr",
     "output_type": "stream",
     "text": [
      "INFO:pytorch_lightning.callbacks.early_stopping:Metric train_loss improved by 0.002 >= min_delta = 0.001. New best score: 0.214\n"
     ]
    },
    {
     "name": "stdout",
     "output_type": "stream",
     "text": [
      "Epoch 96: 100%|██████████| 41/41 [00:27<00:00,  1.50it/s, v_num=2, train_loss=0.212, cluster_loss=13.90, ADT_recon_loss=0.0331, RNA_recon_loss=0.0405]"
     ]
    },
    {
     "name": "stderr",
     "output_type": "stream",
     "text": [
      "INFO:pytorch_lightning.callbacks.early_stopping:Metric train_loss improved by 0.002 >= min_delta = 0.001. New best score: 0.212\n"
     ]
    },
    {
     "name": "stdout",
     "output_type": "stream",
     "text": [
      "Epoch 98: 100%|██████████| 41/41 [00:26<00:00,  1.54it/s, v_num=2, train_loss=0.211, cluster_loss=13.70, ADT_recon_loss=0.0329, RNA_recon_loss=0.0406]"
     ]
    },
    {
     "name": "stderr",
     "output_type": "stream",
     "text": [
      "INFO:pytorch_lightning.callbacks.early_stopping:Metric train_loss improved by 0.001 >= min_delta = 0.001. New best score: 0.211\n"
     ]
    },
    {
     "name": "stdout",
     "output_type": "stream",
     "text": [
      "Epoch 99: 100%|██████████| 41/41 [00:26<00:00,  1.54it/s, v_num=2, train_loss=0.210, cluster_loss=13.70, ADT_recon_loss=0.0323, RNA_recon_loss=0.0406]"
     ]
    },
    {
     "name": "stderr",
     "output_type": "stream",
     "text": [
      "INFO:pytorch_lightning.callbacks.early_stopping:Metric train_loss improved by 0.001 >= min_delta = 0.001. New best score: 0.210\n"
     ]
    },
    {
     "name": "stdout",
     "output_type": "stream",
     "text": [
      "Epoch 100: 100%|██████████| 41/41 [00:26<00:00,  1.53it/s, v_num=2, train_loss=0.208, cluster_loss=13.60, ADT_recon_loss=0.0324, RNA_recon_loss=0.0395]"
     ]
    },
    {
     "name": "stderr",
     "output_type": "stream",
     "text": [
      "INFO:pytorch_lightning.callbacks.early_stopping:Metric train_loss improved by 0.002 >= min_delta = 0.001. New best score: 0.208\n"
     ]
    },
    {
     "name": "stdout",
     "output_type": "stream",
     "text": [
      "Epoch 102: 100%|██████████| 41/41 [00:26<00:00,  1.53it/s, v_num=2, train_loss=0.206, cluster_loss=13.50, ADT_recon_loss=0.0322, RNA_recon_loss=0.0389]"
     ]
    },
    {
     "name": "stderr",
     "output_type": "stream",
     "text": [
      "INFO:pytorch_lightning.callbacks.early_stopping:Metric train_loss improved by 0.002 >= min_delta = 0.001. New best score: 0.206\n"
     ]
    },
    {
     "name": "stdout",
     "output_type": "stream",
     "text": [
      "Epoch 103: 100%|██████████| 41/41 [00:27<00:00,  1.51it/s, v_num=2, train_loss=0.205, cluster_loss=13.50, ADT_recon_loss=0.0318, RNA_recon_loss=0.0389]"
     ]
    },
    {
     "name": "stderr",
     "output_type": "stream",
     "text": [
      "INFO:pytorch_lightning.callbacks.early_stopping:Metric train_loss improved by 0.001 >= min_delta = 0.001. New best score: 0.205\n"
     ]
    },
    {
     "name": "stdout",
     "output_type": "stream",
     "text": [
      "Epoch 105: 100%|██████████| 41/41 [00:27<00:00,  1.52it/s, v_num=2, train_loss=0.204, cluster_loss=13.30, ADT_recon_loss=0.032, RNA_recon_loss=0.0386] "
     ]
    },
    {
     "name": "stderr",
     "output_type": "stream",
     "text": [
      "INFO:pytorch_lightning.callbacks.early_stopping:Metric train_loss improved by 0.001 >= min_delta = 0.001. New best score: 0.204\n"
     ]
    },
    {
     "name": "stdout",
     "output_type": "stream",
     "text": [
      "Epoch 106: 100%|██████████| 41/41 [00:27<00:00,  1.51it/s, v_num=2, train_loss=0.202, cluster_loss=13.30, ADT_recon_loss=0.0314, RNA_recon_loss=0.038]"
     ]
    },
    {
     "name": "stderr",
     "output_type": "stream",
     "text": [
      "INFO:pytorch_lightning.callbacks.early_stopping:Metric train_loss improved by 0.002 >= min_delta = 0.001. New best score: 0.202\n"
     ]
    },
    {
     "name": "stdout",
     "output_type": "stream",
     "text": [
      "Epoch 107: 100%|██████████| 41/41 [00:27<00:00,  1.48it/s, v_num=2, train_loss=0.201, cluster_loss=13.20, ADT_recon_loss=0.0308, RNA_recon_loss=0.038]"
     ]
    },
    {
     "name": "stderr",
     "output_type": "stream",
     "text": [
      "INFO:pytorch_lightning.callbacks.early_stopping:Metric train_loss improved by 0.001 >= min_delta = 0.001. New best score: 0.201\n"
     ]
    },
    {
     "name": "stdout",
     "output_type": "stream",
     "text": [
      "Epoch 109: 100%|██████████| 41/41 [00:27<00:00,  1.51it/s, v_num=2, train_loss=0.199, cluster_loss=13.10, ADT_recon_loss=0.031, RNA_recon_loss=0.037]  "
     ]
    },
    {
     "name": "stderr",
     "output_type": "stream",
     "text": [
      "INFO:pytorch_lightning.callbacks.early_stopping:Metric train_loss improved by 0.002 >= min_delta = 0.001. New best score: 0.199\n"
     ]
    },
    {
     "name": "stdout",
     "output_type": "stream",
     "text": [
      "Epoch 111: 100%|██████████| 41/41 [00:27<00:00,  1.49it/s, v_num=2, train_loss=0.198, cluster_loss=13.00, ADT_recon_loss=0.0305, RNA_recon_loss=0.037]"
     ]
    },
    {
     "name": "stderr",
     "output_type": "stream",
     "text": [
      "INFO:pytorch_lightning.callbacks.early_stopping:Metric train_loss improved by 0.001 >= min_delta = 0.001. New best score: 0.198\n"
     ]
    },
    {
     "name": "stdout",
     "output_type": "stream",
     "text": [
      "Epoch 113: 100%|██████████| 41/41 [00:27<00:00,  1.50it/s, v_num=2, train_loss=0.196, cluster_loss=12.90, ADT_recon_loss=0.0302, RNA_recon_loss=0.0364]"
     ]
    },
    {
     "name": "stderr",
     "output_type": "stream",
     "text": [
      "INFO:pytorch_lightning.callbacks.early_stopping:Metric train_loss improved by 0.002 >= min_delta = 0.001. New best score: 0.196\n"
     ]
    },
    {
     "name": "stdout",
     "output_type": "stream",
     "text": [
      "Epoch 115: 100%|██████████| 41/41 [00:27<00:00,  1.48it/s, v_num=2, train_loss=0.195, cluster_loss=12.80, ADT_recon_loss=0.0303, RNA_recon_loss=0.0362]"
     ]
    },
    {
     "name": "stderr",
     "output_type": "stream",
     "text": [
      "INFO:pytorch_lightning.callbacks.early_stopping:Metric train_loss improved by 0.001 >= min_delta = 0.001. New best score: 0.195\n"
     ]
    },
    {
     "name": "stdout",
     "output_type": "stream",
     "text": [
      "Epoch 116: 100%|██████████| 41/41 [00:27<00:00,  1.47it/s, v_num=2, train_loss=0.193, cluster_loss=12.80, ADT_recon_loss=0.0298, RNA_recon_loss=0.0358]"
     ]
    },
    {
     "name": "stderr",
     "output_type": "stream",
     "text": [
      "INFO:pytorch_lightning.callbacks.early_stopping:Metric train_loss improved by 0.001 >= min_delta = 0.001. New best score: 0.193\n"
     ]
    },
    {
     "name": "stdout",
     "output_type": "stream",
     "text": [
      "Epoch 117: 100%|██████████| 41/41 [00:28<00:00,  1.45it/s, v_num=2, train_loss=0.192, cluster_loss=12.70, ADT_recon_loss=0.0295, RNA_recon_loss=0.0357]"
     ]
    },
    {
     "name": "stderr",
     "output_type": "stream",
     "text": [
      "INFO:pytorch_lightning.callbacks.early_stopping:Metric train_loss improved by 0.001 >= min_delta = 0.001. New best score: 0.192\n"
     ]
    },
    {
     "name": "stdout",
     "output_type": "stream",
     "text": [
      "Epoch 119: 100%|██████████| 41/41 [00:28<00:00,  1.44it/s, v_num=2, train_loss=0.191, cluster_loss=12.60, ADT_recon_loss=0.0293, RNA_recon_loss=0.0354]"
     ]
    },
    {
     "name": "stderr",
     "output_type": "stream",
     "text": [
      "INFO:pytorch_lightning.callbacks.early_stopping:Metric train_loss improved by 0.001 >= min_delta = 0.001. New best score: 0.191\n"
     ]
    },
    {
     "name": "stdout",
     "output_type": "stream",
     "text": [
      "Epoch 120: 100%|██████████| 41/41 [00:28<00:00,  1.44it/s, v_num=2, train_loss=0.189, cluster_loss=12.60, ADT_recon_loss=0.0289, RNA_recon_loss=0.0346]"
     ]
    },
    {
     "name": "stderr",
     "output_type": "stream",
     "text": [
      "INFO:pytorch_lightning.callbacks.early_stopping:Metric train_loss improved by 0.002 >= min_delta = 0.001. New best score: 0.189\n"
     ]
    },
    {
     "name": "stdout",
     "output_type": "stream",
     "text": [
      "Epoch 123: 100%|██████████| 41/41 [00:28<00:00,  1.46it/s, v_num=2, train_loss=0.188, cluster_loss=12.40, ADT_recon_loss=0.0293, RNA_recon_loss=0.0345]"
     ]
    },
    {
     "name": "stderr",
     "output_type": "stream",
     "text": [
      "INFO:pytorch_lightning.callbacks.early_stopping:Metric train_loss improved by 0.001 >= min_delta = 0.001. New best score: 0.188\n"
     ]
    },
    {
     "name": "stdout",
     "output_type": "stream",
     "text": [
      "Epoch 124: 100%|██████████| 41/41 [00:28<00:00,  1.42it/s, v_num=2, train_loss=0.187, cluster_loss=12.40, ADT_recon_loss=0.0288, RNA_recon_loss=0.034] "
     ]
    },
    {
     "name": "stderr",
     "output_type": "stream",
     "text": [
      "INFO:pytorch_lightning.callbacks.early_stopping:Metric train_loss improved by 0.001 >= min_delta = 0.001. New best score: 0.187\n"
     ]
    },
    {
     "name": "stdout",
     "output_type": "stream",
     "text": [
      "Epoch 126: 100%|██████████| 41/41 [00:27<00:00,  1.47it/s, v_num=2, train_loss=0.185, cluster_loss=12.30, ADT_recon_loss=0.0284, RNA_recon_loss=0.0336]"
     ]
    },
    {
     "name": "stderr",
     "output_type": "stream",
     "text": [
      "INFO:pytorch_lightning.callbacks.early_stopping:Metric train_loss improved by 0.002 >= min_delta = 0.001. New best score: 0.185\n"
     ]
    },
    {
     "name": "stdout",
     "output_type": "stream",
     "text": [
      "Epoch 128: 100%|██████████| 41/41 [00:27<00:00,  1.49it/s, v_num=2, train_loss=0.183, cluster_loss=12.20, ADT_recon_loss=0.0278, RNA_recon_loss=0.0329]"
     ]
    },
    {
     "name": "stderr",
     "output_type": "stream",
     "text": [
      "INFO:pytorch_lightning.callbacks.early_stopping:Metric train_loss improved by 0.002 >= min_delta = 0.001. New best score: 0.183\n"
     ]
    },
    {
     "name": "stdout",
     "output_type": "stream",
     "text": [
      "Epoch 131: 100%|██████████| 41/41 [00:28<00:00,  1.46it/s, v_num=2, train_loss=0.181, cluster_loss=12.10, ADT_recon_loss=0.0277, RNA_recon_loss=0.0328]"
     ]
    },
    {
     "name": "stderr",
     "output_type": "stream",
     "text": [
      "INFO:pytorch_lightning.callbacks.early_stopping:Metric train_loss improved by 0.001 >= min_delta = 0.001. New best score: 0.181\n"
     ]
    },
    {
     "name": "stdout",
     "output_type": "stream",
     "text": [
      "Epoch 133: 100%|██████████| 41/41 [00:27<00:00,  1.47it/s, v_num=2, train_loss=0.180, cluster_loss=12.00, ADT_recon_loss=0.028, RNA_recon_loss=0.0323] "
     ]
    },
    {
     "name": "stderr",
     "output_type": "stream",
     "text": [
      "INFO:pytorch_lightning.callbacks.early_stopping:Metric train_loss improved by 0.001 >= min_delta = 0.001. New best score: 0.180\n"
     ]
    },
    {
     "name": "stdout",
     "output_type": "stream",
     "text": [
      "Epoch 135: 100%|██████████| 41/41 [00:27<00:00,  1.47it/s, v_num=2, train_loss=0.178, cluster_loss=11.90, ADT_recon_loss=0.0271, RNA_recon_loss=0.0323]"
     ]
    },
    {
     "name": "stderr",
     "output_type": "stream",
     "text": [
      "INFO:pytorch_lightning.callbacks.early_stopping:Metric train_loss improved by 0.002 >= min_delta = 0.001. New best score: 0.178\n"
     ]
    },
    {
     "name": "stdout",
     "output_type": "stream",
     "text": [
      "Epoch 137: 100%|██████████| 41/41 [00:27<00:00,  1.47it/s, v_num=2, train_loss=0.177, cluster_loss=11.80, ADT_recon_loss=0.0273, RNA_recon_loss=0.0316]"
     ]
    },
    {
     "name": "stderr",
     "output_type": "stream",
     "text": [
      "INFO:pytorch_lightning.callbacks.early_stopping:Metric train_loss improved by 0.001 >= min_delta = 0.001. New best score: 0.177\n"
     ]
    },
    {
     "name": "stdout",
     "output_type": "stream",
     "text": [
      "Epoch 140: 100%|██████████| 41/41 [00:28<00:00,  1.46it/s, v_num=2, train_loss=0.175, cluster_loss=11.70, ADT_recon_loss=0.0269, RNA_recon_loss=0.0314]"
     ]
    },
    {
     "name": "stderr",
     "output_type": "stream",
     "text": [
      "INFO:pytorch_lightning.callbacks.early_stopping:Metric train_loss improved by 0.002 >= min_delta = 0.001. New best score: 0.175\n"
     ]
    },
    {
     "name": "stdout",
     "output_type": "stream",
     "text": [
      "Epoch 142: 100%|██████████| 41/41 [00:28<00:00,  1.46it/s, v_num=2, train_loss=0.174, cluster_loss=11.60, ADT_recon_loss=0.0264, RNA_recon_loss=0.0309]"
     ]
    },
    {
     "name": "stderr",
     "output_type": "stream",
     "text": [
      "INFO:pytorch_lightning.callbacks.early_stopping:Metric train_loss improved by 0.002 >= min_delta = 0.001. New best score: 0.174\n"
     ]
    },
    {
     "name": "stdout",
     "output_type": "stream",
     "text": [
      "Epoch 145: 100%|██████████| 41/41 [00:27<00:00,  1.48it/s, v_num=2, train_loss=0.173, cluster_loss=11.50, ADT_recon_loss=0.0271, RNA_recon_loss=0.031] "
     ]
    },
    {
     "name": "stderr",
     "output_type": "stream",
     "text": [
      "INFO:pytorch_lightning.callbacks.early_stopping:Monitored metric train_loss did not improve in the last 3 records. Best score: 0.174. Signaling Trainer to stop.\n"
     ]
    },
    {
     "name": "stdout",
     "output_type": "stream",
     "text": [
      "Epoch 145: 100%|██████████| 41/41 [00:28<00:00,  1.46it/s, v_num=2, train_loss=0.173, cluster_loss=11.50, ADT_recon_loss=0.0271, RNA_recon_loss=0.031]\n"
     ]
    }
   ],
   "source": [
    "from pytorch_lightning import Trainer\n",
    "from pytorch_lightning.callbacks import EarlyStopping, ModelCheckpoint\n",
    "\n",
    "checkpoint_callback = ModelCheckpoint(\n",
    "    monitor='train_loss',         # monitor your training loss\n",
    "    dirpath='checkpoints',        # directory to save checkpoints\n",
    "    filename='graph_ae-{epoch:02d}-{train_loss:.2f}',\n",
    "    save_top_k=1,                 # save the best model\n",
    "    mode='min'\n",
    ")\n",
    "\n",
    "early_stop_callback = EarlyStopping(\n",
    "    monitor='train_loss',\n",
    "    min_delta=0.001,\n",
    "    patience=3,\n",
    "    verbose=True,\n",
    "    mode='min'\n",
    ")\n",
    "\n",
    "trainer = Trainer(\n",
    "    max_epochs=n_epochs,\n",
    "    accelerator=\"gpu\",\n",
    "    devices=1,\n",
    "    callbacks=[early_stop_callback, checkpoint_callback]\n",
    ")\n",
    "trainer.fit(model, train_dataloaders=neighbor_loader)\n"
   ]
  },
  {
   "cell_type": "code",
   "execution_count": 16,
   "id": "b2d08f510e0be586",
   "metadata": {
    "ExecuteTime": {
     "end_time": "2025-03-19T22:40:21.623506Z",
     "start_time": "2025-03-19T22:40:20.759047Z"
    }
   },
   "outputs": [
    {
     "name": "stdout",
     "output_type": "stream",
     "text": [
      "nde_embedding: tensor([[-0.2246,  0.0431,  0.0629,  ..., -1.2571, -0.6118,  1.5416],\n",
      "        [-0.2223,  0.2342, -0.4556,  ..., -1.4059, -0.6281,  1.8589],\n",
      "        [-0.1888,  0.0379,  0.2999,  ..., -1.1563, -0.5214,  1.7349],\n",
      "        ...,\n",
      "        [-0.2474,  0.1164,  0.5034,  ..., -1.2927, -0.4975,  1.8790],\n",
      "        [-0.2739,  0.0678,  0.3413,  ..., -1.1738, -0.4603,  1.6641],\n",
      "        [-0.1409,  0.1068,  0.3919,  ..., -1.3248, -0.4640,  1.7234]])\n",
      "Predicted edge probabilities: {'ADT': tensor([[0.0608],\n",
      "        [0.0522],\n",
      "        [0.0564],\n",
      "        ...,\n",
      "        [0.0568],\n",
      "        [0.0554],\n",
      "        [0.0458]]), 'RNA': tensor([[0.0684],\n",
      "        [0.0759],\n",
      "        [0.0632],\n",
      "        ...,\n",
      "        [0.1376],\n",
      "        [0.1498],\n",
      "        [0.1444]])}\n"
     ]
    }
   ],
   "source": [
    "# Inference on full data:\n",
    "model.eval()\n",
    "with torch.no_grad():\n",
    "    # Move data to the same device as the model.\n",
    "    hetero_data = hetero_data.to(model.device)\n",
    "    z = model(hetero_data)\n",
    "    # For example, reconstruct edge probabilities using one set of edges.\n",
    "    pos_edge_index = list(hetero_data.edge_index_dict.values())[0]\n",
    "    pred_edge_probs = model.model.decode(z, pos_edge_index)\n",
    "    print(f\"nde_embedding: {z}\")\n",
    "    print(\"Predicted edge probabilities:\", pred_edge_probs)\n"
   ]
  },
  {
   "cell_type": "markdown",
   "id": "d2585789",
   "metadata": {},
   "source": [
    "Evaluation metrics"
   ]
  },
  {
   "cell_type": "code",
   "execution_count": 17,
   "id": "a19ad394",
   "metadata": {
    "ExecuteTime": {
     "end_time": "2025-03-19T22:40:32.138106Z",
     "start_time": "2025-03-19T22:40:32.044456Z"
    }
   },
   "outputs": [],
   "source": [
    "latent_embedding = z.to('cpu').detach().numpy()\n",
    "adata_eval = sc.AnnData(X=latent_embedding, obs=hetero_data['cell'].metadata.copy())\n",
    "adata_eval.obsm[\"emb\"] = latent_embedding\n"
   ]
  },
  {
   "cell_type": "code",
   "execution_count": 18,
   "id": "ed92c9da",
   "metadata": {
    "ExecuteTime": {
     "end_time": "2025-03-19T22:40:39.214956Z",
     "start_time": "2025-03-19T22:40:32.869994Z"
    }
   },
   "outputs": [
    {
     "name": "stderr",
     "output_type": "stream",
     "text": [
      "c:\\Users\\sonia\\anaconda3\\envs\\MultiOmicsIntegration\\Lib\\site-packages\\tqdm\\auto.py:21: TqdmWarning: IProgress not found. Please update jupyter and ipywidgets. See https://ipywidgets.readthedocs.io/en/stable/user_install.html\n",
      "  from .autonotebook import tqdm as notebook_tqdm\n"
     ]
    },
    {
     "data": {
      "image/png": "[encoded data removed]",
      "text/plain": [
       "<Figure size 640x480 with 1 Axes>"
      ]
     },
     "metadata": {},
     "output_type": "display_data"
    }
   ],
   "source": [
    "sc.pp.neighbors(adata_eval, use_rep='emb')         # Build neighbor graph using the latent embedding.\n",
    "sc.tl.louvain(adata_eval, resolution=0.5)            # Run Louvain clustering.\n",
    "sc.tl.umap(adata_eval)                               # Compute UMAP coordinates.\n",
    "sc.pl.embedding(adata_eval, color='louvain', basis='umap')  # Visualize the UMAP colored by Louvain clusters.\n"
   ]
  },
  {
   "cell_type": "code",
   "execution_count": 19,
   "id": "1f4b8ba2",
   "metadata": {
    "ExecuteTime": {
     "end_time": "2025-03-19T22:40:42.308538Z",
     "start_time": "2025-03-19T22:40:42.205786Z"
    }
   },
   "outputs": [
    {
     "name": "stdout",
     "output_type": "stream",
     "text": [
      "Adjusted Rand Index: 0.5381261242290866\n",
      "Normalized Mutual Information: 0.670490101829075\n"
     ]
    }
   ],
   "source": [
    "gt = adata_eval.obs['celltype'].tolist()   # True labels.\n",
    "pred = adata_eval.obs['louvain'].tolist()     # Louvain cluster labels.\n",
    "\n",
    "from sklearn.metrics import adjusted_rand_score, normalized_mutual_info_score\n",
    "\n",
    "ari = adjusted_rand_score(gt, pred)\n",
    "nmi = normalized_mutual_info_score(gt, pred)\n",
    "\n",
    "print(\"Adjusted Rand Index:\", ari)\n",
    "print(\"Normalized Mutual Information:\", nmi)\n"
   ]
  },
  {
   "cell_type": "code",
   "execution_count": 20,
   "id": "230745a7",
   "metadata": {
    "ExecuteTime": {
     "end_time": "2025-03-19T22:40:52.062725Z",
     "start_time": "2025-03-19T22:40:51.980624Z"
    }
   },
   "outputs": [],
   "source": [
    "results_dir = \"results\"\n",
    "metrics_dir = os.path.join(results_dir, \"metrics\")\n",
    "figures_dir = os.path.join(results_dir, \"figures\")\n",
    "\n",
    "os.makedirs(metrics_dir, exist_ok=True)\n",
    "os.makedirs(figures_dir, exist_ok=True)"
   ]
  },
  {
   "cell_type": "code",
   "execution_count": 21,
   "id": "6bfc5dfe",
   "metadata": {
    "ExecuteTime": {
     "end_time": "2025-03-19T22:40:53.014479Z",
     "start_time": "2025-03-19T22:40:52.931617Z"
    }
   },
   "outputs": [],
   "source": [
    "metrics = {\n",
    "    \"dataset_name\": DATASET_NAME,\n",
    "    \"in_channels\": in_channels,\n",
    "    \"hidden_channels\": hidden_channels,\n",
    "    \"latent_channels\": latent_channels,\n",
    "    \"num_layers\": num_layers,\n",
    "    \"learning_rate\": learning_rate,\n",
    "    \"n_epochs\": n_epochs,\n",
    "    \"ARI\": ari,  \n",
    "    \"NMI\": nmi   \n",
    "}"
   ]
  },
  {
   "cell_type": "code",
   "execution_count": 58,
   "id": "55d3463d",
   "metadata": {
    "ExecuteTime": {
     "end_time": "2025-03-19T22:40:53.987335Z",
     "start_time": "2025-03-19T22:40:53.726179Z"
    }
   },
   "outputs": [
    {
     "name": "stdout",
     "output_type": "stream",
     "text": [
      "Metrics saved to results\\metrics\\LUNG-CITE_results.csv\n",
      "UMAP figure saved to results\\figures\\umap_louvain.png\n"
     ]
    }
   ],
   "source": [
    "import pandas as pd\n",
    "\n",
    "# Convert the metrics dictionary into a DataFrame and save as CSV.\n",
    "df_metrics = pd.DataFrame([metrics])\n",
    "csv_file = os.path.join(metrics_dir, f\"{DATASET_NAME}_results.csv\")\n",
    "df_metrics.to_csv(csv_file, index=False)\n",
    "print(f\"Metrics saved to {csv_file}\")\n",
    "\n",
    "# Save the UMAP plot with Louvain clusters as a PNG.\n",
    "# Re-run the plotting command with show=False to capture the figure.\n",
    "sc.pl.embedding(adata_eval, color='louvain', basis='umap', show=False)\n",
    "# Save the current figure.\n",
    "umap_fig_path = os.path.join(figures_dir, \"umap_louvain.png\")\n",
    "plt.savefig(umap_fig_path)\n",
    "plt.close()\n",
    "print(f\"UMAP figure saved to {umap_fig_path}\")"
   ]
  },
  {
   "cell_type": "markdown",
   "id": "b6223d51",
   "metadata": {},
   "source": [
    "Evaluation on modal prediction task as a downstream evaluation, it tests whether the integrated space retains sufficient information to reconstruct the original data. "
   ]
  },
  {
   "cell_type": "code",
   "execution_count": 32,
   "id": "adda04ee6d7edb26",
   "metadata": {},
   "outputs": [
    {
     "name": "stdout",
     "output_type": "stream",
     "text": [
      "Predicting RNA with output dim: 3000\n"
     ]
    }
   ],
   "source": [
    "import torch\n",
    "\n",
    "# Assuming 'data' is your dictionary of AnnData objects per modality\n",
    "target_modality = \"RNA\"\n",
    "target_features = torch.tensor(data[target_modality].X, dtype=torch.float)  # Shape: [num_cells, output_dim]\n",
    "\n",
    "# Ensure the ordering of cells matches between z and target_features!\n",
    "output_dim = target_features.shape[1]\n",
    "print(f\"Predicting {target_modality} with output dim: {output_dim}\")"
   ]
  },
  {
   "cell_type": "code",
   "execution_count": 33,
   "id": "a118c657",
   "metadata": {},
   "outputs": [],
   "source": [
    "from torch.utils.data import TensorDataset, DataLoader\n",
    "\n",
    "# Create a dataset pairing the latent embeddings with the target modality features.\n",
    "dataset = TensorDataset(z.cpu(), target_features)\n",
    "downstream_loader = DataLoader(dataset, batch_size=256, shuffle=True)"
   ]
  },
  {
   "cell_type": "code",
   "execution_count": 34,
   "id": "e15067a0",
   "metadata": {},
   "outputs": [
    {
     "name": "stderr",
     "output_type": "stream",
     "text": [
      "INFO:pytorch_lightning.utilities.rank_zero:GPU available: True (cuda), used: True\n",
      "INFO:pytorch_lightning.utilities.rank_zero:TPU available: False, using: 0 TPU cores\n",
      "INFO:pytorch_lightning.utilities.rank_zero:HPU available: False, using: 0 HPUs\n",
      "INFO:pytorch_lightning.accelerators.cuda:LOCAL_RANK: 0 - CUDA_VISIBLE_DEVICES: [0]\n",
      "INFO:pytorch_lightning.callbacks.model_summary:\n",
      "  | Name      | Type                | Params | Mode \n",
      "----------------------------------------------------------\n",
      "0 | predictor | CrossModalPredictor | 902 K  | train\n",
      "----------------------------------------------------------\n",
      "902 K     Trainable params\n",
      "0         Non-trainable params\n",
      "902 K     Total params\n",
      "3.609     Total estimated model params size (MB)\n",
      "5         Modules in train mode\n",
      "0         Modules in eval mode\n"
     ]
    },
    {
     "name": "stdout",
     "output_type": "stream",
     "text": [
      "Epoch 49: 100%|██████████| 41/41 [00:01<00:00, 38.23it/s, v_num=4, train_loss=0.476, val_loss=0.423]"
     ]
    },
    {
     "name": "stderr",
     "output_type": "stream",
     "text": [
      "INFO:pytorch_lightning.utilities.rank_zero:`Trainer.fit` stopped: `max_epochs=50` reached.\n"
     ]
    },
    {
     "name": "stdout",
     "output_type": "stream",
     "text": [
      "Epoch 49: 100%|██████████| 41/41 [00:01<00:00, 36.92it/s, v_num=4, train_loss=0.476, val_loss=0.423]\n"
     ]
    }
   ],
   "source": [
    "from downstream_tasks.downstream import DownstreamLightningModule\n",
    "from pytorch_lightning import Trainer\n",
    "\n",
    "# Instantiate the downstream Lightning module.\n",
    "downstream_model = DownstreamLightningModule(latent_channels=z.shape[1], output_dim=output_dim, learning_rate=1e-3)\n",
    "\n",
    "# Train the predictor\n",
    "downstream_trainer = Trainer(max_epochs=50, accelerator=\"gpu\", devices=1)\n",
    "downstream_trainer.fit(downstream_model, train_dataloaders=downstream_loader, val_dataloaders=downstream_loader)"
   ]
  },
  {
   "cell_type": "code",
   "execution_count": 35,
   "id": "10464b71",
   "metadata": {},
   "outputs": [
    {
     "name": "stdout",
     "output_type": "stream",
     "text": [
      "Downstream Cross-Modal Prediction RMSE: 0.6504\n",
      "Pearson Correlation Coefficient: 0.4080\n"
     ]
    }
   ],
   "source": [
    "import torch.nn.functional as F\n",
    "import numpy as np\n",
    "from scipy.stats import pearsonr\n",
    "\n",
    "downstream_model.eval()\n",
    "with torch.no_grad():\n",
    "    predictions = downstream_model(z.cpu())  # Shape: [num_cells, output_dim]\n",
    "    mse_loss = F.mse_loss(predictions, target_features)\n",
    "    rmse = torch.sqrt(mse_loss)\n",
    "print(f\"Downstream Cross-Modal Prediction RMSE: {rmse.item():.4f}\")\n",
    "\n",
    "# Convert predictions and targets to numpy arrays for PCC calculations.\n",
    "pred_np = predictions.cpu().numpy().flatten()\n",
    "target_np = target_features.cpu().numpy().flatten()\n",
    "\n",
    "# Compute Pearson Correlation Coefficient (PCC)\n",
    "pcc, _ = pearsonr(pred_np, target_np)\n",
    "print(f\"Pearson Correlation Coefficient: {pcc:.4f}\")\n"
   ]
  },
  {
   "cell_type": "code",
   "execution_count": 36,
   "id": "e54a9295",
   "metadata": {},
   "outputs": [
    {
     "data": {
      "image/png": "[encoded data removed]",
      "text/plain": [
       "<Figure size 600x600 with 1 Axes>"
      ]
     },
     "metadata": {},
     "output_type": "display_data"
    }
   ],
   "source": [
    "import matplotlib.pyplot as plt\n",
    "\n",
    "plt.figure(figsize=(6,6))\n",
    "plt.scatter(target_np, pred_np, alpha=0.5)\n",
    "plt.plot([target_np.min(), target_np.max()], [target_np.min(), target_np.max()], 'r--')\n",
    "plt.xlabel(\"True Features\")\n",
    "plt.ylabel(\"Predicted Features\")\n",
    "plt.title(\"Scatter Plot: True vs. Predicted Modality Features\")\n",
    "plt.show()"
   ]
  },
  {
   "cell_type": "code",
   "execution_count": 37,
   "id": "7f783e67",
   "metadata": {},
   "outputs": [
    {
     "data": {
      "image/png": "[encoded data removed]",
      "text/plain": [
       "<Figure size 600x400 with 1 Axes>"
      ]
     },
     "metadata": {},
     "output_type": "display_data"
    }
   ],
   "source": [
    "residuals = target_np - pred_np\n",
    "plt.figure(figsize=(6,4))\n",
    "plt.hist(residuals, bins=50, alpha=0.7)\n",
    "plt.xlabel(\"Residual (True - Predicted)\")\n",
    "plt.title(\"Residual Histogram\")\n",
    "plt.show()"
   ]
  }
 ],
 "metadata": {
  "kernelspec": {
   "display_name": "MultiOmicsIntegration",
   "language": "python",
   "name": "python3"
  },
  "language_info": {
   "codemirror_mode": {
    "name": "ipython",
    "version": 3
   },
   "file_extension": ".py",
   "mimetype": "text/x-python",
   "name": "python",
   "nbconvert_exporter": "python",
   "pygments_lexer": "ipython3",
   "version": "3.11.11"
  }
 },
 "nbformat": 4,
 "nbformat_minor": 5
}
