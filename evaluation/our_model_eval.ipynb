{
 "cells": [
  {
   "metadata": {},
   "cell_type": "code",
   "outputs": [],
   "execution_count": null,
   "source": [
    "%load_ext autoreload\n",
    "%autoreload 2\n",
    "import sys\n",
    "import os\n",
    "sys.path.append(os.path.abspath(\"..\"))"
   ],
   "id": "540d78b00ae287e9"
  },
  {
   "metadata": {},
   "cell_type": "code",
   "outputs": [],
   "execution_count": null,
   "source": [
    "import torch\n",
    "import scanpy as sc"
   ],
   "id": "c58b4f84ab7df401"
  },
  {
   "metadata": {},
   "cell_type": "code",
   "outputs": [],
   "execution_count": null,
   "source": [
    "DATASET_NAME = \"PBMC-TEA\"\n",
    "BASE_DATA_DIR = os.path.join(\"..\", \"datasets\", \"data\", \"processed\")  \n",
    "DEVICE = torch.device('cuda' if torch.cuda.is_available() else 'cpu')\n",
    "import random\n",
    "import numpy as np\n",
    "random.seed(42)\n",
    "np.random.seed(42)\n",
    "torch.manual_seed(42)\n",
    "if torch.cuda.is_available():\n",
    "    torch.cuda.manual_seed_all(42)\n",
    "    torch.backends.cudnn.deterministic = True\n",
    "    torch.backends.cudnn.benchmark = False"
   ],
   "id": "e2dc405629b147b0"
  },
  {
   "metadata": {},
   "cell_type": "code",
   "outputs": [],
   "execution_count": null,
   "source": [
    "from utils.data_utils import dataset_config, load_dataset\n",
    "\n",
    "hetero_data, data_dict = load_dataset(DATASET_NAME, BASE_DATA_DIR, DEVICE)"
   ],
   "id": "e5bf5d2d280810cc"
  },
  {
   "metadata": {},
   "cell_type": "code",
   "outputs": [],
   "execution_count": null,
   "source": [
    "from utils.graph_utils import (\n",
    "    calculate_modality_jaccard,\n",
    "    plot_degree_distributions,\n",
    "    plot_modality_umaps\n",
    ")\n",
    "import matplotlib.pyplot as plt\n",
    "\n",
    "def visualize_individual_metrics(hetero_data, data_dict, config):\n",
    "    \"\"\"Visualize per-modality graph metrics using utils\"\"\"\n",
    "    modalities = config[\"modalities\"]\n",
    "    \n",
    "    # Calculate and print Jaccard scores\n",
    "    jaccard_results = {\n",
    "        m: calculate_modality_jaccard(hetero_data['cell', m, 'cell'].edge_index)\n",
    "        for m in modalities\n",
    "    }\n",
    "    print(\"Neighborhood Consistency Scores:\")\n",
    "    for mod, score in jaccard_results.items():\n",
    "        print(f\"- {mod}: {score:.3f}\")\n",
    "    \n",
    "    # Plot distributions\n",
    "    plot_degree_distributions(hetero_data, modalities)\n",
    "    plot_modality_umaps(data_dict, modalities)\n",
    "    \n",
    "    plt.show()\n",
    "\n",
    "# visualize_individual_metrics(hetero_data, data_dict, dataset_config[DATASET_NAME]) - run if you want to see metrics for individual modalities"
   ],
   "id": "fca8c5b39fb0586"
  },
  {
   "metadata": {},
   "cell_type": "code",
   "outputs": [],
   "execution_count": null,
   "source": [
    "import torch\n",
    "print(torch.__version__)          # e.g., 2.0.1\n",
    "print(torch.version.cuda)         # e.g., 11.7 (or \"None\" for CPU-only)"
   ],
   "id": "aa25c5176084966d"
  },
  {
   "metadata": {},
   "cell_type": "code",
   "outputs": [],
   "execution_count": null,
   "source": [
    "import torch\n",
    "print(torch.__version__)          # PyTorch version\n",
    "print(torch.cuda.is_available())  # Should return True if CUDA is available\n",
    "print(torch.version.cuda)         # CUDA version (e.g., 11.7)"
   ],
   "id": "a22bcfe8115c7f52"
  },
  {
   "metadata": {},
   "cell_type": "code",
   "outputs": [],
   "execution_count": null,
   "source": [
    "import scanpy as sc\n",
    "\n",
    "modalities = dataset_config[DATASET_NAME][\"modalities\"]\n",
    "print(modalities)\n",
    "\n",
    "data = {}\n",
    "\n",
    "for modality in modalities:\n",
    "    data[modality] = sc.read_h5ad(f\"./../datasets/data/processed/{DATASET_NAME}_{modality}.h5ad\")\n",
    "\n",
    "cell_metadata = data[modalities[0]].obs.copy()\n",
    "\n",
    "data"
   ],
   "id": "4e8ff8455150492d"
  },
  {
   "metadata": {},
   "cell_type": "code",
   "outputs": [],
   "execution_count": null,
   "source": [
    "import torch\n",
    "\n",
    "processed = {m: {'x': torch.tensor(data[m].X, dtype=torch.float)} for m in modalities}\n",
    "processed\n",
    "\n",
    "# processed = {m: {'x': torch.tensor(data[m].obsm['X_glue'], dtype=torch.float)} for m in modalities}\n",
    "# processed - for the match data with precomputed latent representations"
   ],
   "id": "81a80adf48abc908"
  },
  {
   "metadata": {},
   "cell_type": "code",
   "outputs": [],
   "execution_count": null,
   "source": [
    "from torch_geometric.data import HeteroData\n",
    "\n",
    "# (1) Assign attributes after initialization,\n",
    "hetero_data = HeteroData(processed)\n",
    "hetero_data['cell'].x = torch.cat([hetero_data[m].x for m in modalities], dim=1)\n",
    "hetero_data['cell'].metadata = cell_metadata \n",
    "hetero_data"
   ],
   "id": "725b5f4ba7f786d6"
  },
  {
   "metadata": {},
   "cell_type": "code",
   "outputs": [],
   "execution_count": null,
   "source": [
    "from torch_geometric.nn import knn_graph\n",
    "\n",
    "device = torch.device('cuda' if torch.cuda.is_available() else 'cpu')\n",
    "hetero_data = hetero_data.to(device)\n",
    "\n",
    "for m in modalities:\n",
    "    hetero_data['cell', m, 'cell'].edge_index = knn_graph(\n",
    "        hetero_data[m].x,\n",
    "        k=10,\n",
    "        cosine=True,\n",
    "        num_workers=16\n",
    "    )"
   ],
   "id": "457615ef802d0ba3"
  },
  {
   "metadata": {},
   "cell_type": "code",
   "outputs": [],
   "execution_count": null,
   "source": [
    "hetero_data = hetero_data.cpu() \n",
    "output_path = os.path.join(os.path.join(BASE_DATA_DIR, DATASET_NAME), f\"{DATASET_NAME}_processed.pt\")\n",
    "torch.save(hetero_data, output_path)\n",
    "print(f\"Saved processed data to {output_path}\")"
   ],
   "id": "d4cdac4b35797225"
  },
  {
   "metadata": {},
   "cell_type": "code",
   "outputs": [],
   "execution_count": null,
   "source": [
    "output_path = os.path.join(os.path.join(BASE_DATA_DIR, DATASET_NAME), f\"{DATASET_NAME}_processed.pt\")\n",
    "loaded_data = torch.load(output_path)\n",
    "hetero_data = loaded_data.to(DEVICE)  # Move back to GPU if needed"
   ],
   "id": "bf1a6a9baaa7836f"
  },
  {
   "metadata": {},
   "cell_type": "code",
   "outputs": [],
   "execution_count": null,
   "source": [
    "import torch\n",
    "from torch_geometric.loader import NeighborLoader\n",
    "\n",
    "device = torch.device('cuda' if torch.cuda.is_available() else 'cpu')\n",
    "hetero_data = hetero_data.to(device)\n",
    "\n",
    "num_cells = hetero_data['cell'].x.size(0)\n",
    "cell_idx = torch.arange(num_cells, device=device)\n",
    "\n",
    "neighbor_loader = NeighborLoader(\n",
    "    hetero_data,\n",
    "    num_neighbors={\n",
    "        ('cell', m, 'cell'): [5, 5] for m in modalities\n",
    "    },\n",
    "    input_nodes=('cell', cell_idx),\n",
    "    batch_size=256  # choose an appropriate batch size for your memory constraints\n",
    ")\n",
    "\n",
    "for batch in neighbor_loader:\n",
    "    print(batch)"
   ],
   "id": "e17ff0530f101bd7"
  },
  {
   "metadata": {},
   "cell_type": "code",
   "outputs": [],
   "execution_count": null,
   "source": [
    "from model.model import HeteroGraphAE, GraphAELightningModule\n",
    "# Hyperparameters.\n",
    "in_channels = hetero_data['cell'].x.size(1)\n",
    "hidden_channels = 512\n",
    "latent_channels = 512   # Dimensionality of the latent space.\n",
    "num_layers = 2\n",
    "learning_rate = 1e-4\n",
    "n_epochs = 500 # change to 500 for full training\n",
    "\n",
    "# Instantiate the Lightning module.\n",
    "model = GraphAELightningModule(\n",
    "    in_channels=in_channels,\n",
    "    hidden_channels=hidden_channels,\n",
    "    latent_channels=latent_channels,\n",
    "    modalities=modalities,\n",
    "    num_layers=num_layers,\n",
    "    learning_rate=learning_rate,\n",
    "    total_epochs=n_epochs,\n",
    "    warmup_epochs=3,\n",
    "    num_clusters=20,\n",
    "    clustering_weight=.01\n",
    ")"
   ],
   "id": "b268067147519b8e"
  },
  {
   "metadata": {},
   "cell_type": "code",
   "outputs": [],
   "execution_count": null,
   "source": [
    "from pytorch_lightning import Trainer\n",
    "from pytorch_lightning.callbacks import EarlyStopping, ModelCheckpoint\n",
    "\n",
    "checkpoint_callback = ModelCheckpoint(\n",
    "    monitor='train_loss',         # monitor your training loss\n",
    "    dirpath='checkpoints',        # directory to save checkpoints\n",
    "    filename='graph_ae-{epoch:02d}-{train_loss:.2f}',\n",
    "    save_top_k=1,                 # save the best model\n",
    "    mode='min'\n",
    ")\n",
    "\n",
    "early_stop_callback = EarlyStopping(\n",
    "    monitor='train_loss',\n",
    "    min_delta=0.001,\n",
    "    patience=3,\n",
    "    verbose=True,\n",
    "    mode='min'\n",
    ")\n",
    "\n",
    "trainer = Trainer(\n",
    "    max_epochs=n_epochs,\n",
    "    accelerator=\"gpu\",\n",
    "    devices=1,\n",
    "    callbacks=[early_stop_callback, checkpoint_callback]\n",
    ")\n",
    "trainer.fit(model, train_dataloaders=neighbor_loader)\n"
   ],
   "id": "9c76c815961ce046"
  },
  {
   "metadata": {},
   "cell_type": "code",
   "outputs": [],
   "execution_count": null,
   "source": [
    "# Inference on full data:\n",
    "model.eval()\n",
    "with torch.no_grad():\n",
    "    # Move data to the same device as the model.\n",
    "    hetero_data = hetero_data.to(model.device)\n",
    "    z = model(hetero_data)\n",
    "    # For example, reconstruct edge probabilities using one set of edges.\n",
    "    pos_edge_index = list(hetero_data.edge_index_dict.values())[0]\n",
    "    pred_edge_probs = model.model.decode(z, pos_edge_index)\n",
    "    print(f\"nde_embedding: {z}\")\n",
    "    print(\"Predicted edge probabilities:\", pred_edge_probs)\n"
   ],
   "id": "24511c9f86a2e25f"
  },
  {
   "metadata": {},
   "cell_type": "markdown",
   "source": "Evaluation metrics",
   "id": "6fa45b666f871aa7"
  },
  {
   "metadata": {},
   "cell_type": "code",
   "outputs": [],
   "execution_count": null,
   "source": [
    "latent_embedding = z.to('cpu').detach().numpy()\n",
    "adata_eval = sc.AnnData(X=latent_embedding, obs=hetero_data['cell'].metadata.copy())\n",
    "adata_eval.obsm[\"emb\"] = latent_embedding\n"
   ],
   "id": "dc497e4352485029"
  },
  {
   "metadata": {},
   "cell_type": "code",
   "outputs": [],
   "execution_count": null,
   "source": [
    "sc.pp.neighbors(adata_eval, use_rep='emb')         # Build neighbor graph using the latent embedding.\n",
    "sc.tl.louvain(adata_eval, resolution=0.5)            # Run Louvain clustering.\n",
    "sc.tl.umap(adata_eval)                               # Compute UMAP coordinates.\n",
    "sc.pl.embedding(adata_eval, color='louvain', basis='umap')  # Visualize the UMAP colored by Louvain clusters.\n"
   ],
   "id": "75e6a0acf2910541"
  },
  {
   "metadata": {},
   "cell_type": "code",
   "outputs": [],
   "execution_count": null,
   "source": [
    "gt = adata_eval.obs['celltype'].tolist()   # True labels.\n",
    "pred = adata_eval.obs['louvain'].tolist()     # Louvain cluster labels.\n",
    "\n",
    "from sklearn.metrics import adjusted_rand_score, normalized_mutual_info_score\n",
    "\n",
    "ari = adjusted_rand_score(gt, pred)\n",
    "nmi = normalized_mutual_info_score(gt, pred)\n",
    "\n",
    "print(\"Adjusted Rand Index:\", ari)\n",
    "print(\"Normalized Mutual Information:\", nmi)\n"
   ],
   "id": "fb0bb61a03c4dd16"
  },
  {
   "metadata": {},
   "cell_type": "code",
   "outputs": [],
   "execution_count": null,
   "source": [
    "results_dir = \"results\"\n",
    "metrics_dir = os.path.join(results_dir, \"metrics\")\n",
    "figures_dir = os.path.join(results_dir, \"figures\")\n",
    "\n",
    "os.makedirs(metrics_dir, exist_ok=True)\n",
    "os.makedirs(figures_dir, exist_ok=True)"
   ],
   "id": "e1350cee3be73967"
  },
  {
   "metadata": {},
   "cell_type": "code",
   "outputs": [],
   "execution_count": null,
   "source": [
    "metrics = {\n",
    "    \"dataset_name\": DATASET_NAME,\n",
    "    \"in_channels\": in_channels,\n",
    "    \"hidden_channels\": hidden_channels,\n",
    "    \"latent_channels\": latent_channels,\n",
    "    \"num_layers\": num_layers,\n",
    "    \"learning_rate\": learning_rate,\n",
    "    \"n_epochs\": n_epochs,\n",
    "    \"ARI\": ari,  \n",
    "    \"NMI\": nmi   \n",
    "}"
   ],
   "id": "9ce7492050300cd0"
  },
  {
   "metadata": {},
   "cell_type": "code",
   "outputs": [],
   "execution_count": null,
   "source": [
    "import pandas as pd\n",
    "\n",
    "# Convert the metrics dictionary into a DataFrame and save as CSV.\n",
    "df_metrics = pd.DataFrame([metrics])\n",
    "csv_file = os.path.join(metrics_dir, f\"{DATASET_NAME}_results.csv\")\n",
    "df_metrics.to_csv(csv_file, index=False)\n",
    "print(f\"Metrics saved to {csv_file}\")\n",
    "\n",
    "# Save the UMAP plot with Louvain clusters as a PNG.\n",
    "# Re-run the plotting command with show=False to capture the figure.\n",
    "sc.pl.embedding(adata_eval, color='louvain', basis='umap', show=False)\n",
    "# Save the current figure.\n",
    "umap_fig_path = os.path.join(figures_dir, \"umap_louvain.png\")\n",
    "plt.savefig(umap_fig_path)\n",
    "plt.close()\n",
    "print(f\"UMAP figure saved to {umap_fig_path}\")"
   ],
   "id": "6a2afe60d831f575"
  },
  {
   "metadata": {},
   "cell_type": "code",
   "outputs": [],
   "execution_count": null,
   "source": "",
   "id": "6cfeb9bb25fbb2b9"
  }
 ],
 "metadata": {
  "kernelspec": {
   "display_name": "MultiOmicsIntegration",
   "language": "python",
   "name": "python3"
  },
  "language_info": {
   "codemirror_mode": {
    "name": "ipython",
    "version": 3
   },
   "file_extension": ".py",
   "mimetype": "text/x-python",
   "name": "python",
   "nbconvert_exporter": "python",
   "pygments_lexer": "ipython3",
   "version": "3.11.11"
  }
 },
 "nbformat": 4,
 "nbformat_minor": 5
}
