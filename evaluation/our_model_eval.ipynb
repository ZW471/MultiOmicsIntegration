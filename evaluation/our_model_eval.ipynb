{
 "cells": [
  {
   "cell_type": "code",
   "execution_count": 20,
   "id": "df2d0222",
   "metadata": {},
   "outputs": [],
   "source": [
    "import sys\n",
    "import os\n",
    "sys.path.append(os.path.abspath(\"..\"))"
   ]
  },
  {
   "cell_type": "code",
   "execution_count": 21,
   "id": "7f3f1e4c",
   "metadata": {},
   "outputs": [],
   "source": [
    "import torch\n",
    "import scanpy as sc"
   ]
  },
  {
   "cell_type": "code",
   "execution_count": 22,
   "id": "3b0cfb0c",
   "metadata": {},
   "outputs": [],
   "source": [
    "DATASET_NAME = \"LUNG-CITE\"\n",
    "BASE_DATA_DIR = os.path.join(\"..\", \"datasets\", \"data\", \"processed\")  \n",
    "DEVICE = torch.device('cuda' if torch.cuda.is_available() else 'cpu')"
   ]
  },
  {
   "cell_type": "code",
   "execution_count": null,
   "id": "a2069d86",
   "metadata": {},
   "outputs": [],
   "source": [
    "from utils.data_utils import dataset_config, load_dataset\n",
    "\n",
    "hetero_data, data_dict = load_dataset(DATASET_NAME, BASE_DATA_DIR, DEVICE)"
   ]
  },
  {
   "cell_type": "code",
   "execution_count": 24,
   "id": "54add7c2",
   "metadata": {},
   "outputs": [],
   "source": [
    "from utils.graph_utils import (\n",
    "    calculate_modality_jaccard,\n",
    "    plot_degree_distributions,\n",
    "    plot_modality_umaps\n",
    ")\n",
    "import matplotlib.pyplot as plt\n",
    "\n",
    "def visualize_individual_metrics(hetero_data, data_dict, config):\n",
    "    \"\"\"Visualize per-modality graph metrics using utils\"\"\"\n",
    "    modalities = config[\"modalities\"]\n",
    "    \n",
    "    # Calculate and print Jaccard scores\n",
    "    jaccard_results = {\n",
    "        m: calculate_modality_jaccard(hetero_data['cell', m, 'cell'].edge_index)\n",
    "        for m in modalities\n",
    "    }\n",
    "    print(\"Neighborhood Consistency Scores:\")\n",
    "    for mod, score in jaccard_results.items():\n",
    "        print(f\"- {mod}: {score:.3f}\")\n",
    "    \n",
    "    # Plot distributions\n",
    "    plot_degree_distributions(hetero_data, modalities)\n",
    "    plot_modality_umaps(data_dict, modalities)\n",
    "    \n",
    "    plt.show()\n",
    "\n",
    "# visualize_individual_metrics(hetero_data, data_dict, dataset_config[DATASET_NAME]) - run if you want to see metrics for individual modalities"
   ]
  },
  {
   "cell_type": "code",
   "execution_count": null,
   "id": "334d31ec",
   "metadata": {},
   "outputs": [],
   "source": [
    "import torch\n",
    "print(torch.__version__)          # e.g., 2.0.1\n",
    "print(torch.version.cuda)         # e.g., 11.7 (or \"None\" for CPU-only)"
   ]
  },
  {
   "cell_type": "code",
   "execution_count": null,
   "id": "62ed527c",
   "metadata": {},
   "outputs": [],
   "source": [
    "import torch\n",
    "print(torch.__version__)          # PyTorch version\n",
    "print(torch.cuda.is_available())  # Should return True if CUDA is available\n",
    "print(torch.version.cuda)         # CUDA version (e.g., 11.7)"
   ]
  },
  {
   "cell_type": "code",
   "execution_count": null,
   "id": "initial_id",
   "metadata": {
    "ExecuteTime": {
     "end_time": "2025-02-28T16:34:48.195604Z",
     "start_time": "2025-02-28T16:34:48.108612Z"
    },
    "collapsed": true
   },
   "outputs": [],
   "source": [
    "import scanpy as sc\n",
    "\n",
    "modalities = dataset_config[DATASET_NAME][\"modalities\"]\n",
    "print(modalities)\n",
    "\n",
    "data = {}\n",
    "\n",
    "for modality in modalities:\n",
    "    data[modality] = sc.read_h5ad(f\"./../datasets/data/processed/{DATASET_NAME}_{modality}.h5ad\")\n",
    "\n",
    "cell_metadata = data[modalities[0]].obs.copy()\n",
    "\n",
    "data"
   ]
  },
  {
   "cell_type": "code",
   "execution_count": null,
   "id": "74954b8bf8d1f4d9",
   "metadata": {
    "ExecuteTime": {
     "end_time": "2025-02-28T16:34:48.210303Z",
     "start_time": "2025-02-28T16:34:48.201452Z"
    }
   },
   "outputs": [],
   "source": [
    "import torch\n",
    "\n",
    "processed = {m: {'x': torch.tensor(data[m].X, dtype=torch.float)} for m in modalities}\n",
    "processed\n",
    "\n",
    "# processed = {m: {'x': torch.tensor(data[m].obsm['X_glue'], dtype=torch.float)} for m in modalities}\n",
    "# processed - for the match data with precomputed latent representations"
   ]
  },
  {
   "cell_type": "code",
   "execution_count": null,
   "id": "36e6dc14a930f6ae",
   "metadata": {
    "ExecuteTime": {
     "end_time": "2025-02-28T16:34:48.222694Z",
     "start_time": "2025-02-28T16:34:48.216310Z"
    }
   },
   "outputs": [],
   "source": [
    "from torch_geometric.data import HeteroData\n",
    "\n",
    "# (1) Assign attributes after initialization,\n",
    "hetero_data = HeteroData(processed)\n",
    "hetero_data['cell'].x = torch.cat([hetero_data[m].x for m in modalities], dim=1)\n",
    "hetero_data['cell'].metadata = cell_metadata \n",
    "hetero_data"
   ]
  },
  {
   "cell_type": "code",
   "execution_count": 30,
   "id": "fe79c31068e1b827",
   "metadata": {
    "ExecuteTime": {
     "end_time": "2025-02-28T16:34:49.448389Z",
     "start_time": "2025-02-28T16:34:48.232580Z"
    }
   },
   "outputs": [],
   "source": [
    "from torch_geometric.nn import knn_graph\n",
    "\n",
    "device = torch.device('cuda' if torch.cuda.is_available() else 'cpu')\n",
    "hetero_data = hetero_data.to(device)\n",
    "\n",
    "for m in modalities:\n",
    "    hetero_data['cell', m, 'cell'].edge_index = knn_graph(\n",
    "        hetero_data[m].x,\n",
    "        k=10,\n",
    "        cosine=True,\n",
    "        num_workers=16\n",
    "    )"
   ]
  },
  {
   "cell_type": "code",
   "execution_count": null,
   "id": "c9b2eacf351a6929",
   "metadata": {
    "ExecuteTime": {
     "end_time": "2025-02-28T16:34:49.458739Z",
     "start_time": "2025-02-28T16:34:49.455655Z"
    }
   },
   "outputs": [],
   "source": [
    "hetero_data = hetero_data.cpu() \n",
    "output_path = os.path.join(os.path.join(BASE_DATA_DIR, DATASET_NAME), f\"{DATASET_NAME}_processed.pt\")\n",
    "torch.save(hetero_data, output_path)\n",
    "print(f\"Saved processed data to {output_path}\")"
   ]
  },
  {
   "cell_type": "code",
   "execution_count": null,
   "id": "f72bf4d1",
   "metadata": {},
   "outputs": [],
   "source": [
    "output_path = os.path.join(os.path.join(BASE_DATA_DIR, DATASET_NAME), f\"{DATASET_NAME}_processed.pt\")\n",
    "loaded_data = torch.load(output_path)\n",
    "hetero_data = loaded_data.to(DEVICE)  # Move back to GPU if needed"
   ]
  },
  {
   "cell_type": "code",
   "execution_count": null,
   "id": "fc8e1d757c4a98a5",
   "metadata": {
    "ExecuteTime": {
     "end_time": "2025-02-28T16:34:49.580937Z",
     "start_time": "2025-02-28T16:34:49.476968Z"
    }
   },
   "outputs": [],
   "source": [
    "import torch\n",
    "from torch_geometric.loader import NeighborLoader\n",
    "\n",
    "device = torch.device('cuda' if torch.cuda.is_available() else 'cpu')\n",
    "hetero_data = hetero_data.to(device)\n",
    "\n",
    "num_cells = hetero_data['cell'].x.size(0)\n",
    "cell_idx = torch.arange(num_cells, device=device)\n",
    "\n",
    "neighbor_loader = NeighborLoader(\n",
    "    hetero_data,\n",
    "    num_neighbors={\n",
    "        ('cell', m, 'cell'): [5, 5] for m in modalities\n",
    "    },\n",
    "    input_nodes=('cell', cell_idx),\n",
    "    batch_size=64  # choose an appropriate batch size for your memory constraints\n",
    ")\n",
    "\n",
    "for batch in neighbor_loader:\n",
    "    print(batch)"
   ]
  },
  {
   "cell_type": "code",
   "execution_count": 34,
   "id": "0af43945",
   "metadata": {},
   "outputs": [],
   "source": [
    "from model.model import HeteroGraphAE, GraphAELightningModule"
   ]
  },
  {
   "cell_type": "code",
   "execution_count": 35,
   "id": "4c861c97d2b1e2ca",
   "metadata": {
    "ExecuteTime": {
     "end_time": "2025-02-28T16:37:19.020268Z",
     "start_time": "2025-02-28T16:35:38.631565Z"
    }
   },
   "outputs": [],
   "source": [
    "# Hyperparameters.\n",
    "in_channels = hetero_data['cell'].x.size(1)\n",
    "hidden_channels = 512\n",
    "latent_channels = 256   # Dimensionality of the latent space.\n",
    "num_layers = 2\n",
    "learning_rate = 1e-3\n",
    "n_epochs = 1 # change to 500 for full training\n",
    "\n",
    "# Instantiate the Lightning module.\n",
    "model = GraphAELightningModule(\n",
    "    in_channels=in_channels,\n",
    "    hidden_channels=hidden_channels,\n",
    "    latent_channels=latent_channels,\n",
    "    modalities=modalities,\n",
    "    num_layers=num_layers,\n",
    "    learning_rate=learning_rate,\n",
    "    total_epochs=n_epochs,\n",
    "    warmup_epochs=10,\n",
    "    num_clusters=20,\n",
    "    clustering_weight=.1\n",
    ")"
   ]
  },
  {
   "cell_type": "code",
   "execution_count": null,
   "id": "8ecbdee9",
   "metadata": {},
   "outputs": [],
   "source": [
    "from pytorch_lightning import Trainer\n",
    "from pytorch_lightning.callbacks import EarlyStopping, ModelCheckpoint\n",
    "\n",
    "checkpoint_callback = ModelCheckpoint(\n",
    "    monitor='train_loss',         # monitor your training loss\n",
    "    dirpath='checkpoints',        # directory to save checkpoints\n",
    "    filename='graph_ae-{epoch:02d}-{train_loss:.2f}',\n",
    "    save_top_k=1,                 # save the best model\n",
    "    mode='min'\n",
    ")\n",
    "\n",
    "early_stop_callback = EarlyStopping(\n",
    "    monitor='train_loss',\n",
    "    min_delta=0.001,\n",
    "    patience=3,\n",
    "    verbose=True,\n",
    "    mode='min'\n",
    ")\n",
    "\n",
    "trainer = Trainer(\n",
    "    max_epochs=n_epochs,\n",
    "    accelerator=\"gpu\",\n",
    "    devices=1,\n",
    "    callbacks=[early_stop_callback, checkpoint_callback]\n",
    ")\n",
    "trainer.fit(model, train_dataloaders=neighbor_loader)\n"
   ]
  },
  {
   "cell_type": "code",
   "execution_count": null,
   "id": "b2d08f510e0be586",
   "metadata": {
    "ExecuteTime": {
     "end_time": "2025-02-28T16:41:26.044790Z",
     "start_time": "2025-02-28T16:41:25.572896Z"
    }
   },
   "outputs": [],
   "source": [
    "# Inference on full data:\n",
    "model.eval()\n",
    "with torch.no_grad():\n",
    "    # Move data to the same device as the model.\n",
    "    hetero_data = hetero_data.to(model.device)\n",
    "    z = model(hetero_data)\n",
    "    # For example, reconstruct edge probabilities using one set of edges.\n",
    "    pos_edge_index = list(hetero_data.edge_index_dict.values())[0]\n",
    "    pred_edge_probs = model.model.decode(z, pos_edge_index)\n",
    "    print(f\"nde_embedding: {z}\")\n",
    "    print(\"Predicted edge probabilities:\", pred_edge_probs)\n"
   ]
  },
  {
   "cell_type": "markdown",
   "id": "d2585789",
   "metadata": {},
   "source": [
    "Evaluation metrics"
   ]
  },
  {
   "cell_type": "code",
   "execution_count": 58,
   "id": "a19ad394",
   "metadata": {},
   "outputs": [],
   "source": [
    "latent_embedding = z\n",
    "adata_eval = sc.AnnData(X=latent_embedding, obs=hetero_data['cell'].metadata.copy())\n",
    "adata_eval.obsm[\"emb\"] = latent_embedding\n"
   ]
  },
  {
   "cell_type": "code",
   "execution_count": null,
   "id": "ed92c9da",
   "metadata": {},
   "outputs": [],
   "source": [
    "sc.pp.neighbors(adata_eval, use_rep='emb')         # Build neighbor graph using the latent embedding.\n",
    "sc.tl.louvain(adata_eval, resolution=0.5)            # Run Louvain clustering.\n",
    "sc.tl.umap(adata_eval)                               # Compute UMAP coordinates.\n",
    "sc.pl.embedding(adata_eval, color='louvain', basis='umap')  # Visualize the UMAP colored by Louvain clusters.\n"
   ]
  },
  {
   "cell_type": "code",
   "execution_count": null,
   "id": "1f4b8ba2",
   "metadata": {},
   "outputs": [],
   "source": [
    "gt = adata_eval.obs['celltype'].tolist()   # True labels.\n",
    "pred = adata_eval.obs['louvain'].tolist()     # Louvain cluster labels.\n",
    "\n",
    "from sklearn.metrics import adjusted_rand_score, normalized_mutual_info_score\n",
    "\n",
    "ari = adjusted_rand_score(gt, pred)\n",
    "nmi = normalized_mutual_info_score(gt, pred)\n",
    "\n",
    "print(\"Adjusted Rand Index:\", ari)\n",
    "print(\"Normalized Mutual Information:\", nmi)\n"
   ]
  },
  {
   "cell_type": "code",
   "execution_count": 62,
   "id": "230745a7",
   "metadata": {},
   "outputs": [],
   "source": [
    "results_dir = \"results\"\n",
    "metrics_dir = os.path.join(results_dir, \"metrics\")\n",
    "figures_dir = os.path.join(results_dir, \"figures\")\n",
    "\n",
    "os.makedirs(metrics_dir, exist_ok=True)\n",
    "os.makedirs(figures_dir, exist_ok=True)"
   ]
  },
  {
   "cell_type": "code",
   "execution_count": 63,
   "id": "6bfc5dfe",
   "metadata": {},
   "outputs": [],
   "source": [
    "metrics = {\n",
    "    \"dataset_name\": DATASET_NAME,\n",
    "    \"in_channels\": in_channels,\n",
    "    \"hidden_channels\": hidden_channels,\n",
    "    \"latent_channels\": latent_channels,\n",
    "    \"num_layers\": num_layers,\n",
    "    \"learning_rate\": learning_rate,\n",
    "    \"n_epochs\": n_epochs,\n",
    "    \"ARI\": ari,  \n",
    "    \"NMI\": nmi   \n",
    "}"
   ]
  },
  {
   "cell_type": "code",
   "execution_count": null,
   "id": "55d3463d",
   "metadata": {},
   "outputs": [],
   "source": [
    "import pandas as pd\n",
    "\n",
    "# Convert the metrics dictionary into a DataFrame and save as CSV.\n",
    "df_metrics = pd.DataFrame([metrics])\n",
    "csv_file = os.path.join(metrics_dir, f\"{DATASET_NAME}_results.csv\")\n",
    "df_metrics.to_csv(csv_file, index=False)\n",
    "print(f\"Metrics saved to {csv_file}\")\n",
    "\n",
    "# Save the UMAP plot with Louvain clusters as a PNG.\n",
    "# Re-run the plotting command with show=False to capture the figure.\n",
    "sc.pl.embedding(adata_eval, color='louvain', basis='umap', show=False)\n",
    "# Save the current figure.\n",
    "umap_fig_path = os.path.join(figures_dir, \"umap_louvain.png\")\n",
    "plt.savefig(umap_fig_path)\n",
    "plt.close()\n",
    "print(f\"UMAP figure saved to {umap_fig_path}\")"
   ]
  }
 ],
 "metadata": {
  "kernelspec": {
   "display_name": "MultiOmicsIntegration",
   "language": "python",
   "name": "python3"
  },
  "language_info": {
   "codemirror_mode": {
    "name": "ipython",
    "version": 3
   },
   "file_extension": ".py",
   "mimetype": "text/x-python",
   "name": "python",
   "nbconvert_exporter": "python",
   "pygments_lexer": "ipython3",
   "version": "3.11.11"
  }
 },
 "nbformat": 4,
 "nbformat_minor": 5
}
